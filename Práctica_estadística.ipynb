{
  "nbformat": 4,
  "nbformat_minor": 0,
  "metadata": {
    "kernelspec": {
      "display_name": "Python 3",
      "language": "python",
      "name": "python3"
    },
    "language_info": {
      "codemirror_mode": {
        "name": "ipython",
        "version": 3
      },
      "file_extension": ".py",
      "mimetype": "text/x-python",
      "name": "python",
      "nbconvert_exporter": "python",
      "pygments_lexer": "ipython3",
      "version": "3.8.5"
    },
    "colab": {
      "provenance": [],
      "include_colab_link": true
    }
  },
  "cells": [
    {
      "cell_type": "markdown",
      "metadata": {
        "id": "view-in-github",
        "colab_type": "text"
      },
      "source": [
        "<a href=\"https://colab.research.google.com/github/fridaruh/ML_and_IA_for_Finance/blob/master/Pr%C3%A1ctica_estad%C3%ADstica.ipynb\" target=\"_parent\"><img src=\"https://colab.research.google.com/assets/colab-badge.svg\" alt=\"Open In Colab\"/></a>"
      ]
    },
    {
      "cell_type": "markdown",
      "metadata": {
        "id": "1kyDqMpPMOmw"
      },
      "source": [
        "# Pre-work"
      ]
    },
    {
      "cell_type": "markdown",
      "metadata": {
        "id": "Z8xnew8kMOm0"
      },
      "source": [
        "### Set de Datos de Airbnb CDMX"
      ]
    },
    {
      "cell_type": "markdown",
      "metadata": {
        "id": "IJ87rF_RMOm0"
      },
      "source": [
        "Descarga los archivos .csv que se encuentran en la siguiente carpeta de Google Drive: https://drive.google.com/drive/folders/1CS1p-tPanL4uqOtXqgnHDSxXa99wXHhJ?usp=sharing\n",
        "\n",
        "Estos archivos son una selección de columnas diseñadas para el pre-work 3 del curso tomando la última actualización de datos de Airbnb para las habitaciones/casas/departamentos listados en la CDMX. Si quieres visualizar las fuentes de información originales consulta: http://insideairbnb.com/get-the-data.html"
      ]
    },
    {
      "cell_type": "markdown",
      "metadata": {
        "id": "-nZ4PKUAMOm1"
      },
      "source": [
        "### Sobre el archivo listings.csv"
      ]
    },
    {
      "cell_type": "markdown",
      "metadata": {
        "id": "mKBU0K8-MOm1"
      },
      "source": [
        "\n",
        "El set de datos **listings** contiene las siguientes columnas:\n",
        "\n",
        "- **id_listing:** Id del anuncio listado\n",
        "- **listing_url:** URL del anuncio\n",
        "- **name:** Nombre del anuncio\n",
        "- **description:** Descripción del anuncio\n",
        "- **host_id:** Id del anfitrión\n",
        "- **host_url:** URL del perfil del anfitrión\n",
        "- **host_name:** Nombre del anfitrión\n",
        "- **host_since:** Fecha desde la que empezó a ser anfitrión en Airbnb\n",
        "- **host_location:** Ciudad donde vive el anfitrión\n",
        "- **host_response_time:** Tiempo de respuesta del anfitrión\n",
        "- **host_is_superhost:** Bandera que se marca como \"verdadero\" si el anfitrión tiene una marca de reconocimiento como \"super anfitrión\" asignada por Airbnb\n",
        "- **host_neighbourhood:** Colonia donde se encuentra la propiedad listado\n",
        "- **host_identity_verified:** Bandera que se marca como \"verdadero\" si el anfitrión ha utilizado algún documento oficial para validar su identidad\n",
        "- **neighbourhood:** Ciudad donde se encuentra la propiedad listada\n",
        "- **neighbourhood_cleansed:** Delegación donde se encuentra la propiedad listado\n",
        "- **property_type:** Tipo de propiedad que se muestra en el anuncio\n",
        "- **room_type:** Tipo de habitación\n",
        "- **accommodates:** Número de personas que se permiten en la propiedad\n",
        "- **bedrooms:** Número de habitaciones disponibles\n",
        "- **beds:** Número de camas disponibles\n",
        "- **price:** Precio por noche de estadía\n",
        "- **minimum_nights:** Noches mínimas que se necesitan para hacer la reservación\n",
        "- **maximum_nights:** Noches máximas que puede reservar una persona\n",
        "- **has_availability:** Disponibilidad de la propiedad\n",
        "- **availability_30:** Número de días que estuvo disponible los últimos 30 días\n",
        "- **availability_60:** Número de días que estuvo disponible los últimos 60 días\n",
        "- **availability_90:** Número de días que estuvo disponible los últimos 90 días\n",
        "- **availability_365:** Número de días que estuvo disponible los últimos 365 días\n"
      ]
    },
    {
      "cell_type": "markdown",
      "metadata": {
        "id": "TfmUbvr3MOm2"
      },
      "source": [
        "### Sobre el archivo reviews.csv"
      ]
    },
    {
      "cell_type": "markdown",
      "metadata": {
        "id": "7nGeHcyXMOm2"
      },
      "source": [
        "El set de datos **reviews** contiene las siguientes columnas:\n",
        "\n",
        "- **id_listing:** Id del anuncio listado\n",
        "- **number_of_reviews_l30d:** Número de reseñas recibidas los últimos 30 días\n",
        "- **review_scores_rating:** Calificación total de las reseñas considerando reseñas individuales\n",
        "- **review_scores_accuracy:** Calificación obtenida de la reseña en el concepto \"precicisión\" del anuncio\n",
        "- **review_scores_cleanliness:** Calificación obtenida de la reseña en el concepto \"limpieza\" de la propiedad\n",
        "- **review_scores_checkin:** Calificación obtenida de la reseña en el concepto \"checkin\" de la propiedad\n",
        "- **review_scores_communication:** Calificación obtenida de la reseña en el concepto \"comunicación\" con el anfitrión\n",
        "- **review_scores_location:** Calificación obtenida de la reseña en el concepto \"ubicación\" de la propiedad\n",
        "- **review_scores_value:** Calificación obtenida de la reseña en el concepto \"valor\" de la propiedad\n",
        "- **instant_bookable:** Bandera que se marca como \"verdadero\" si permite reservaciones inmediatas\n",
        "- **reviews_per_month:** Promedio de reseñas recibidas de manera mensual"
      ]
    },
    {
      "cell_type": "markdown",
      "metadata": {
        "id": "8CU1nWiaMOm4"
      },
      "source": [
        "Monta tu carpeta de Google Drive para poder acceder a los archivos"
      ]
    },
    {
      "cell_type": "code",
      "metadata": {
        "id": "A9Gk5KLbMOm5"
      },
      "source": [],
      "execution_count": null,
      "outputs": []
    },
    {
      "cell_type": "markdown",
      "metadata": {
        "id": "14zhm-sAMOm6"
      },
      "source": [
        "Importa la librería de pandas y asígnale el nombre de \"pd\" y la librería de numpy con el nombre \"np\""
      ]
    },
    {
      "cell_type": "code",
      "metadata": {
        "id": "MHDlP0I1MOm6"
      },
      "source": [],
      "execution_count": null,
      "outputs": []
    },
    {
      "cell_type": "markdown",
      "metadata": {
        "id": "W8L92nHHMOm6"
      },
      "source": [
        "Carga las bases asignando el archivo listings.csv a la variable listings y el archivo reviews.csv a la variable reviews"
      ]
    },
    {
      "cell_type": "code",
      "metadata": {
        "id": "m8d2LISVMOm7"
      },
      "source": [],
      "execution_count": null,
      "outputs": []
    },
    {
      "cell_type": "markdown",
      "metadata": {
        "id": "2QuhunfMMOm7"
      },
      "source": [
        "Obtén el número de filas y columnas que tiene cada set de datos que cargaste (review y listings)"
      ]
    },
    {
      "cell_type": "code",
      "metadata": {
        "id": "Bp20LDJQMOm7"
      },
      "source": [],
      "execution_count": null,
      "outputs": []
    },
    {
      "cell_type": "code",
      "metadata": {
        "id": "61f7CZpaMOm7"
      },
      "source": [],
      "execution_count": null,
      "outputs": []
    },
    {
      "cell_type": "markdown",
      "metadata": {
        "id": "amY5rqCLMOm7"
      },
      "source": [
        "Obtén las estadísticas básicas del set de datos listings tanto de las variables cuantitativas como las cualitativas"
      ]
    },
    {
      "cell_type": "code",
      "metadata": {
        "id": "TxHV7rEjMOm8"
      },
      "source": [],
      "execution_count": null,
      "outputs": []
    },
    {
      "cell_type": "markdown",
      "metadata": {
        "id": "SnEasXrgMOm8"
      },
      "source": [
        "Obtén el registro completo del anuncio listado en la posición 10,000.\n",
        "**(Opcional)** Da click en listing_url para validar que existe el anuncio en el sitio público de Airbnb"
      ]
    },
    {
      "cell_type": "code",
      "metadata": {
        "id": "fVkMoiWnMOm8"
      },
      "source": [],
      "execution_count": null,
      "outputs": []
    },
    {
      "cell_type": "markdown",
      "metadata": {
        "id": "NpEBsIFMMOm8"
      },
      "source": [
        "Obtén el nombre del host del anuncio listado en la posición 18,000"
      ]
    },
    {
      "cell_type": "code",
      "metadata": {
        "id": "ImGcpYiOMOm8"
      },
      "source": [],
      "execution_count": null,
      "outputs": []
    },
    {
      "cell_type": "markdown",
      "metadata": {
        "id": "oze-ciS5MOm8"
      },
      "source": [
        "Muestra los registros que se encuentran en la posición 15,000 - 15,010"
      ]
    },
    {
      "cell_type": "code",
      "metadata": {
        "id": "MQ_TFwcRMOm9"
      },
      "source": [],
      "execution_count": null,
      "outputs": []
    },
    {
      "cell_type": "markdown",
      "metadata": {
        "id": "ku51kBSMMOm9"
      },
      "source": [
        "Crea una variable de control llamada \"ones\" con el valor de 1 en el set de datos listings"
      ]
    },
    {
      "cell_type": "code",
      "metadata": {
        "id": "nwA3lUhPMOm9"
      },
      "source": [],
      "execution_count": null,
      "outputs": []
    },
    {
      "cell_type": "markdown",
      "metadata": {
        "id": "daxky2M5MOm9"
      },
      "source": [
        "Obtén cuántos anuncios listados hay por cada tipo de propiedad (property_type). Tip: Recuerda que el uso de la columna \"ones\" nos ayuda a poder agrupar con la funcion .sum()"
      ]
    },
    {
      "cell_type": "code",
      "metadata": {
        "id": "z8dpnC41MOm9"
      },
      "source": [],
      "execution_count": null,
      "outputs": []
    },
    {
      "cell_type": "markdown",
      "metadata": {
        "id": "yd-pEWzOMOm9"
      },
      "source": [
        "El resultado anterior ordenalo de mayor a menor.\n",
        "\n",
        "Tip: Recuerda que puedes agregar función sobre función y que a la función para ordenar necesitarás decirle un parámetro adicional que es **by=** Este parametro te pedirá una columna para saber sobre qué columna se ordena"
      ]
    },
    {
      "cell_type": "code",
      "metadata": {
        "id": "Ch92HnstMOm9"
      },
      "source": [],
      "execution_count": null,
      "outputs": []
    },
    {
      "cell_type": "markdown",
      "metadata": {
        "id": "U5m2km2yMOm9"
      },
      "source": [
        "Responde: ¿Qué tipo de propiedad tiene más anuncios listados en la base de Airbnb CDMX?"
      ]
    },
    {
      "cell_type": "markdown",
      "metadata": {
        "id": "6Hnqewn-MOm9"
      },
      "source": []
    },
    {
      "cell_type": "markdown",
      "metadata": {
        "id": "qSakqjBRMOm9"
      },
      "source": [
        "Ejecuta las siguientes líneas que hacen lo siguiente:\n",
        "\n",
        "1) Reemplaza el signo de $ por '', es decir por vacío\n",
        "2) Reemplaza \".00\" que tiene la columna del precio final por ''\n",
        "3) Reemplaza las comas por el ''\n",
        "\n",
        "Esto para que nos deje solamente el valor númerico, es decir, va de $10,000 --> 10000\n",
        "\n",
        "Finalmente, la siguiente línea usa una función de pandas llamada to_numeric, que lo que hace es que convierte esos valores que antes eran \"string\" a \"float\" es decir números con o sin decimales."
      ]
    },
    {
      "cell_type": "code",
      "metadata": {
        "id": "PZdHZLY_MOm-"
      },
      "source": [
        "listings['price'] = listings['price'].apply(lambda x: x.replace('$',''))\n",
        "listings['price'] = listings['price'].apply(lambda x: x.replace('.00',''))\n",
        "listings['price'] = listings['price'].apply(lambda x: x.replace(',',''))"
      ],
      "execution_count": null,
      "outputs": []
    },
    {
      "cell_type": "code",
      "metadata": {
        "id": "B0K2QD7NMOm-"
      },
      "source": [
        "listings['price'] = pd.to_numeric(listings['price'], errors='coerce')"
      ],
      "execution_count": null,
      "outputs": []
    },
    {
      "cell_type": "markdown",
      "metadata": {
        "id": "myxRdSsdMOm-"
      },
      "source": [
        "**Hagamos una hipótesis: El precio que vemos en el anuncio, no es la cantidad completa que recibe el anfitrión tras haber obtenido una reservación.**\n",
        "\n",
        "Haz una función llamada earning que reciba de argumento \"price\" y que la fórmula que estés aplicando esa función el precio menos una tasa de impuestos del 30%.\n",
        "\n",
        "Tip: y = price * 0.7"
      ]
    },
    {
      "cell_type": "code",
      "metadata": {
        "id": "EJBf7awSMOm_"
      },
      "source": [],
      "execution_count": null,
      "outputs": []
    },
    {
      "cell_type": "markdown",
      "metadata": {
        "id": "s_qkAgK6MOm_"
      },
      "source": [
        "Una vez que has creado esta función, crea una nueva columna al set de datos llamada **'real_earning'** donde utilices la función que definiste arriba para calcular la ganancia real del anfitrión."
      ]
    },
    {
      "cell_type": "code",
      "metadata": {
        "id": "dm8BoeWpMOm_"
      },
      "source": [],
      "execution_count": null,
      "outputs": []
    },
    {
      "cell_type": "markdown",
      "metadata": {
        "id": "fdB1_yUDMOm_"
      },
      "source": [
        "Imprime los primeros 5 registros de la columna 'price' y 'real_earning' para verificar que la columna haya sido creada de manera exitosa."
      ]
    },
    {
      "cell_type": "code",
      "metadata": {
        "id": "pG_Zvz2QMOm_"
      },
      "source": [],
      "execution_count": null,
      "outputs": []
    },
    {
      "cell_type": "markdown",
      "metadata": {
        "id": "lQNBngIFMOm_"
      },
      "source": [
        "Obtén las estadísticas de la columna 'price' para saber cuál es el valor mínimo y máximo de la columna."
      ]
    },
    {
      "cell_type": "code",
      "metadata": {
        "id": "1jYFnLUeMOm_"
      },
      "source": [],
      "execution_count": null,
      "outputs": []
    }
  ]
}
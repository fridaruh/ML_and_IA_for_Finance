{
  "nbformat": 4,
  "nbformat_minor": 0,
  "metadata": {
    "colab": {
      "provenance": [],
      "include_colab_link": true
    },
    "kernelspec": {
      "name": "python3",
      "display_name": "Python 3"
    },
    "language_info": {
      "name": "python"
    }
  },
  "cells": [
    {
      "cell_type": "markdown",
      "metadata": {
        "id": "view-in-github",
        "colab_type": "text"
      },
      "source": [
        "<a href=\"https://colab.research.google.com/github/fridaruh/ML_and_IA_for_Finance/blob/master/indian_food.ipynb\" target=\"_parent\"><img src=\"https://colab.research.google.com/assets/colab-badge.svg\" alt=\"Open In Colab\"/></a>"
      ]
    },
    {
      "cell_type": "markdown",
      "metadata": {
        "id": "g78zixUXdU4X"
      },
      "source": [
        "# Carga de librerías"
      ]
    },
    {
      "cell_type": "markdown",
      "source": [
        "Usaremos la librería de pandas y numpy"
      ],
      "metadata": {
        "id": "Pkb-ZxB59cye"
      }
    },
    {
      "cell_type": "code",
      "metadata": {
        "id": "ORDtpbwgctTD"
      },
      "source": [
        "import pandas as pd"
      ],
      "execution_count": null,
      "outputs": []
    },
    {
      "cell_type": "code",
      "metadata": {
        "id": "zONUzp9odx7t"
      },
      "source": [
        "import numpy as np"
      ],
      "execution_count": null,
      "outputs": []
    },
    {
      "cell_type": "code",
      "source": [
        "from google.colab import drive\n",
        "drive.mount('/content/drive')"
      ],
      "metadata": {
        "colab": {
          "base_uri": "https://localhost:8080/"
        },
        "id": "Q2BLoOr7FYuo",
        "outputId": "26f9e9e9-6b4e-45c8-f338-f6bef47980b7"
      },
      "execution_count": null,
      "outputs": [
        {
          "output_type": "stream",
          "name": "stdout",
          "text": [
            "Mounted at /content/drive\n"
          ]
        }
      ]
    },
    {
      "cell_type": "code",
      "metadata": {
        "id": "DNZGFuZod7cF"
      },
      "source": [
        "df = pd.read_csv('content/drive/VD/indian_food.csv')"
      ],
      "execution_count": null,
      "outputs": []
    },
    {
      "cell_type": "code",
      "metadata": {
        "colab": {
          "base_uri": "https://localhost:8080/"
        },
        "id": "oY4aZ6ehfmTb",
        "outputId": "ecf473aa-f894-4cfb-b0a2-9c5df0166010"
      },
      "source": [
        "df.shape"
      ],
      "execution_count": null,
      "outputs": [
        {
          "output_type": "execute_result",
          "data": {
            "text/plain": [
              "(255, 9)"
            ]
          },
          "metadata": {
            "tags": []
          },
          "execution_count": 5
        }
      ]
    },
    {
      "cell_type": "code",
      "metadata": {
        "colab": {
          "base_uri": "https://localhost:8080/",
          "height": 204
        },
        "id": "DgACnxBsf4m1",
        "outputId": "4029362b-2ca3-48d2-86e3-847b9a87830d"
      },
      "source": [
        "df.head()"
      ],
      "execution_count": null,
      "outputs": [
        {
          "output_type": "execute_result",
          "data": {
            "text/html": [
              "<div>\n",
              "<style scoped>\n",
              "    .dataframe tbody tr th:only-of-type {\n",
              "        vertical-align: middle;\n",
              "    }\n",
              "\n",
              "    .dataframe tbody tr th {\n",
              "        vertical-align: top;\n",
              "    }\n",
              "\n",
              "    .dataframe thead th {\n",
              "        text-align: right;\n",
              "    }\n",
              "</style>\n",
              "<table border=\"1\" class=\"dataframe\">\n",
              "  <thead>\n",
              "    <tr style=\"text-align: right;\">\n",
              "      <th></th>\n",
              "      <th>name</th>\n",
              "      <th>ingredients</th>\n",
              "      <th>diet</th>\n",
              "      <th>prep_time</th>\n",
              "      <th>cook_time</th>\n",
              "      <th>flavor_profile</th>\n",
              "      <th>course</th>\n",
              "      <th>state</th>\n",
              "      <th>region</th>\n",
              "    </tr>\n",
              "  </thead>\n",
              "  <tbody>\n",
              "    <tr>\n",
              "      <th>0</th>\n",
              "      <td>Balu shahi</td>\n",
              "      <td>Maida flour, yogurt, oil, sugar</td>\n",
              "      <td>vegetarian</td>\n",
              "      <td>45</td>\n",
              "      <td>25</td>\n",
              "      <td>sweet</td>\n",
              "      <td>dessert</td>\n",
              "      <td>West Bengal</td>\n",
              "      <td>East</td>\n",
              "    </tr>\n",
              "    <tr>\n",
              "      <th>1</th>\n",
              "      <td>Boondi</td>\n",
              "      <td>Gram flour, ghee, sugar</td>\n",
              "      <td>vegetarian</td>\n",
              "      <td>80</td>\n",
              "      <td>30</td>\n",
              "      <td>sweet</td>\n",
              "      <td>dessert</td>\n",
              "      <td>Rajasthan</td>\n",
              "      <td>West</td>\n",
              "    </tr>\n",
              "    <tr>\n",
              "      <th>2</th>\n",
              "      <td>Gajar ka halwa</td>\n",
              "      <td>Carrots, milk, sugar, ghee, cashews, raisins</td>\n",
              "      <td>vegetarian</td>\n",
              "      <td>15</td>\n",
              "      <td>60</td>\n",
              "      <td>sweet</td>\n",
              "      <td>dessert</td>\n",
              "      <td>Punjab</td>\n",
              "      <td>North</td>\n",
              "    </tr>\n",
              "    <tr>\n",
              "      <th>3</th>\n",
              "      <td>Ghevar</td>\n",
              "      <td>Flour, ghee, kewra, milk, clarified butter, su...</td>\n",
              "      <td>vegetarian</td>\n",
              "      <td>15</td>\n",
              "      <td>30</td>\n",
              "      <td>sweet</td>\n",
              "      <td>dessert</td>\n",
              "      <td>Rajasthan</td>\n",
              "      <td>West</td>\n",
              "    </tr>\n",
              "    <tr>\n",
              "      <th>4</th>\n",
              "      <td>Gulab jamun</td>\n",
              "      <td>Milk powder, plain flour, baking powder, ghee,...</td>\n",
              "      <td>vegetarian</td>\n",
              "      <td>15</td>\n",
              "      <td>40</td>\n",
              "      <td>sweet</td>\n",
              "      <td>dessert</td>\n",
              "      <td>West Bengal</td>\n",
              "      <td>East</td>\n",
              "    </tr>\n",
              "  </tbody>\n",
              "</table>\n",
              "</div>"
            ],
            "text/plain": [
              "             name  ... region\n",
              "0      Balu shahi  ...   East\n",
              "1          Boondi  ...   West\n",
              "2  Gajar ka halwa  ...  North\n",
              "3          Ghevar  ...   West\n",
              "4     Gulab jamun  ...   East\n",
              "\n",
              "[5 rows x 9 columns]"
            ]
          },
          "metadata": {
            "tags": []
          },
          "execution_count": 6
        }
      ]
    },
    {
      "cell_type": "code",
      "metadata": {
        "colab": {
          "base_uri": "https://localhost:8080/",
          "height": 204
        },
        "id": "94Hox1a1f-uI",
        "outputId": "6ff691c0-e8b5-4d96-ff03-afa61ba4fc3c"
      },
      "source": [
        "df.tail()"
      ],
      "execution_count": null,
      "outputs": [
        {
          "output_type": "execute_result",
          "data": {
            "text/html": [
              "<div>\n",
              "<style scoped>\n",
              "    .dataframe tbody tr th:only-of-type {\n",
              "        vertical-align: middle;\n",
              "    }\n",
              "\n",
              "    .dataframe tbody tr th {\n",
              "        vertical-align: top;\n",
              "    }\n",
              "\n",
              "    .dataframe thead th {\n",
              "        text-align: right;\n",
              "    }\n",
              "</style>\n",
              "<table border=\"1\" class=\"dataframe\">\n",
              "  <thead>\n",
              "    <tr style=\"text-align: right;\">\n",
              "      <th></th>\n",
              "      <th>name</th>\n",
              "      <th>ingredients</th>\n",
              "      <th>diet</th>\n",
              "      <th>prep_time</th>\n",
              "      <th>cook_time</th>\n",
              "      <th>flavor_profile</th>\n",
              "      <th>course</th>\n",
              "      <th>state</th>\n",
              "      <th>region</th>\n",
              "    </tr>\n",
              "  </thead>\n",
              "  <tbody>\n",
              "    <tr>\n",
              "      <th>250</th>\n",
              "      <td>Til Pitha</td>\n",
              "      <td>Glutinous rice, black sesame seeds, gur</td>\n",
              "      <td>vegetarian</td>\n",
              "      <td>5</td>\n",
              "      <td>30</td>\n",
              "      <td>sweet</td>\n",
              "      <td>dessert</td>\n",
              "      <td>Assam</td>\n",
              "      <td>North East</td>\n",
              "    </tr>\n",
              "    <tr>\n",
              "      <th>251</th>\n",
              "      <td>Bebinca</td>\n",
              "      <td>Coconut milk, egg yolks, clarified butter, all...</td>\n",
              "      <td>vegetarian</td>\n",
              "      <td>20</td>\n",
              "      <td>60</td>\n",
              "      <td>sweet</td>\n",
              "      <td>dessert</td>\n",
              "      <td>Goa</td>\n",
              "      <td>West</td>\n",
              "    </tr>\n",
              "    <tr>\n",
              "      <th>252</th>\n",
              "      <td>Shufta</td>\n",
              "      <td>Cottage cheese, dry dates, dried rose petals, ...</td>\n",
              "      <td>vegetarian</td>\n",
              "      <td>-1</td>\n",
              "      <td>-1</td>\n",
              "      <td>sweet</td>\n",
              "      <td>dessert</td>\n",
              "      <td>Jammu &amp; Kashmir</td>\n",
              "      <td>North</td>\n",
              "    </tr>\n",
              "    <tr>\n",
              "      <th>253</th>\n",
              "      <td>Mawa Bati</td>\n",
              "      <td>Milk powder, dry fruits, arrowroot powder, all...</td>\n",
              "      <td>vegetarian</td>\n",
              "      <td>20</td>\n",
              "      <td>45</td>\n",
              "      <td>sweet</td>\n",
              "      <td>dessert</td>\n",
              "      <td>Madhya Pradesh</td>\n",
              "      <td>Central</td>\n",
              "    </tr>\n",
              "    <tr>\n",
              "      <th>254</th>\n",
              "      <td>Pinaca</td>\n",
              "      <td>Brown rice, fennel seeds, grated coconut, blac...</td>\n",
              "      <td>vegetarian</td>\n",
              "      <td>-1</td>\n",
              "      <td>-1</td>\n",
              "      <td>sweet</td>\n",
              "      <td>dessert</td>\n",
              "      <td>Goa</td>\n",
              "      <td>West</td>\n",
              "    </tr>\n",
              "  </tbody>\n",
              "</table>\n",
              "</div>"
            ],
            "text/plain": [
              "          name  ...      region\n",
              "250  Til Pitha  ...  North East\n",
              "251    Bebinca  ...        West\n",
              "252     Shufta  ...       North\n",
              "253  Mawa Bati  ...     Central\n",
              "254     Pinaca  ...        West\n",
              "\n",
              "[5 rows x 9 columns]"
            ]
          },
          "metadata": {
            "tags": []
          },
          "execution_count": 7
        }
      ]
    },
    {
      "cell_type": "code",
      "metadata": {
        "colab": {
          "base_uri": "https://localhost:8080/",
          "height": 359
        },
        "id": "OMJCdnRyhL_d",
        "outputId": "67f952f9-1002-412d-f2c8-78aed90cc4a9"
      },
      "source": [
        "df.sample(10)"
      ],
      "execution_count": null,
      "outputs": [
        {
          "output_type": "execute_result",
          "data": {
            "text/html": [
              "<div>\n",
              "<style scoped>\n",
              "    .dataframe tbody tr th:only-of-type {\n",
              "        vertical-align: middle;\n",
              "    }\n",
              "\n",
              "    .dataframe tbody tr th {\n",
              "        vertical-align: top;\n",
              "    }\n",
              "\n",
              "    .dataframe thead th {\n",
              "        text-align: right;\n",
              "    }\n",
              "</style>\n",
              "<table border=\"1\" class=\"dataframe\">\n",
              "  <thead>\n",
              "    <tr style=\"text-align: right;\">\n",
              "      <th></th>\n",
              "      <th>name</th>\n",
              "      <th>ingredients</th>\n",
              "      <th>diet</th>\n",
              "      <th>prep_time</th>\n",
              "      <th>cook_time</th>\n",
              "      <th>flavor_profile</th>\n",
              "      <th>course</th>\n",
              "      <th>state</th>\n",
              "      <th>region</th>\n",
              "    </tr>\n",
              "  </thead>\n",
              "  <tbody>\n",
              "    <tr>\n",
              "      <th>11</th>\n",
              "      <td>Lassi</td>\n",
              "      <td>Yogurt, milk, nuts, sugar</td>\n",
              "      <td>vegetarian</td>\n",
              "      <td>5</td>\n",
              "      <td>5</td>\n",
              "      <td>sweet</td>\n",
              "      <td>dessert</td>\n",
              "      <td>Punjab</td>\n",
              "      <td>North</td>\n",
              "    </tr>\n",
              "    <tr>\n",
              "      <th>120</th>\n",
              "      <td>Shahi tukra</td>\n",
              "      <td>Rose water, milk, white bread slices, saffron,...</td>\n",
              "      <td>vegetarian</td>\n",
              "      <td>10</td>\n",
              "      <td>30</td>\n",
              "      <td>sweet</td>\n",
              "      <td>dessert</td>\n",
              "      <td>Telangana</td>\n",
              "      <td>South</td>\n",
              "    </tr>\n",
              "    <tr>\n",
              "      <th>52</th>\n",
              "      <td>Sheer korma</td>\n",
              "      <td>Vermicelli pudding, milk</td>\n",
              "      <td>vegetarian</td>\n",
              "      <td>10</td>\n",
              "      <td>20</td>\n",
              "      <td>sweet</td>\n",
              "      <td>dessert</td>\n",
              "      <td>Telangana</td>\n",
              "      <td>South</td>\n",
              "    </tr>\n",
              "    <tr>\n",
              "      <th>227</th>\n",
              "      <td>Bengena Pitika</td>\n",
              "      <td>Brinjal, onions, salt, sesame seeds, coriander</td>\n",
              "      <td>vegetarian</td>\n",
              "      <td>-1</td>\n",
              "      <td>-1</td>\n",
              "      <td>-1</td>\n",
              "      <td>main course</td>\n",
              "      <td>Assam</td>\n",
              "      <td>North East</td>\n",
              "    </tr>\n",
              "    <tr>\n",
              "      <th>25</th>\n",
              "      <td>Ledikeni</td>\n",
              "      <td>Chhena, sugar, ghee</td>\n",
              "      <td>vegetarian</td>\n",
              "      <td>45</td>\n",
              "      <td>45</td>\n",
              "      <td>sweet</td>\n",
              "      <td>dessert</td>\n",
              "      <td>West Bengal</td>\n",
              "      <td>East</td>\n",
              "    </tr>\n",
              "    <tr>\n",
              "      <th>160</th>\n",
              "      <td>Theeyal</td>\n",
              "      <td>Coconut, whole red beans, masala, sesame oil, ...</td>\n",
              "      <td>vegetarian</td>\n",
              "      <td>15</td>\n",
              "      <td>20</td>\n",
              "      <td>-1</td>\n",
              "      <td>main course</td>\n",
              "      <td>Kerala</td>\n",
              "      <td>South</td>\n",
              "    </tr>\n",
              "    <tr>\n",
              "      <th>134</th>\n",
              "      <td>Keerai masiyal</td>\n",
              "      <td>Urad dal, curry leaves, sugar, mustard seeds, ...</td>\n",
              "      <td>vegetarian</td>\n",
              "      <td>-1</td>\n",
              "      <td>-1</td>\n",
              "      <td>spicy</td>\n",
              "      <td>main course</td>\n",
              "      <td>Tamil Nadu</td>\n",
              "      <td>South</td>\n",
              "    </tr>\n",
              "    <tr>\n",
              "      <th>180</th>\n",
              "      <td>Dalithoy</td>\n",
              "      <td>Arhar dal, coconut oil, curry leaves, mustard ...</td>\n",
              "      <td>vegetarian</td>\n",
              "      <td>5</td>\n",
              "      <td>20</td>\n",
              "      <td>-1</td>\n",
              "      <td>main course</td>\n",
              "      <td>Maharashtra</td>\n",
              "      <td>West</td>\n",
              "    </tr>\n",
              "    <tr>\n",
              "      <th>148</th>\n",
              "      <td>Paravannam</td>\n",
              "      <td>Raw rice,  jaggery, milk</td>\n",
              "      <td>vegetarian</td>\n",
              "      <td>-1</td>\n",
              "      <td>-1</td>\n",
              "      <td>spicy</td>\n",
              "      <td>main course</td>\n",
              "      <td>Kerala</td>\n",
              "      <td>South</td>\n",
              "    </tr>\n",
              "    <tr>\n",
              "      <th>30</th>\n",
              "      <td>Pantua</td>\n",
              "      <td>Chhena, sugar, ghee, flour</td>\n",
              "      <td>vegetarian</td>\n",
              "      <td>45</td>\n",
              "      <td>45</td>\n",
              "      <td>sweet</td>\n",
              "      <td>dessert</td>\n",
              "      <td>West Bengal</td>\n",
              "      <td>East</td>\n",
              "    </tr>\n",
              "  </tbody>\n",
              "</table>\n",
              "</div>"
            ],
            "text/plain": [
              "               name  ...      region\n",
              "11            Lassi  ...       North\n",
              "120     Shahi tukra  ...       South\n",
              "52      Sheer korma  ...       South\n",
              "227  Bengena Pitika  ...  North East\n",
              "25         Ledikeni  ...        East\n",
              "160         Theeyal  ...       South\n",
              "134  Keerai masiyal  ...       South\n",
              "180        Dalithoy  ...        West\n",
              "148      Paravannam  ...       South\n",
              "30           Pantua  ...        East\n",
              "\n",
              "[10 rows x 9 columns]"
            ]
          },
          "metadata": {
            "tags": []
          },
          "execution_count": 8
        }
      ]
    },
    {
      "cell_type": "code",
      "metadata": {
        "colab": {
          "base_uri": "https://localhost:8080/",
          "height": 390
        },
        "id": "WWbynpNJhcW7",
        "outputId": "b1b586ec-d304-4b7e-d3d7-56a3e9fa1bab"
      },
      "source": [
        "df.describe(include='all')"
      ],
      "execution_count": null,
      "outputs": [
        {
          "output_type": "execute_result",
          "data": {
            "text/html": [
              "<div>\n",
              "<style scoped>\n",
              "    .dataframe tbody tr th:only-of-type {\n",
              "        vertical-align: middle;\n",
              "    }\n",
              "\n",
              "    .dataframe tbody tr th {\n",
              "        vertical-align: top;\n",
              "    }\n",
              "\n",
              "    .dataframe thead th {\n",
              "        text-align: right;\n",
              "    }\n",
              "</style>\n",
              "<table border=\"1\" class=\"dataframe\">\n",
              "  <thead>\n",
              "    <tr style=\"text-align: right;\">\n",
              "      <th></th>\n",
              "      <th>name</th>\n",
              "      <th>ingredients</th>\n",
              "      <th>diet</th>\n",
              "      <th>prep_time</th>\n",
              "      <th>cook_time</th>\n",
              "      <th>flavor_profile</th>\n",
              "      <th>course</th>\n",
              "      <th>state</th>\n",
              "      <th>region</th>\n",
              "    </tr>\n",
              "  </thead>\n",
              "  <tbody>\n",
              "    <tr>\n",
              "      <th>count</th>\n",
              "      <td>255</td>\n",
              "      <td>255</td>\n",
              "      <td>255</td>\n",
              "      <td>255.000000</td>\n",
              "      <td>255.000000</td>\n",
              "      <td>255</td>\n",
              "      <td>255</td>\n",
              "      <td>255</td>\n",
              "      <td>254</td>\n",
              "    </tr>\n",
              "    <tr>\n",
              "      <th>unique</th>\n",
              "      <td>255</td>\n",
              "      <td>252</td>\n",
              "      <td>2</td>\n",
              "      <td>NaN</td>\n",
              "      <td>NaN</td>\n",
              "      <td>5</td>\n",
              "      <td>4</td>\n",
              "      <td>25</td>\n",
              "      <td>7</td>\n",
              "    </tr>\n",
              "    <tr>\n",
              "      <th>top</th>\n",
              "      <td>Payokh</td>\n",
              "      <td>Gram flour, ghee, sugar</td>\n",
              "      <td>vegetarian</td>\n",
              "      <td>NaN</td>\n",
              "      <td>NaN</td>\n",
              "      <td>spicy</td>\n",
              "      <td>main course</td>\n",
              "      <td>Gujarat</td>\n",
              "      <td>West</td>\n",
              "    </tr>\n",
              "    <tr>\n",
              "      <th>freq</th>\n",
              "      <td>1</td>\n",
              "      <td>2</td>\n",
              "      <td>226</td>\n",
              "      <td>NaN</td>\n",
              "      <td>NaN</td>\n",
              "      <td>133</td>\n",
              "      <td>129</td>\n",
              "      <td>35</td>\n",
              "      <td>74</td>\n",
              "    </tr>\n",
              "    <tr>\n",
              "      <th>mean</th>\n",
              "      <td>NaN</td>\n",
              "      <td>NaN</td>\n",
              "      <td>NaN</td>\n",
              "      <td>31.105882</td>\n",
              "      <td>34.529412</td>\n",
              "      <td>NaN</td>\n",
              "      <td>NaN</td>\n",
              "      <td>NaN</td>\n",
              "      <td>NaN</td>\n",
              "    </tr>\n",
              "    <tr>\n",
              "      <th>std</th>\n",
              "      <td>NaN</td>\n",
              "      <td>NaN</td>\n",
              "      <td>NaN</td>\n",
              "      <td>72.554409</td>\n",
              "      <td>48.265650</td>\n",
              "      <td>NaN</td>\n",
              "      <td>NaN</td>\n",
              "      <td>NaN</td>\n",
              "      <td>NaN</td>\n",
              "    </tr>\n",
              "    <tr>\n",
              "      <th>min</th>\n",
              "      <td>NaN</td>\n",
              "      <td>NaN</td>\n",
              "      <td>NaN</td>\n",
              "      <td>-1.000000</td>\n",
              "      <td>-1.000000</td>\n",
              "      <td>NaN</td>\n",
              "      <td>NaN</td>\n",
              "      <td>NaN</td>\n",
              "      <td>NaN</td>\n",
              "    </tr>\n",
              "    <tr>\n",
              "      <th>25%</th>\n",
              "      <td>NaN</td>\n",
              "      <td>NaN</td>\n",
              "      <td>NaN</td>\n",
              "      <td>10.000000</td>\n",
              "      <td>20.000000</td>\n",
              "      <td>NaN</td>\n",
              "      <td>NaN</td>\n",
              "      <td>NaN</td>\n",
              "      <td>NaN</td>\n",
              "    </tr>\n",
              "    <tr>\n",
              "      <th>50%</th>\n",
              "      <td>NaN</td>\n",
              "      <td>NaN</td>\n",
              "      <td>NaN</td>\n",
              "      <td>10.000000</td>\n",
              "      <td>30.000000</td>\n",
              "      <td>NaN</td>\n",
              "      <td>NaN</td>\n",
              "      <td>NaN</td>\n",
              "      <td>NaN</td>\n",
              "    </tr>\n",
              "    <tr>\n",
              "      <th>75%</th>\n",
              "      <td>NaN</td>\n",
              "      <td>NaN</td>\n",
              "      <td>NaN</td>\n",
              "      <td>20.000000</td>\n",
              "      <td>40.000000</td>\n",
              "      <td>NaN</td>\n",
              "      <td>NaN</td>\n",
              "      <td>NaN</td>\n",
              "      <td>NaN</td>\n",
              "    </tr>\n",
              "    <tr>\n",
              "      <th>max</th>\n",
              "      <td>NaN</td>\n",
              "      <td>NaN</td>\n",
              "      <td>NaN</td>\n",
              "      <td>500.000000</td>\n",
              "      <td>720.000000</td>\n",
              "      <td>NaN</td>\n",
              "      <td>NaN</td>\n",
              "      <td>NaN</td>\n",
              "      <td>NaN</td>\n",
              "    </tr>\n",
              "  </tbody>\n",
              "</table>\n",
              "</div>"
            ],
            "text/plain": [
              "          name              ingredients  ...    state  region\n",
              "count      255                      255  ...      255     254\n",
              "unique     255                      252  ...       25       7\n",
              "top     Payokh  Gram flour, ghee, sugar  ...  Gujarat    West\n",
              "freq         1                        2  ...       35      74\n",
              "mean       NaN                      NaN  ...      NaN     NaN\n",
              "std        NaN                      NaN  ...      NaN     NaN\n",
              "min        NaN                      NaN  ...      NaN     NaN\n",
              "25%        NaN                      NaN  ...      NaN     NaN\n",
              "50%        NaN                      NaN  ...      NaN     NaN\n",
              "75%        NaN                      NaN  ...      NaN     NaN\n",
              "max        NaN                      NaN  ...      NaN     NaN\n",
              "\n",
              "[11 rows x 9 columns]"
            ]
          },
          "metadata": {
            "tags": []
          },
          "execution_count": 9
        }
      ]
    },
    {
      "cell_type": "code",
      "metadata": {
        "colab": {
          "base_uri": "https://localhost:8080/",
          "height": 111
        },
        "id": "p7kX_q2KhxOv",
        "outputId": "46991455-9ddc-4763-b77a-80b12e98ab3c"
      },
      "source": [
        "df.head(2)"
      ],
      "execution_count": null,
      "outputs": [
        {
          "output_type": "execute_result",
          "data": {
            "text/html": [
              "<div>\n",
              "<style scoped>\n",
              "    .dataframe tbody tr th:only-of-type {\n",
              "        vertical-align: middle;\n",
              "    }\n",
              "\n",
              "    .dataframe tbody tr th {\n",
              "        vertical-align: top;\n",
              "    }\n",
              "\n",
              "    .dataframe thead th {\n",
              "        text-align: right;\n",
              "    }\n",
              "</style>\n",
              "<table border=\"1\" class=\"dataframe\">\n",
              "  <thead>\n",
              "    <tr style=\"text-align: right;\">\n",
              "      <th></th>\n",
              "      <th>name</th>\n",
              "      <th>ingredients</th>\n",
              "      <th>diet</th>\n",
              "      <th>prep_time</th>\n",
              "      <th>cook_time</th>\n",
              "      <th>flavor_profile</th>\n",
              "      <th>course</th>\n",
              "      <th>state</th>\n",
              "      <th>region</th>\n",
              "    </tr>\n",
              "  </thead>\n",
              "  <tbody>\n",
              "    <tr>\n",
              "      <th>0</th>\n",
              "      <td>Balu shahi</td>\n",
              "      <td>Maida flour, yogurt, oil, sugar</td>\n",
              "      <td>vegetarian</td>\n",
              "      <td>45</td>\n",
              "      <td>25</td>\n",
              "      <td>sweet</td>\n",
              "      <td>dessert</td>\n",
              "      <td>West Bengal</td>\n",
              "      <td>East</td>\n",
              "    </tr>\n",
              "    <tr>\n",
              "      <th>1</th>\n",
              "      <td>Boondi</td>\n",
              "      <td>Gram flour, ghee, sugar</td>\n",
              "      <td>vegetarian</td>\n",
              "      <td>80</td>\n",
              "      <td>30</td>\n",
              "      <td>sweet</td>\n",
              "      <td>dessert</td>\n",
              "      <td>Rajasthan</td>\n",
              "      <td>West</td>\n",
              "    </tr>\n",
              "  </tbody>\n",
              "</table>\n",
              "</div>"
            ],
            "text/plain": [
              "         name                      ingredients  ...        state  region\n",
              "0  Balu shahi  Maida flour, yogurt, oil, sugar  ...  West Bengal    East\n",
              "1      Boondi          Gram flour, ghee, sugar  ...    Rajasthan    West\n",
              "\n",
              "[2 rows x 9 columns]"
            ]
          },
          "metadata": {
            "tags": []
          },
          "execution_count": 10
        }
      ]
    },
    {
      "cell_type": "code",
      "metadata": {
        "colab": {
          "base_uri": "https://localhost:8080/"
        },
        "id": "qt5Qz1gakuEt",
        "outputId": "a5417c3c-b70a-4077-e9a4-4f62c31e8d66"
      },
      "source": [
        "df['cook_time'].describe()"
      ],
      "execution_count": null,
      "outputs": [
        {
          "output_type": "execute_result",
          "data": {
            "text/plain": [
              "count    255.000000\n",
              "mean      34.529412\n",
              "std       48.265650\n",
              "min       -1.000000\n",
              "25%       20.000000\n",
              "50%       30.000000\n",
              "75%       40.000000\n",
              "max      720.000000\n",
              "Name: cook_time, dtype: float64"
            ]
          },
          "metadata": {
            "tags": []
          },
          "execution_count": 11
        }
      ]
    },
    {
      "cell_type": "code",
      "metadata": {
        "colab": {
          "base_uri": "https://localhost:8080/"
        },
        "id": "JMche9MEk2G5",
        "outputId": "c2bc952e-2662-4283-f8f4-5373874e8cfa"
      },
      "source": [
        "df['flavor_profile'].unique()"
      ],
      "execution_count": null,
      "outputs": [
        {
          "output_type": "execute_result",
          "data": {
            "text/plain": [
              "array(['sweet', 'spicy', 'bitter', '-1', 'sour'], dtype=object)"
            ]
          },
          "metadata": {
            "tags": []
          },
          "execution_count": 12
        }
      ]
    },
    {
      "cell_type": "code",
      "metadata": {
        "colab": {
          "base_uri": "https://localhost:8080/"
        },
        "id": "j7Rijru8lFxZ",
        "outputId": "a7670523-318b-476f-f51c-e714729f5529"
      },
      "source": [
        "df['flavor_profile'].nunique()"
      ],
      "execution_count": null,
      "outputs": [
        {
          "output_type": "execute_result",
          "data": {
            "text/plain": [
              "5"
            ]
          },
          "metadata": {
            "tags": []
          },
          "execution_count": 13
        }
      ]
    },
    {
      "cell_type": "code",
      "metadata": {
        "colab": {
          "base_uri": "https://localhost:8080/"
        },
        "id": "wbryBctOlWeD",
        "outputId": "e61ad966-6bb1-4d3b-d696-9c64c4044571"
      },
      "source": [
        "df['flavor_profile'].value_counts()"
      ],
      "execution_count": null,
      "outputs": [
        {
          "output_type": "execute_result",
          "data": {
            "text/plain": [
              "spicy     133\n",
              "sweet      88\n",
              "-1         29\n",
              "bitter      4\n",
              "sour        1\n",
              "Name: flavor_profile, dtype: int64"
            ]
          },
          "metadata": {
            "tags": []
          },
          "execution_count": 14
        }
      ]
    },
    {
      "cell_type": "code",
      "metadata": {
        "id": "0SrWFQMflmg_"
      },
      "source": [
        "df['unos'] = '1'"
      ],
      "execution_count": null,
      "outputs": []
    },
    {
      "cell_type": "code",
      "metadata": {
        "colab": {
          "base_uri": "https://localhost:8080/",
          "height": 142
        },
        "id": "lPaJUbLUooQg",
        "outputId": "cf4a1e96-2587-4dec-ddf7-d53b84b8d2e0"
      },
      "source": [
        "df.sample(3)"
      ],
      "execution_count": null,
      "outputs": [
        {
          "output_type": "execute_result",
          "data": {
            "text/html": [
              "<div>\n",
              "<style scoped>\n",
              "    .dataframe tbody tr th:only-of-type {\n",
              "        vertical-align: middle;\n",
              "    }\n",
              "\n",
              "    .dataframe tbody tr th {\n",
              "        vertical-align: top;\n",
              "    }\n",
              "\n",
              "    .dataframe thead th {\n",
              "        text-align: right;\n",
              "    }\n",
              "</style>\n",
              "<table border=\"1\" class=\"dataframe\">\n",
              "  <thead>\n",
              "    <tr style=\"text-align: right;\">\n",
              "      <th></th>\n",
              "      <th>name</th>\n",
              "      <th>ingredients</th>\n",
              "      <th>diet</th>\n",
              "      <th>prep_time</th>\n",
              "      <th>cook_time</th>\n",
              "      <th>flavor_profile</th>\n",
              "      <th>course</th>\n",
              "      <th>state</th>\n",
              "      <th>region</th>\n",
              "      <th>unos</th>\n",
              "    </tr>\n",
              "  </thead>\n",
              "  <tbody>\n",
              "    <tr>\n",
              "      <th>48</th>\n",
              "      <td>Poornalu</td>\n",
              "      <td>Chana dal, jaggery</td>\n",
              "      <td>vegetarian</td>\n",
              "      <td>240</td>\n",
              "      <td>60</td>\n",
              "      <td>sweet</td>\n",
              "      <td>dessert</td>\n",
              "      <td>Andhra Pradesh</td>\n",
              "      <td>South</td>\n",
              "      <td>1</td>\n",
              "    </tr>\n",
              "    <tr>\n",
              "      <th>121</th>\n",
              "      <td>Vegetable jalfrezi</td>\n",
              "      <td>Baby corn, french beans, garam masala, ginger,...</td>\n",
              "      <td>vegetarian</td>\n",
              "      <td>10</td>\n",
              "      <td>30</td>\n",
              "      <td>spicy</td>\n",
              "      <td>main course</td>\n",
              "      <td>Punjab</td>\n",
              "      <td>North</td>\n",
              "      <td>1</td>\n",
              "    </tr>\n",
              "    <tr>\n",
              "      <th>204</th>\n",
              "      <td>Sev tameta</td>\n",
              "      <td>Sev, ginger, tomato, sugar</td>\n",
              "      <td>vegetarian</td>\n",
              "      <td>20</td>\n",
              "      <td>30</td>\n",
              "      <td>spicy</td>\n",
              "      <td>main course</td>\n",
              "      <td>Gujarat</td>\n",
              "      <td>West</td>\n",
              "      <td>1</td>\n",
              "    </tr>\n",
              "  </tbody>\n",
              "</table>\n",
              "</div>"
            ],
            "text/plain": [
              "                   name  ... unos\n",
              "48             Poornalu  ...    1\n",
              "121  Vegetable jalfrezi  ...    1\n",
              "204          Sev tameta  ...    1\n",
              "\n",
              "[3 rows x 10 columns]"
            ]
          },
          "metadata": {
            "tags": []
          },
          "execution_count": 16
        }
      ]
    },
    {
      "cell_type": "code",
      "metadata": {
        "id": "whiR4WzmoxRg"
      },
      "source": [
        "df.rename(columns={'diet':'veggie_or_not'}, inplace= True)"
      ],
      "execution_count": null,
      "outputs": []
    },
    {
      "cell_type": "code",
      "metadata": {
        "colab": {
          "base_uri": "https://localhost:8080/"
        },
        "id": "ytjvLBQLzAbz",
        "outputId": "165cf8f6-88dd-4d4e-dc67-3aab2ae5db32"
      },
      "source": [
        "type(df['unos'][0])"
      ],
      "execution_count": null,
      "outputs": [
        {
          "output_type": "execute_result",
          "data": {
            "text/plain": [
              "str"
            ]
          },
          "metadata": {
            "tags": []
          },
          "execution_count": 40
        }
      ]
    },
    {
      "cell_type": "code",
      "metadata": {
        "colab": {
          "base_uri": "https://localhost:8080/",
          "height": 204
        },
        "id": "Qt-Ta4bzpN2v",
        "outputId": "63523dad-36bf-4c3d-93fa-21eadb01763f"
      },
      "source": [
        "df.head()"
      ],
      "execution_count": null,
      "outputs": [
        {
          "output_type": "execute_result",
          "data": {
            "text/html": [
              "<div>\n",
              "<style scoped>\n",
              "    .dataframe tbody tr th:only-of-type {\n",
              "        vertical-align: middle;\n",
              "    }\n",
              "\n",
              "    .dataframe tbody tr th {\n",
              "        vertical-align: top;\n",
              "    }\n",
              "\n",
              "    .dataframe thead th {\n",
              "        text-align: right;\n",
              "    }\n",
              "</style>\n",
              "<table border=\"1\" class=\"dataframe\">\n",
              "  <thead>\n",
              "    <tr style=\"text-align: right;\">\n",
              "      <th></th>\n",
              "      <th>name</th>\n",
              "      <th>ingredients</th>\n",
              "      <th>veggie_or_not</th>\n",
              "      <th>prep_time</th>\n",
              "      <th>cook_time</th>\n",
              "      <th>flavor_profile</th>\n",
              "      <th>course</th>\n",
              "      <th>state</th>\n",
              "      <th>region</th>\n",
              "      <th>unos</th>\n",
              "    </tr>\n",
              "  </thead>\n",
              "  <tbody>\n",
              "    <tr>\n",
              "      <th>0</th>\n",
              "      <td>Balu shahi</td>\n",
              "      <td>Maida flour, yogurt, oil, sugar</td>\n",
              "      <td>vegetarian</td>\n",
              "      <td>45</td>\n",
              "      <td>25</td>\n",
              "      <td>sweet</td>\n",
              "      <td>dessert</td>\n",
              "      <td>West Bengal</td>\n",
              "      <td>East</td>\n",
              "      <td>1</td>\n",
              "    </tr>\n",
              "    <tr>\n",
              "      <th>1</th>\n",
              "      <td>Boondi</td>\n",
              "      <td>Gram flour, ghee, sugar</td>\n",
              "      <td>vegetarian</td>\n",
              "      <td>80</td>\n",
              "      <td>30</td>\n",
              "      <td>sweet</td>\n",
              "      <td>dessert</td>\n",
              "      <td>Rajasthan</td>\n",
              "      <td>West</td>\n",
              "      <td>1</td>\n",
              "    </tr>\n",
              "    <tr>\n",
              "      <th>2</th>\n",
              "      <td>Gajar ka halwa</td>\n",
              "      <td>Carrots, milk, sugar, ghee, cashews, raisins</td>\n",
              "      <td>vegetarian</td>\n",
              "      <td>15</td>\n",
              "      <td>60</td>\n",
              "      <td>sweet</td>\n",
              "      <td>dessert</td>\n",
              "      <td>Punjab</td>\n",
              "      <td>North</td>\n",
              "      <td>1</td>\n",
              "    </tr>\n",
              "    <tr>\n",
              "      <th>3</th>\n",
              "      <td>Ghevar</td>\n",
              "      <td>Flour, ghee, kewra, milk, clarified butter, su...</td>\n",
              "      <td>vegetarian</td>\n",
              "      <td>15</td>\n",
              "      <td>30</td>\n",
              "      <td>sweet</td>\n",
              "      <td>dessert</td>\n",
              "      <td>Rajasthan</td>\n",
              "      <td>West</td>\n",
              "      <td>1</td>\n",
              "    </tr>\n",
              "    <tr>\n",
              "      <th>4</th>\n",
              "      <td>Gulab jamun</td>\n",
              "      <td>Milk powder, plain flour, baking powder, ghee,...</td>\n",
              "      <td>vegetarian</td>\n",
              "      <td>15</td>\n",
              "      <td>40</td>\n",
              "      <td>sweet</td>\n",
              "      <td>dessert</td>\n",
              "      <td>West Bengal</td>\n",
              "      <td>East</td>\n",
              "      <td>1</td>\n",
              "    </tr>\n",
              "  </tbody>\n",
              "</table>\n",
              "</div>"
            ],
            "text/plain": [
              "             name  ... unos\n",
              "0      Balu shahi  ...    1\n",
              "1          Boondi  ...    1\n",
              "2  Gajar ka halwa  ...    1\n",
              "3          Ghevar  ...    1\n",
              "4     Gulab jamun  ...    1\n",
              "\n",
              "[5 rows x 10 columns]"
            ]
          },
          "metadata": {
            "tags": []
          },
          "execution_count": 18
        }
      ]
    },
    {
      "cell_type": "code",
      "metadata": {
        "id": "YMBtfUhOpQU5"
      },
      "source": [
        "df['tiempo_total'] = df['prep_time'] + df['cook_time'] + 5"
      ],
      "execution_count": null,
      "outputs": []
    },
    {
      "cell_type": "code",
      "metadata": {
        "colab": {
          "base_uri": "https://localhost:8080/",
          "height": 272
        },
        "id": "1kmXa3ehq5Qh",
        "outputId": "33da5971-8520-4316-c860-9e557f2b53a8"
      },
      "source": [
        "df.head()"
      ],
      "execution_count": null,
      "outputs": [
        {
          "output_type": "execute_result",
          "data": {
            "text/html": [
              "<div>\n",
              "<style scoped>\n",
              "    .dataframe tbody tr th:only-of-type {\n",
              "        vertical-align: middle;\n",
              "    }\n",
              "\n",
              "    .dataframe tbody tr th {\n",
              "        vertical-align: top;\n",
              "    }\n",
              "\n",
              "    .dataframe thead th {\n",
              "        text-align: right;\n",
              "    }\n",
              "</style>\n",
              "<table border=\"1\" class=\"dataframe\">\n",
              "  <thead>\n",
              "    <tr style=\"text-align: right;\">\n",
              "      <th></th>\n",
              "      <th>name</th>\n",
              "      <th>ingredients</th>\n",
              "      <th>veggie_or_not</th>\n",
              "      <th>prep_time</th>\n",
              "      <th>cook_time</th>\n",
              "      <th>flavor_profile</th>\n",
              "      <th>course</th>\n",
              "      <th>state</th>\n",
              "      <th>region</th>\n",
              "      <th>unos</th>\n",
              "      <th>tiempo_total</th>\n",
              "    </tr>\n",
              "  </thead>\n",
              "  <tbody>\n",
              "    <tr>\n",
              "      <th>0</th>\n",
              "      <td>Balu shahi</td>\n",
              "      <td>Maida flour, yogurt, oil, sugar</td>\n",
              "      <td>vegetarian</td>\n",
              "      <td>45</td>\n",
              "      <td>25</td>\n",
              "      <td>sweet</td>\n",
              "      <td>dessert</td>\n",
              "      <td>West Bengal</td>\n",
              "      <td>East</td>\n",
              "      <td>1</td>\n",
              "      <td>75</td>\n",
              "    </tr>\n",
              "    <tr>\n",
              "      <th>1</th>\n",
              "      <td>Boondi</td>\n",
              "      <td>Gram flour, ghee, sugar</td>\n",
              "      <td>vegetarian</td>\n",
              "      <td>80</td>\n",
              "      <td>30</td>\n",
              "      <td>sweet</td>\n",
              "      <td>dessert</td>\n",
              "      <td>Rajasthan</td>\n",
              "      <td>West</td>\n",
              "      <td>1</td>\n",
              "      <td>115</td>\n",
              "    </tr>\n",
              "    <tr>\n",
              "      <th>2</th>\n",
              "      <td>Gajar ka halwa</td>\n",
              "      <td>Carrots, milk, sugar, ghee, cashews, raisins</td>\n",
              "      <td>vegetarian</td>\n",
              "      <td>15</td>\n",
              "      <td>60</td>\n",
              "      <td>sweet</td>\n",
              "      <td>dessert</td>\n",
              "      <td>Punjab</td>\n",
              "      <td>North</td>\n",
              "      <td>1</td>\n",
              "      <td>80</td>\n",
              "    </tr>\n",
              "    <tr>\n",
              "      <th>3</th>\n",
              "      <td>Ghevar</td>\n",
              "      <td>Flour, ghee, kewra, milk, clarified butter, su...</td>\n",
              "      <td>vegetarian</td>\n",
              "      <td>15</td>\n",
              "      <td>30</td>\n",
              "      <td>sweet</td>\n",
              "      <td>dessert</td>\n",
              "      <td>Rajasthan</td>\n",
              "      <td>West</td>\n",
              "      <td>1</td>\n",
              "      <td>50</td>\n",
              "    </tr>\n",
              "    <tr>\n",
              "      <th>4</th>\n",
              "      <td>Gulab jamun</td>\n",
              "      <td>Milk powder, plain flour, baking powder, ghee,...</td>\n",
              "      <td>vegetarian</td>\n",
              "      <td>15</td>\n",
              "      <td>40</td>\n",
              "      <td>sweet</td>\n",
              "      <td>dessert</td>\n",
              "      <td>West Bengal</td>\n",
              "      <td>East</td>\n",
              "      <td>1</td>\n",
              "      <td>60</td>\n",
              "    </tr>\n",
              "  </tbody>\n",
              "</table>\n",
              "</div>"
            ],
            "text/plain": [
              "             name  ... tiempo_total\n",
              "0      Balu shahi  ...           75\n",
              "1          Boondi  ...          115\n",
              "2  Gajar ka halwa  ...           80\n",
              "3          Ghevar  ...           50\n",
              "4     Gulab jamun  ...           60\n",
              "\n",
              "[5 rows x 11 columns]"
            ]
          },
          "metadata": {
            "tags": []
          },
          "execution_count": 20
        }
      ]
    },
    {
      "cell_type": "code",
      "metadata": {
        "id": "P115Um66q6vE"
      },
      "source": [
        "df['valor'] = 'no'"
      ],
      "execution_count": null,
      "outputs": []
    },
    {
      "cell_type": "code",
      "metadata": {
        "colab": {
          "base_uri": "https://localhost:8080/",
          "height": 272
        },
        "id": "3BovnI6ZrUPO",
        "outputId": "da7e19b4-8aad-4d60-d17b-00ea87e3e36f"
      },
      "source": [
        "df.head()"
      ],
      "execution_count": null,
      "outputs": [
        {
          "output_type": "execute_result",
          "data": {
            "text/html": [
              "<div>\n",
              "<style scoped>\n",
              "    .dataframe tbody tr th:only-of-type {\n",
              "        vertical-align: middle;\n",
              "    }\n",
              "\n",
              "    .dataframe tbody tr th {\n",
              "        vertical-align: top;\n",
              "    }\n",
              "\n",
              "    .dataframe thead th {\n",
              "        text-align: right;\n",
              "    }\n",
              "</style>\n",
              "<table border=\"1\" class=\"dataframe\">\n",
              "  <thead>\n",
              "    <tr style=\"text-align: right;\">\n",
              "      <th></th>\n",
              "      <th>name</th>\n",
              "      <th>ingredients</th>\n",
              "      <th>veggie_or_not</th>\n",
              "      <th>prep_time</th>\n",
              "      <th>cook_time</th>\n",
              "      <th>flavor_profile</th>\n",
              "      <th>course</th>\n",
              "      <th>state</th>\n",
              "      <th>region</th>\n",
              "      <th>unos</th>\n",
              "      <th>tiempo_total</th>\n",
              "      <th>valor</th>\n",
              "    </tr>\n",
              "  </thead>\n",
              "  <tbody>\n",
              "    <tr>\n",
              "      <th>0</th>\n",
              "      <td>Balu shahi</td>\n",
              "      <td>Maida flour, yogurt, oil, sugar</td>\n",
              "      <td>vegetarian</td>\n",
              "      <td>45</td>\n",
              "      <td>25</td>\n",
              "      <td>sweet</td>\n",
              "      <td>dessert</td>\n",
              "      <td>West Bengal</td>\n",
              "      <td>East</td>\n",
              "      <td>1</td>\n",
              "      <td>75</td>\n",
              "      <td>no</td>\n",
              "    </tr>\n",
              "    <tr>\n",
              "      <th>1</th>\n",
              "      <td>Boondi</td>\n",
              "      <td>Gram flour, ghee, sugar</td>\n",
              "      <td>vegetarian</td>\n",
              "      <td>80</td>\n",
              "      <td>30</td>\n",
              "      <td>sweet</td>\n",
              "      <td>dessert</td>\n",
              "      <td>Rajasthan</td>\n",
              "      <td>West</td>\n",
              "      <td>1</td>\n",
              "      <td>115</td>\n",
              "      <td>no</td>\n",
              "    </tr>\n",
              "    <tr>\n",
              "      <th>2</th>\n",
              "      <td>Gajar ka halwa</td>\n",
              "      <td>Carrots, milk, sugar, ghee, cashews, raisins</td>\n",
              "      <td>vegetarian</td>\n",
              "      <td>15</td>\n",
              "      <td>60</td>\n",
              "      <td>sweet</td>\n",
              "      <td>dessert</td>\n",
              "      <td>Punjab</td>\n",
              "      <td>North</td>\n",
              "      <td>1</td>\n",
              "      <td>80</td>\n",
              "      <td>no</td>\n",
              "    </tr>\n",
              "    <tr>\n",
              "      <th>3</th>\n",
              "      <td>Ghevar</td>\n",
              "      <td>Flour, ghee, kewra, milk, clarified butter, su...</td>\n",
              "      <td>vegetarian</td>\n",
              "      <td>15</td>\n",
              "      <td>30</td>\n",
              "      <td>sweet</td>\n",
              "      <td>dessert</td>\n",
              "      <td>Rajasthan</td>\n",
              "      <td>West</td>\n",
              "      <td>1</td>\n",
              "      <td>50</td>\n",
              "      <td>no</td>\n",
              "    </tr>\n",
              "    <tr>\n",
              "      <th>4</th>\n",
              "      <td>Gulab jamun</td>\n",
              "      <td>Milk powder, plain flour, baking powder, ghee,...</td>\n",
              "      <td>vegetarian</td>\n",
              "      <td>15</td>\n",
              "      <td>40</td>\n",
              "      <td>sweet</td>\n",
              "      <td>dessert</td>\n",
              "      <td>West Bengal</td>\n",
              "      <td>East</td>\n",
              "      <td>1</td>\n",
              "      <td>60</td>\n",
              "      <td>no</td>\n",
              "    </tr>\n",
              "  </tbody>\n",
              "</table>\n",
              "</div>"
            ],
            "text/plain": [
              "             name  ... valor\n",
              "0      Balu shahi  ...    no\n",
              "1          Boondi  ...    no\n",
              "2  Gajar ka halwa  ...    no\n",
              "3          Ghevar  ...    no\n",
              "4     Gulab jamun  ...    no\n",
              "\n",
              "[5 rows x 12 columns]"
            ]
          },
          "metadata": {
            "tags": []
          },
          "execution_count": 22
        }
      ]
    },
    {
      "cell_type": "code",
      "metadata": {
        "id": "GPMp9aj0rVhR"
      },
      "source": [
        "df = df.drop(['valor'], axis=1)"
      ],
      "execution_count": null,
      "outputs": []
    },
    {
      "cell_type": "code",
      "metadata": {
        "colab": {
          "base_uri": "https://localhost:8080/",
          "height": 272
        },
        "id": "6lIWAtv0srD3",
        "outputId": "ec0bcd61-715a-4693-84c5-ef19cde59d41"
      },
      "source": [
        "df.head()"
      ],
      "execution_count": null,
      "outputs": [
        {
          "output_type": "execute_result",
          "data": {
            "text/html": [
              "<div>\n",
              "<style scoped>\n",
              "    .dataframe tbody tr th:only-of-type {\n",
              "        vertical-align: middle;\n",
              "    }\n",
              "\n",
              "    .dataframe tbody tr th {\n",
              "        vertical-align: top;\n",
              "    }\n",
              "\n",
              "    .dataframe thead th {\n",
              "        text-align: right;\n",
              "    }\n",
              "</style>\n",
              "<table border=\"1\" class=\"dataframe\">\n",
              "  <thead>\n",
              "    <tr style=\"text-align: right;\">\n",
              "      <th></th>\n",
              "      <th>name</th>\n",
              "      <th>ingredients</th>\n",
              "      <th>veggie_or_not</th>\n",
              "      <th>prep_time</th>\n",
              "      <th>cook_time</th>\n",
              "      <th>flavor_profile</th>\n",
              "      <th>course</th>\n",
              "      <th>state</th>\n",
              "      <th>region</th>\n",
              "      <th>unos</th>\n",
              "      <th>tiempo_total</th>\n",
              "    </tr>\n",
              "  </thead>\n",
              "  <tbody>\n",
              "    <tr>\n",
              "      <th>0</th>\n",
              "      <td>Balu shahi</td>\n",
              "      <td>Maida flour, yogurt, oil, sugar</td>\n",
              "      <td>vegetarian</td>\n",
              "      <td>45</td>\n",
              "      <td>25</td>\n",
              "      <td>sweet</td>\n",
              "      <td>dessert</td>\n",
              "      <td>West Bengal</td>\n",
              "      <td>East</td>\n",
              "      <td>1</td>\n",
              "      <td>75</td>\n",
              "    </tr>\n",
              "    <tr>\n",
              "      <th>1</th>\n",
              "      <td>Boondi</td>\n",
              "      <td>Gram flour, ghee, sugar</td>\n",
              "      <td>vegetarian</td>\n",
              "      <td>80</td>\n",
              "      <td>30</td>\n",
              "      <td>sweet</td>\n",
              "      <td>dessert</td>\n",
              "      <td>Rajasthan</td>\n",
              "      <td>West</td>\n",
              "      <td>1</td>\n",
              "      <td>115</td>\n",
              "    </tr>\n",
              "    <tr>\n",
              "      <th>2</th>\n",
              "      <td>Gajar ka halwa</td>\n",
              "      <td>Carrots, milk, sugar, ghee, cashews, raisins</td>\n",
              "      <td>vegetarian</td>\n",
              "      <td>15</td>\n",
              "      <td>60</td>\n",
              "      <td>sweet</td>\n",
              "      <td>dessert</td>\n",
              "      <td>Punjab</td>\n",
              "      <td>North</td>\n",
              "      <td>1</td>\n",
              "      <td>80</td>\n",
              "    </tr>\n",
              "    <tr>\n",
              "      <th>3</th>\n",
              "      <td>Ghevar</td>\n",
              "      <td>Flour, ghee, kewra, milk, clarified butter, su...</td>\n",
              "      <td>vegetarian</td>\n",
              "      <td>15</td>\n",
              "      <td>30</td>\n",
              "      <td>sweet</td>\n",
              "      <td>dessert</td>\n",
              "      <td>Rajasthan</td>\n",
              "      <td>West</td>\n",
              "      <td>1</td>\n",
              "      <td>50</td>\n",
              "    </tr>\n",
              "    <tr>\n",
              "      <th>4</th>\n",
              "      <td>Gulab jamun</td>\n",
              "      <td>Milk powder, plain flour, baking powder, ghee,...</td>\n",
              "      <td>vegetarian</td>\n",
              "      <td>15</td>\n",
              "      <td>40</td>\n",
              "      <td>sweet</td>\n",
              "      <td>dessert</td>\n",
              "      <td>West Bengal</td>\n",
              "      <td>East</td>\n",
              "      <td>1</td>\n",
              "      <td>60</td>\n",
              "    </tr>\n",
              "  </tbody>\n",
              "</table>\n",
              "</div>"
            ],
            "text/plain": [
              "             name  ... tiempo_total\n",
              "0      Balu shahi  ...           75\n",
              "1          Boondi  ...          115\n",
              "2  Gajar ka halwa  ...           80\n",
              "3          Ghevar  ...           50\n",
              "4     Gulab jamun  ...           60\n",
              "\n",
              "[5 rows x 11 columns]"
            ]
          },
          "metadata": {
            "tags": []
          },
          "execution_count": 26
        }
      ]
    },
    {
      "cell_type": "code",
      "metadata": {
        "id": "OEkSeEmsstA-"
      },
      "source": [
        "df2 = df.copy(deep=True)"
      ],
      "execution_count": null,
      "outputs": []
    },
    {
      "cell_type": "code",
      "metadata": {
        "colab": {
          "base_uri": "https://localhost:8080/",
          "height": 272
        },
        "id": "CgSJdll0t3tO",
        "outputId": "ff95e2af-8014-4780-9121-68f30b0bc4ae"
      },
      "source": [
        "df2.head()"
      ],
      "execution_count": null,
      "outputs": [
        {
          "output_type": "execute_result",
          "data": {
            "text/html": [
              "<div>\n",
              "<style scoped>\n",
              "    .dataframe tbody tr th:only-of-type {\n",
              "        vertical-align: middle;\n",
              "    }\n",
              "\n",
              "    .dataframe tbody tr th {\n",
              "        vertical-align: top;\n",
              "    }\n",
              "\n",
              "    .dataframe thead th {\n",
              "        text-align: right;\n",
              "    }\n",
              "</style>\n",
              "<table border=\"1\" class=\"dataframe\">\n",
              "  <thead>\n",
              "    <tr style=\"text-align: right;\">\n",
              "      <th></th>\n",
              "      <th>name</th>\n",
              "      <th>ingredients</th>\n",
              "      <th>veggie_or_not</th>\n",
              "      <th>prep_time</th>\n",
              "      <th>cook_time</th>\n",
              "      <th>flavor_profile</th>\n",
              "      <th>course</th>\n",
              "      <th>state</th>\n",
              "      <th>region</th>\n",
              "      <th>unos</th>\n",
              "      <th>tiempo_total</th>\n",
              "    </tr>\n",
              "  </thead>\n",
              "  <tbody>\n",
              "    <tr>\n",
              "      <th>0</th>\n",
              "      <td>Balu shahi</td>\n",
              "      <td>Maida flour, yogurt, oil, sugar</td>\n",
              "      <td>vegetarian</td>\n",
              "      <td>45</td>\n",
              "      <td>25</td>\n",
              "      <td>sweet</td>\n",
              "      <td>dessert</td>\n",
              "      <td>West Bengal</td>\n",
              "      <td>East</td>\n",
              "      <td>1</td>\n",
              "      <td>75</td>\n",
              "    </tr>\n",
              "    <tr>\n",
              "      <th>1</th>\n",
              "      <td>Boondi</td>\n",
              "      <td>Gram flour, ghee, sugar</td>\n",
              "      <td>vegetarian</td>\n",
              "      <td>80</td>\n",
              "      <td>30</td>\n",
              "      <td>sweet</td>\n",
              "      <td>dessert</td>\n",
              "      <td>Rajasthan</td>\n",
              "      <td>West</td>\n",
              "      <td>1</td>\n",
              "      <td>115</td>\n",
              "    </tr>\n",
              "    <tr>\n",
              "      <th>2</th>\n",
              "      <td>Gajar ka halwa</td>\n",
              "      <td>Carrots, milk, sugar, ghee, cashews, raisins</td>\n",
              "      <td>vegetarian</td>\n",
              "      <td>15</td>\n",
              "      <td>60</td>\n",
              "      <td>sweet</td>\n",
              "      <td>dessert</td>\n",
              "      <td>Punjab</td>\n",
              "      <td>North</td>\n",
              "      <td>1</td>\n",
              "      <td>80</td>\n",
              "    </tr>\n",
              "    <tr>\n",
              "      <th>3</th>\n",
              "      <td>Ghevar</td>\n",
              "      <td>Flour, ghee, kewra, milk, clarified butter, su...</td>\n",
              "      <td>vegetarian</td>\n",
              "      <td>15</td>\n",
              "      <td>30</td>\n",
              "      <td>sweet</td>\n",
              "      <td>dessert</td>\n",
              "      <td>Rajasthan</td>\n",
              "      <td>West</td>\n",
              "      <td>1</td>\n",
              "      <td>50</td>\n",
              "    </tr>\n",
              "    <tr>\n",
              "      <th>4</th>\n",
              "      <td>Gulab jamun</td>\n",
              "      <td>Milk powder, plain flour, baking powder, ghee,...</td>\n",
              "      <td>vegetarian</td>\n",
              "      <td>15</td>\n",
              "      <td>40</td>\n",
              "      <td>sweet</td>\n",
              "      <td>dessert</td>\n",
              "      <td>West Bengal</td>\n",
              "      <td>East</td>\n",
              "      <td>1</td>\n",
              "      <td>60</td>\n",
              "    </tr>\n",
              "  </tbody>\n",
              "</table>\n",
              "</div>"
            ],
            "text/plain": [
              "             name  ... tiempo_total\n",
              "0      Balu shahi  ...           75\n",
              "1          Boondi  ...          115\n",
              "2  Gajar ka halwa  ...           80\n",
              "3          Ghevar  ...           50\n",
              "4     Gulab jamun  ...           60\n",
              "\n",
              "[5 rows x 11 columns]"
            ]
          },
          "metadata": {
            "tags": []
          },
          "execution_count": 28
        }
      ]
    },
    {
      "cell_type": "code",
      "metadata": {
        "id": "S9I7qohst41u"
      },
      "source": [
        "df2['prueba'] = 'esto es una prueba'"
      ],
      "execution_count": null,
      "outputs": []
    },
    {
      "cell_type": "code",
      "metadata": {
        "colab": {
          "base_uri": "https://localhost:8080/",
          "height": 374
        },
        "id": "Gygqe7T_t8Mj",
        "outputId": "3d2be100-c575-4eec-e557-e20c543f630e"
      },
      "source": [
        "df2.head()"
      ],
      "execution_count": null,
      "outputs": [
        {
          "output_type": "execute_result",
          "data": {
            "text/html": [
              "<div>\n",
              "<style scoped>\n",
              "    .dataframe tbody tr th:only-of-type {\n",
              "        vertical-align: middle;\n",
              "    }\n",
              "\n",
              "    .dataframe tbody tr th {\n",
              "        vertical-align: top;\n",
              "    }\n",
              "\n",
              "    .dataframe thead th {\n",
              "        text-align: right;\n",
              "    }\n",
              "</style>\n",
              "<table border=\"1\" class=\"dataframe\">\n",
              "  <thead>\n",
              "    <tr style=\"text-align: right;\">\n",
              "      <th></th>\n",
              "      <th>name</th>\n",
              "      <th>ingredients</th>\n",
              "      <th>veggie_or_not</th>\n",
              "      <th>prep_time</th>\n",
              "      <th>cook_time</th>\n",
              "      <th>flavor_profile</th>\n",
              "      <th>course</th>\n",
              "      <th>state</th>\n",
              "      <th>region</th>\n",
              "      <th>unos</th>\n",
              "      <th>tiempo_total</th>\n",
              "      <th>prueba</th>\n",
              "    </tr>\n",
              "  </thead>\n",
              "  <tbody>\n",
              "    <tr>\n",
              "      <th>0</th>\n",
              "      <td>Balu shahi</td>\n",
              "      <td>Maida flour, yogurt, oil, sugar</td>\n",
              "      <td>vegetarian</td>\n",
              "      <td>45</td>\n",
              "      <td>25</td>\n",
              "      <td>sweet</td>\n",
              "      <td>dessert</td>\n",
              "      <td>West Bengal</td>\n",
              "      <td>East</td>\n",
              "      <td>1</td>\n",
              "      <td>75</td>\n",
              "      <td>esto es una prueba</td>\n",
              "    </tr>\n",
              "    <tr>\n",
              "      <th>1</th>\n",
              "      <td>Boondi</td>\n",
              "      <td>Gram flour, ghee, sugar</td>\n",
              "      <td>vegetarian</td>\n",
              "      <td>80</td>\n",
              "      <td>30</td>\n",
              "      <td>sweet</td>\n",
              "      <td>dessert</td>\n",
              "      <td>Rajasthan</td>\n",
              "      <td>West</td>\n",
              "      <td>1</td>\n",
              "      <td>115</td>\n",
              "      <td>esto es una prueba</td>\n",
              "    </tr>\n",
              "    <tr>\n",
              "      <th>2</th>\n",
              "      <td>Gajar ka halwa</td>\n",
              "      <td>Carrots, milk, sugar, ghee, cashews, raisins</td>\n",
              "      <td>vegetarian</td>\n",
              "      <td>15</td>\n",
              "      <td>60</td>\n",
              "      <td>sweet</td>\n",
              "      <td>dessert</td>\n",
              "      <td>Punjab</td>\n",
              "      <td>North</td>\n",
              "      <td>1</td>\n",
              "      <td>80</td>\n",
              "      <td>esto es una prueba</td>\n",
              "    </tr>\n",
              "    <tr>\n",
              "      <th>3</th>\n",
              "      <td>Ghevar</td>\n",
              "      <td>Flour, ghee, kewra, milk, clarified butter, su...</td>\n",
              "      <td>vegetarian</td>\n",
              "      <td>15</td>\n",
              "      <td>30</td>\n",
              "      <td>sweet</td>\n",
              "      <td>dessert</td>\n",
              "      <td>Rajasthan</td>\n",
              "      <td>West</td>\n",
              "      <td>1</td>\n",
              "      <td>50</td>\n",
              "      <td>esto es una prueba</td>\n",
              "    </tr>\n",
              "    <tr>\n",
              "      <th>4</th>\n",
              "      <td>Gulab jamun</td>\n",
              "      <td>Milk powder, plain flour, baking powder, ghee,...</td>\n",
              "      <td>vegetarian</td>\n",
              "      <td>15</td>\n",
              "      <td>40</td>\n",
              "      <td>sweet</td>\n",
              "      <td>dessert</td>\n",
              "      <td>West Bengal</td>\n",
              "      <td>East</td>\n",
              "      <td>1</td>\n",
              "      <td>60</td>\n",
              "      <td>esto es una prueba</td>\n",
              "    </tr>\n",
              "  </tbody>\n",
              "</table>\n",
              "</div>"
            ],
            "text/plain": [
              "             name  ...              prueba\n",
              "0      Balu shahi  ...  esto es una prueba\n",
              "1          Boondi  ...  esto es una prueba\n",
              "2  Gajar ka halwa  ...  esto es una prueba\n",
              "3          Ghevar  ...  esto es una prueba\n",
              "4     Gulab jamun  ...  esto es una prueba\n",
              "\n",
              "[5 rows x 12 columns]"
            ]
          },
          "metadata": {
            "tags": []
          },
          "execution_count": 30
        }
      ]
    },
    {
      "cell_type": "markdown",
      "metadata": {
        "id": "Ic5bN5pCwK6c"
      },
      "source": [
        "# Cómo exportar a Excel o CSV"
      ]
    },
    {
      "cell_type": "markdown",
      "metadata": {
        "id": "k2s-Q9Myv5x_"
      },
      "source": [
        "Guarda más de un **objeto/tabla** en excel"
      ]
    },
    {
      "cell_type": "code",
      "metadata": {
        "id": "MIle50z6uAo0"
      },
      "source": [
        "with pd.ExcelWriter('output.xlsx') as writer:  #Esta es una función\n",
        "  df.to_excel(writer, sheet_name='Sheet_name_1') #Tener cuidado con los \"tabs\" o \"sangrías\"\n",
        "  df2.to_excel(writer, sheet_name='Sheet_name_2') #Sheetname hace referencia a el nombre de la hoja de excel"
      ],
      "execution_count": null,
      "outputs": []
    },
    {
      "cell_type": "markdown",
      "metadata": {
        "id": "kKxWERqKv-BE"
      },
      "source": [
        "Exporta/ Guarda una tabla en un archivo csv"
      ]
    },
    {
      "cell_type": "code",
      "metadata": {
        "id": "Ea9nSVFzukvg"
      },
      "source": [
        "df.to_csv('salida1.csv')"
      ],
      "execution_count": null,
      "outputs": []
    },
    {
      "cell_type": "code",
      "metadata": {
        "id": "0_Ti7JkOu8OF"
      },
      "source": [
        "df.to_excel('salida2.xlsx')"
      ],
      "execution_count": null,
      "outputs": []
    },
    {
      "cell_type": "code",
      "metadata": {
        "id": "ZkdziRfgvxeD"
      },
      "source": [],
      "execution_count": null,
      "outputs": []
    }
  ]
}
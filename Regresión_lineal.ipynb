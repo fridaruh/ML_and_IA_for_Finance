{
  "cells": [
    {
      "cell_type": "markdown",
      "metadata": {
        "id": "view-in-github",
        "colab_type": "text"
      },
      "source": [
        "<a href=\"https://colab.research.google.com/github/fridaruh/ML_and_IA_for_Finance/blob/master/Regresi%C3%B3n_lineal.ipynb\" target=\"_parent\"><img src=\"https://colab.research.google.com/assets/colab-badge.svg\" alt=\"Open In Colab\"/></a>"
      ]
    },
    {
      "cell_type": "markdown",
      "metadata": {
        "id": "0BwuZp973TrO"
      },
      "source": [
        "# Contexto"
      ]
    },
    {
      "cell_type": "markdown",
      "metadata": {
        "id": "XGip-oGq3TrP"
      },
      "source": [
        "La Universidad de Minho en Portugal se ha enterado que eres una crack para encontrar patrones que nadie más ve y han decidido llamarte para que les ayudes a saber qué está pasando con sus estudiantes últimamente.\n",
        "\n",
        "Los estudiantes han empezado a tener malas calificaciones y la universidad quiere que los ayudes a encontrar qué podría estar afectando su desempeño."
      ]
    },
    {
      "cell_type": "markdown",
      "metadata": {
        "id": "ltYP7Pyb3TrT"
      },
      "source": [
        "### Sobre el set de datos"
      ]
    },
    {
      "cell_type": "markdown",
      "metadata": {
        "id": "tpc0l4CM3TrU"
      },
      "source": [
        "1) Ingresa a la página de UCI Machine Learning (link:http://archive.ics.uci.edu/ml/machine-learning-databases/00320/) que contiene el data set **Student Performance Data Set**  y da click en \"student.zip\" para descargar el archivo .zip que contiene el set de datos que vamos a trabajar."
      ]
    },
    {
      "cell_type": "markdown",
      "metadata": {
        "id": "3cYlb6l03TrV"
      },
      "source": [
        "2) Descomprime la carpeta \"student.zip\" dando click derecho y luego \"Extraer aquí\""
      ]
    },
    {
      "cell_type": "markdown",
      "metadata": {
        "id": "cfVcMdmt3TrV"
      },
      "source": [
        "3) Una vez que se han extraído los datos copia el archivo llamado \"student-mat.csv\" a la carpeta de trabajo que utilizas normalmente para que lo tengas disponible en la misma ubicación que donde vas a trabajar este libro de Juputer Notebook"
      ]
    },
    {
      "cell_type": "markdown",
      "metadata": {
        "id": "ehH3Z8Tg3TrW"
      },
      "source": [
        "**Información de los atributos**\n",
        "\n",
        "- **1 school** - student's school (binary: 'GP' - Gabriel Pereira or 'MS' - Mousinho da Silveira)\n",
        "- **2 sex** - student's sex (binary: 'F' - female or 'M' - male)\n",
        "- **3 age** - student's age (numeric: from 15 to 22)\n",
        "- **4 address** - student's home address type (binary: 'U' - urban or 'R' - rural)\n",
        "- **5 famsize** - family size (binary: 'LE3' - less or equal to 3 or 'GT3' - greater than 3)\n",
        "- **6 Pstatus** - parent's cohabitation status (binary: 'T' - living together or 'A' - apart)\n",
        "- **7 Medu** - mother's education (numeric: 0 - none, 1 - primary education (4th grade), 2 â€“ 5th to 9th grade, 3 â€“ secondary education or 4 â€“ higher education)\n",
        "- **8 Fedu** - father's education (numeric: 0 - none, 1 - primary education (4th grade), 2 â€“ 5th to 9th grade, 3 â€“ secondary education or 4 â€“ higher education)\n",
        "- **9 Mjob** - mother's job (nominal: 'teacher', 'health' care related, civil 'services' (e.g. administrative or police), 'at_home' or 'other')\n",
        "- **10 Fjob** - father's job (nominal: 'teacher', 'health' care related, civil 'services' (e.g. administrative or police), 'at_home' or 'other')\n",
        "- **11 reason** - reason to choose this school (nominal: close to 'home', school 'reputation', 'course' preference or 'other')\n",
        "- **12 guardian** - student's guardian (nominal: 'mother', 'father' or 'other')\n",
        "- **13 traveltime** - home to school travel time (numeric: 1 - <15 min., 2 - 15 to 30 min., 3 - 30 min. to 1 hour, or 4 - >1 hour)\n",
        "- **14 studytime** - weekly study time (numeric: 1 - <2 hours, 2 - 2 to 5 hours, 3 - 5 to 10 hours, or 4 - >10 hours)\n",
        "- **15 failures** - number of past class failures (numeric: n if 1<=n<3, else 4)\n",
        "- **16 schoolsup** - extra educational support (binary: yes or no)\n",
        "- **17 famsup** - family educational support (binary: yes or no)\n",
        "- **18 paid** - extra paid classes within the course subject (Math or Portuguese) (binary: yes or no)\n",
        "- **19 activities** - extra-curricular activities (binary: yes or no)\n",
        "- **20 nursery** - attended nursery school (binary: yes or no)\n",
        "- **21 higher** - wants to take higher education (binary: yes or no)\n",
        "- **22 internet** - Internet access at home (binary: yes or no)\n",
        "- **23 romantic** - with a romantic relationship (binary: yes or no)\n",
        "- **24 famrel** - quality of family relationships (numeric: from 1 - very bad to 5 - excellent)\n",
        "- **25 freetime** - free time after school (numeric: from 1 - very low to 5 - very high)\n",
        "- **26 goout** - going out with friends (numeric: from 1 - very low to 5 - very high)\n",
        "- **27 Dalc** - workday alcohol consumption (numeric: from 1 - very low to 5 - very high)\n",
        "- **28 Walc** - weekend alcohol consumption (numeric: from 1 - very low to 5 - very high)\n",
        "- **29 health** - current health status (numeric: from 1 - very bad to 5 - very good)\n",
        "- **30 absences** - number of school absences (numeric: from 0 to 93)\n",
        "- **31 G1** - first period grade (numeric: from 0 to 20)\n",
        "- **31 G2** - second period grade (numeric: from 0 to 20)\n",
        "- **32 G3** - final grade (numeric: from 0 to 20, output target)\n",
        "\n",
        "Para más información consulta: http://archive.ics.uci.edu/ml/datasets/Student+Performance\n"
      ]
    },
    {
      "cell_type": "markdown",
      "metadata": {
        "id": "nFHrgvqQ3TrX"
      },
      "source": [
        "# Business Case"
      ]
    },
    {
      "cell_type": "markdown",
      "metadata": {
        "id": "I41i9WD_3TrY"
      },
      "source": [
        "De acuerdo a la información otorgada por la Universidad de Minho, crearemos un modelo de regresión lineal para encontrar los patrones que pueden afectar de manera positiva y negativa la calificación final de los alumnos.\n",
        "\n",
        "Nuestro target será la variable G3, ubicada en la última columna."
      ]
    },
    {
      "cell_type": "markdown",
      "metadata": {
        "id": "Lv2RGHRz3TrZ"
      },
      "source": [
        "# Desarrollo del modelo"
      ]
    },
    {
      "cell_type": "markdown",
      "metadata": {
        "id": "ky9eCTo73TrZ"
      },
      "source": [
        "Importa las siguientes librerías:\n",
        "- pandas as pd\n",
        "- numpy as np\n",
        "- matplotlib.pyplot as plt\n",
        "- seaborn as sns\n",
        "- from sklearn.model_selection import train_test_split\n",
        "- from sklearn import linear_model\n",
        "- from sklearn import metrics"
      ]
    },
    {
      "cell_type": "code",
      "execution_count": 1,
      "metadata": {
        "id": "E0r9C3Dx3Tra"
      },
      "outputs": [],
      "source": [
        "import pandas as pd\n",
        "import numpy as np\n",
        "import matplotlib.pyplot as plt\n",
        "import seaborn as sns\n",
        "from sklearn.model_selection import train_test_split\n",
        "from sklearn import linear_model\n",
        "from sklearn import metrics"
      ]
    },
    {
      "cell_type": "markdown",
      "metadata": {
        "id": "7Ai0jQnq3Trc"
      },
      "source": [
        "- Carga el archivo \"student-mat.csv\" y asignalo a una variable llamada df.\n",
        "\n",
        "Tip: Agrega un parámetro adicional al momento de utilizar la función de read_csv: sep=\";\"\n",
        "\n",
        "Esto para que te regrese el dataframe separado por columnas."
      ]
    },
    {
      "cell_type": "code",
      "execution_count": 2,
      "metadata": {
        "id": "3MF_54K23Tre"
      },
      "outputs": [],
      "source": [
        "df = pd.read_csv('/content/student-mat.csv', sep=';')"
      ]
    },
    {
      "cell_type": "markdown",
      "metadata": {
        "id": "1hZwxXvh3Trf"
      },
      "source": [
        "- Visualiza los primeros 5 registros para validar que se importó bien la información"
      ]
    },
    {
      "cell_type": "code",
      "execution_count": null,
      "metadata": {
        "id": "TuHb2JHX3Trg",
        "outputId": "c7427139-2a9f-41f9-a871-d0e95f827166"
      },
      "outputs": [
        {
          "data": {
            "text/html": [
              "<div>\n",
              "<style scoped>\n",
              "    .dataframe tbody tr th:only-of-type {\n",
              "        vertical-align: middle;\n",
              "    }\n",
              "\n",
              "    .dataframe tbody tr th {\n",
              "        vertical-align: top;\n",
              "    }\n",
              "\n",
              "    .dataframe thead th {\n",
              "        text-align: right;\n",
              "    }\n",
              "</style>\n",
              "<table border=\"1\" class=\"dataframe\">\n",
              "  <thead>\n",
              "    <tr style=\"text-align: right;\">\n",
              "      <th></th>\n",
              "      <th>school</th>\n",
              "      <th>sex</th>\n",
              "      <th>age</th>\n",
              "      <th>address</th>\n",
              "      <th>famsize</th>\n",
              "      <th>Pstatus</th>\n",
              "      <th>Medu</th>\n",
              "      <th>Fedu</th>\n",
              "      <th>Mjob</th>\n",
              "      <th>Fjob</th>\n",
              "      <th>...</th>\n",
              "      <th>famrel</th>\n",
              "      <th>freetime</th>\n",
              "      <th>goout</th>\n",
              "      <th>Dalc</th>\n",
              "      <th>Walc</th>\n",
              "      <th>health</th>\n",
              "      <th>absences</th>\n",
              "      <th>G1</th>\n",
              "      <th>G2</th>\n",
              "      <th>G3</th>\n",
              "    </tr>\n",
              "  </thead>\n",
              "  <tbody>\n",
              "    <tr>\n",
              "      <th>0</th>\n",
              "      <td>GP</td>\n",
              "      <td>F</td>\n",
              "      <td>18</td>\n",
              "      <td>U</td>\n",
              "      <td>GT3</td>\n",
              "      <td>A</td>\n",
              "      <td>4</td>\n",
              "      <td>4</td>\n",
              "      <td>at_home</td>\n",
              "      <td>teacher</td>\n",
              "      <td>...</td>\n",
              "      <td>4</td>\n",
              "      <td>3</td>\n",
              "      <td>4</td>\n",
              "      <td>1</td>\n",
              "      <td>1</td>\n",
              "      <td>3</td>\n",
              "      <td>6</td>\n",
              "      <td>5</td>\n",
              "      <td>6</td>\n",
              "      <td>6</td>\n",
              "    </tr>\n",
              "    <tr>\n",
              "      <th>1</th>\n",
              "      <td>GP</td>\n",
              "      <td>F</td>\n",
              "      <td>17</td>\n",
              "      <td>U</td>\n",
              "      <td>GT3</td>\n",
              "      <td>T</td>\n",
              "      <td>1</td>\n",
              "      <td>1</td>\n",
              "      <td>at_home</td>\n",
              "      <td>other</td>\n",
              "      <td>...</td>\n",
              "      <td>5</td>\n",
              "      <td>3</td>\n",
              "      <td>3</td>\n",
              "      <td>1</td>\n",
              "      <td>1</td>\n",
              "      <td>3</td>\n",
              "      <td>4</td>\n",
              "      <td>5</td>\n",
              "      <td>5</td>\n",
              "      <td>6</td>\n",
              "    </tr>\n",
              "    <tr>\n",
              "      <th>2</th>\n",
              "      <td>GP</td>\n",
              "      <td>F</td>\n",
              "      <td>15</td>\n",
              "      <td>U</td>\n",
              "      <td>LE3</td>\n",
              "      <td>T</td>\n",
              "      <td>1</td>\n",
              "      <td>1</td>\n",
              "      <td>at_home</td>\n",
              "      <td>other</td>\n",
              "      <td>...</td>\n",
              "      <td>4</td>\n",
              "      <td>3</td>\n",
              "      <td>2</td>\n",
              "      <td>2</td>\n",
              "      <td>3</td>\n",
              "      <td>3</td>\n",
              "      <td>10</td>\n",
              "      <td>7</td>\n",
              "      <td>8</td>\n",
              "      <td>10</td>\n",
              "    </tr>\n",
              "    <tr>\n",
              "      <th>3</th>\n",
              "      <td>GP</td>\n",
              "      <td>F</td>\n",
              "      <td>15</td>\n",
              "      <td>U</td>\n",
              "      <td>GT3</td>\n",
              "      <td>T</td>\n",
              "      <td>4</td>\n",
              "      <td>2</td>\n",
              "      <td>health</td>\n",
              "      <td>services</td>\n",
              "      <td>...</td>\n",
              "      <td>3</td>\n",
              "      <td>2</td>\n",
              "      <td>2</td>\n",
              "      <td>1</td>\n",
              "      <td>1</td>\n",
              "      <td>5</td>\n",
              "      <td>2</td>\n",
              "      <td>15</td>\n",
              "      <td>14</td>\n",
              "      <td>15</td>\n",
              "    </tr>\n",
              "    <tr>\n",
              "      <th>4</th>\n",
              "      <td>GP</td>\n",
              "      <td>F</td>\n",
              "      <td>16</td>\n",
              "      <td>U</td>\n",
              "      <td>GT3</td>\n",
              "      <td>T</td>\n",
              "      <td>3</td>\n",
              "      <td>3</td>\n",
              "      <td>other</td>\n",
              "      <td>other</td>\n",
              "      <td>...</td>\n",
              "      <td>4</td>\n",
              "      <td>3</td>\n",
              "      <td>2</td>\n",
              "      <td>1</td>\n",
              "      <td>2</td>\n",
              "      <td>5</td>\n",
              "      <td>4</td>\n",
              "      <td>6</td>\n",
              "      <td>10</td>\n",
              "      <td>10</td>\n",
              "    </tr>\n",
              "  </tbody>\n",
              "</table>\n",
              "<p>5 rows × 33 columns</p>\n",
              "</div>"
            ],
            "text/plain": [
              "  school sex  age address famsize Pstatus  Medu  Fedu     Mjob      Fjob  ...  \\\n",
              "0     GP   F   18       U     GT3       A     4     4  at_home   teacher  ...   \n",
              "1     GP   F   17       U     GT3       T     1     1  at_home     other  ...   \n",
              "2     GP   F   15       U     LE3       T     1     1  at_home     other  ...   \n",
              "3     GP   F   15       U     GT3       T     4     2   health  services  ...   \n",
              "4     GP   F   16       U     GT3       T     3     3    other     other  ...   \n",
              "\n",
              "  famrel freetime  goout  Dalc  Walc health absences  G1  G2  G3  \n",
              "0      4        3      4     1     1      3        6   5   6   6  \n",
              "1      5        3      3     1     1      3        4   5   5   6  \n",
              "2      4        3      2     2     3      3       10   7   8  10  \n",
              "3      3        2      2     1     1      5        2  15  14  15  \n",
              "4      4        3      2     1     2      5        4   6  10  10  \n",
              "\n",
              "[5 rows x 33 columns]"
            ]
          },
          "execution_count": 8,
          "metadata": {},
          "output_type": "execute_result"
        }
      ],
      "source": [
        "df.head()"
      ]
    },
    {
      "cell_type": "markdown",
      "metadata": {
        "id": "FuhHNA_s3Trh"
      },
      "source": [
        "- Obtén las estadísticas básicas del dataset"
      ]
    },
    {
      "cell_type": "code",
      "execution_count": null,
      "metadata": {
        "id": "Hah_VSew3Tri",
        "outputId": "3c7115f9-8aa5-4877-ad06-69362d7c6a87"
      },
      "outputs": [
        {
          "data": {
            "text/html": [
              "<div>\n",
              "<style scoped>\n",
              "    .dataframe tbody tr th:only-of-type {\n",
              "        vertical-align: middle;\n",
              "    }\n",
              "\n",
              "    .dataframe tbody tr th {\n",
              "        vertical-align: top;\n",
              "    }\n",
              "\n",
              "    .dataframe thead th {\n",
              "        text-align: right;\n",
              "    }\n",
              "</style>\n",
              "<table border=\"1\" class=\"dataframe\">\n",
              "  <thead>\n",
              "    <tr style=\"text-align: right;\">\n",
              "      <th></th>\n",
              "      <th>school</th>\n",
              "      <th>sex</th>\n",
              "      <th>age</th>\n",
              "      <th>address</th>\n",
              "      <th>famsize</th>\n",
              "      <th>Pstatus</th>\n",
              "      <th>Medu</th>\n",
              "      <th>Fedu</th>\n",
              "      <th>Mjob</th>\n",
              "      <th>Fjob</th>\n",
              "      <th>...</th>\n",
              "      <th>famrel</th>\n",
              "      <th>freetime</th>\n",
              "      <th>goout</th>\n",
              "      <th>Dalc</th>\n",
              "      <th>Walc</th>\n",
              "      <th>health</th>\n",
              "      <th>absences</th>\n",
              "      <th>G1</th>\n",
              "      <th>G2</th>\n",
              "      <th>G3</th>\n",
              "    </tr>\n",
              "  </thead>\n",
              "  <tbody>\n",
              "    <tr>\n",
              "      <th>count</th>\n",
              "      <td>395</td>\n",
              "      <td>395</td>\n",
              "      <td>395.000000</td>\n",
              "      <td>395</td>\n",
              "      <td>395</td>\n",
              "      <td>395</td>\n",
              "      <td>395.000000</td>\n",
              "      <td>395.000000</td>\n",
              "      <td>395</td>\n",
              "      <td>395</td>\n",
              "      <td>...</td>\n",
              "      <td>395.000000</td>\n",
              "      <td>395.000000</td>\n",
              "      <td>395.000000</td>\n",
              "      <td>395.000000</td>\n",
              "      <td>395.000000</td>\n",
              "      <td>395.000000</td>\n",
              "      <td>395.000000</td>\n",
              "      <td>395.000000</td>\n",
              "      <td>395.000000</td>\n",
              "      <td>395.000000</td>\n",
              "    </tr>\n",
              "    <tr>\n",
              "      <th>unique</th>\n",
              "      <td>2</td>\n",
              "      <td>2</td>\n",
              "      <td>NaN</td>\n",
              "      <td>2</td>\n",
              "      <td>2</td>\n",
              "      <td>2</td>\n",
              "      <td>NaN</td>\n",
              "      <td>NaN</td>\n",
              "      <td>5</td>\n",
              "      <td>5</td>\n",
              "      <td>...</td>\n",
              "      <td>NaN</td>\n",
              "      <td>NaN</td>\n",
              "      <td>NaN</td>\n",
              "      <td>NaN</td>\n",
              "      <td>NaN</td>\n",
              "      <td>NaN</td>\n",
              "      <td>NaN</td>\n",
              "      <td>NaN</td>\n",
              "      <td>NaN</td>\n",
              "      <td>NaN</td>\n",
              "    </tr>\n",
              "    <tr>\n",
              "      <th>top</th>\n",
              "      <td>GP</td>\n",
              "      <td>F</td>\n",
              "      <td>NaN</td>\n",
              "      <td>U</td>\n",
              "      <td>GT3</td>\n",
              "      <td>T</td>\n",
              "      <td>NaN</td>\n",
              "      <td>NaN</td>\n",
              "      <td>other</td>\n",
              "      <td>other</td>\n",
              "      <td>...</td>\n",
              "      <td>NaN</td>\n",
              "      <td>NaN</td>\n",
              "      <td>NaN</td>\n",
              "      <td>NaN</td>\n",
              "      <td>NaN</td>\n",
              "      <td>NaN</td>\n",
              "      <td>NaN</td>\n",
              "      <td>NaN</td>\n",
              "      <td>NaN</td>\n",
              "      <td>NaN</td>\n",
              "    </tr>\n",
              "    <tr>\n",
              "      <th>freq</th>\n",
              "      <td>349</td>\n",
              "      <td>208</td>\n",
              "      <td>NaN</td>\n",
              "      <td>307</td>\n",
              "      <td>281</td>\n",
              "      <td>354</td>\n",
              "      <td>NaN</td>\n",
              "      <td>NaN</td>\n",
              "      <td>141</td>\n",
              "      <td>217</td>\n",
              "      <td>...</td>\n",
              "      <td>NaN</td>\n",
              "      <td>NaN</td>\n",
              "      <td>NaN</td>\n",
              "      <td>NaN</td>\n",
              "      <td>NaN</td>\n",
              "      <td>NaN</td>\n",
              "      <td>NaN</td>\n",
              "      <td>NaN</td>\n",
              "      <td>NaN</td>\n",
              "      <td>NaN</td>\n",
              "    </tr>\n",
              "    <tr>\n",
              "      <th>mean</th>\n",
              "      <td>NaN</td>\n",
              "      <td>NaN</td>\n",
              "      <td>16.696203</td>\n",
              "      <td>NaN</td>\n",
              "      <td>NaN</td>\n",
              "      <td>NaN</td>\n",
              "      <td>2.749367</td>\n",
              "      <td>2.521519</td>\n",
              "      <td>NaN</td>\n",
              "      <td>NaN</td>\n",
              "      <td>...</td>\n",
              "      <td>3.944304</td>\n",
              "      <td>3.235443</td>\n",
              "      <td>3.108861</td>\n",
              "      <td>1.481013</td>\n",
              "      <td>2.291139</td>\n",
              "      <td>3.554430</td>\n",
              "      <td>5.708861</td>\n",
              "      <td>10.908861</td>\n",
              "      <td>10.713924</td>\n",
              "      <td>10.415190</td>\n",
              "    </tr>\n",
              "    <tr>\n",
              "      <th>std</th>\n",
              "      <td>NaN</td>\n",
              "      <td>NaN</td>\n",
              "      <td>1.276043</td>\n",
              "      <td>NaN</td>\n",
              "      <td>NaN</td>\n",
              "      <td>NaN</td>\n",
              "      <td>1.094735</td>\n",
              "      <td>1.088201</td>\n",
              "      <td>NaN</td>\n",
              "      <td>NaN</td>\n",
              "      <td>...</td>\n",
              "      <td>0.896659</td>\n",
              "      <td>0.998862</td>\n",
              "      <td>1.113278</td>\n",
              "      <td>0.890741</td>\n",
              "      <td>1.287897</td>\n",
              "      <td>1.390303</td>\n",
              "      <td>8.003096</td>\n",
              "      <td>3.319195</td>\n",
              "      <td>3.761505</td>\n",
              "      <td>4.581443</td>\n",
              "    </tr>\n",
              "    <tr>\n",
              "      <th>min</th>\n",
              "      <td>NaN</td>\n",
              "      <td>NaN</td>\n",
              "      <td>15.000000</td>\n",
              "      <td>NaN</td>\n",
              "      <td>NaN</td>\n",
              "      <td>NaN</td>\n",
              "      <td>0.000000</td>\n",
              "      <td>0.000000</td>\n",
              "      <td>NaN</td>\n",
              "      <td>NaN</td>\n",
              "      <td>...</td>\n",
              "      <td>1.000000</td>\n",
              "      <td>1.000000</td>\n",
              "      <td>1.000000</td>\n",
              "      <td>1.000000</td>\n",
              "      <td>1.000000</td>\n",
              "      <td>1.000000</td>\n",
              "      <td>0.000000</td>\n",
              "      <td>3.000000</td>\n",
              "      <td>0.000000</td>\n",
              "      <td>0.000000</td>\n",
              "    </tr>\n",
              "    <tr>\n",
              "      <th>25%</th>\n",
              "      <td>NaN</td>\n",
              "      <td>NaN</td>\n",
              "      <td>16.000000</td>\n",
              "      <td>NaN</td>\n",
              "      <td>NaN</td>\n",
              "      <td>NaN</td>\n",
              "      <td>2.000000</td>\n",
              "      <td>2.000000</td>\n",
              "      <td>NaN</td>\n",
              "      <td>NaN</td>\n",
              "      <td>...</td>\n",
              "      <td>4.000000</td>\n",
              "      <td>3.000000</td>\n",
              "      <td>2.000000</td>\n",
              "      <td>1.000000</td>\n",
              "      <td>1.000000</td>\n",
              "      <td>3.000000</td>\n",
              "      <td>0.000000</td>\n",
              "      <td>8.000000</td>\n",
              "      <td>9.000000</td>\n",
              "      <td>8.000000</td>\n",
              "    </tr>\n",
              "    <tr>\n",
              "      <th>50%</th>\n",
              "      <td>NaN</td>\n",
              "      <td>NaN</td>\n",
              "      <td>17.000000</td>\n",
              "      <td>NaN</td>\n",
              "      <td>NaN</td>\n",
              "      <td>NaN</td>\n",
              "      <td>3.000000</td>\n",
              "      <td>2.000000</td>\n",
              "      <td>NaN</td>\n",
              "      <td>NaN</td>\n",
              "      <td>...</td>\n",
              "      <td>4.000000</td>\n",
              "      <td>3.000000</td>\n",
              "      <td>3.000000</td>\n",
              "      <td>1.000000</td>\n",
              "      <td>2.000000</td>\n",
              "      <td>4.000000</td>\n",
              "      <td>4.000000</td>\n",
              "      <td>11.000000</td>\n",
              "      <td>11.000000</td>\n",
              "      <td>11.000000</td>\n",
              "    </tr>\n",
              "    <tr>\n",
              "      <th>75%</th>\n",
              "      <td>NaN</td>\n",
              "      <td>NaN</td>\n",
              "      <td>18.000000</td>\n",
              "      <td>NaN</td>\n",
              "      <td>NaN</td>\n",
              "      <td>NaN</td>\n",
              "      <td>4.000000</td>\n",
              "      <td>3.000000</td>\n",
              "      <td>NaN</td>\n",
              "      <td>NaN</td>\n",
              "      <td>...</td>\n",
              "      <td>5.000000</td>\n",
              "      <td>4.000000</td>\n",
              "      <td>4.000000</td>\n",
              "      <td>2.000000</td>\n",
              "      <td>3.000000</td>\n",
              "      <td>5.000000</td>\n",
              "      <td>8.000000</td>\n",
              "      <td>13.000000</td>\n",
              "      <td>13.000000</td>\n",
              "      <td>14.000000</td>\n",
              "    </tr>\n",
              "    <tr>\n",
              "      <th>max</th>\n",
              "      <td>NaN</td>\n",
              "      <td>NaN</td>\n",
              "      <td>22.000000</td>\n",
              "      <td>NaN</td>\n",
              "      <td>NaN</td>\n",
              "      <td>NaN</td>\n",
              "      <td>4.000000</td>\n",
              "      <td>4.000000</td>\n",
              "      <td>NaN</td>\n",
              "      <td>NaN</td>\n",
              "      <td>...</td>\n",
              "      <td>5.000000</td>\n",
              "      <td>5.000000</td>\n",
              "      <td>5.000000</td>\n",
              "      <td>5.000000</td>\n",
              "      <td>5.000000</td>\n",
              "      <td>5.000000</td>\n",
              "      <td>75.000000</td>\n",
              "      <td>19.000000</td>\n",
              "      <td>19.000000</td>\n",
              "      <td>20.000000</td>\n",
              "    </tr>\n",
              "  </tbody>\n",
              "</table>\n",
              "<p>11 rows × 33 columns</p>\n",
              "</div>"
            ],
            "text/plain": [
              "       school  sex         age address famsize Pstatus        Medu  \\\n",
              "count     395  395  395.000000     395     395     395  395.000000   \n",
              "unique      2    2         NaN       2       2       2         NaN   \n",
              "top        GP    F         NaN       U     GT3       T         NaN   \n",
              "freq      349  208         NaN     307     281     354         NaN   \n",
              "mean      NaN  NaN   16.696203     NaN     NaN     NaN    2.749367   \n",
              "std       NaN  NaN    1.276043     NaN     NaN     NaN    1.094735   \n",
              "min       NaN  NaN   15.000000     NaN     NaN     NaN    0.000000   \n",
              "25%       NaN  NaN   16.000000     NaN     NaN     NaN    2.000000   \n",
              "50%       NaN  NaN   17.000000     NaN     NaN     NaN    3.000000   \n",
              "75%       NaN  NaN   18.000000     NaN     NaN     NaN    4.000000   \n",
              "max       NaN  NaN   22.000000     NaN     NaN     NaN    4.000000   \n",
              "\n",
              "              Fedu   Mjob   Fjob  ...      famrel    freetime       goout  \\\n",
              "count   395.000000    395    395  ...  395.000000  395.000000  395.000000   \n",
              "unique         NaN      5      5  ...         NaN         NaN         NaN   \n",
              "top            NaN  other  other  ...         NaN         NaN         NaN   \n",
              "freq           NaN    141    217  ...         NaN         NaN         NaN   \n",
              "mean      2.521519    NaN    NaN  ...    3.944304    3.235443    3.108861   \n",
              "std       1.088201    NaN    NaN  ...    0.896659    0.998862    1.113278   \n",
              "min       0.000000    NaN    NaN  ...    1.000000    1.000000    1.000000   \n",
              "25%       2.000000    NaN    NaN  ...    4.000000    3.000000    2.000000   \n",
              "50%       2.000000    NaN    NaN  ...    4.000000    3.000000    3.000000   \n",
              "75%       3.000000    NaN    NaN  ...    5.000000    4.000000    4.000000   \n",
              "max       4.000000    NaN    NaN  ...    5.000000    5.000000    5.000000   \n",
              "\n",
              "              Dalc        Walc      health    absences          G1  \\\n",
              "count   395.000000  395.000000  395.000000  395.000000  395.000000   \n",
              "unique         NaN         NaN         NaN         NaN         NaN   \n",
              "top            NaN         NaN         NaN         NaN         NaN   \n",
              "freq           NaN         NaN         NaN         NaN         NaN   \n",
              "mean      1.481013    2.291139    3.554430    5.708861   10.908861   \n",
              "std       0.890741    1.287897    1.390303    8.003096    3.319195   \n",
              "min       1.000000    1.000000    1.000000    0.000000    3.000000   \n",
              "25%       1.000000    1.000000    3.000000    0.000000    8.000000   \n",
              "50%       1.000000    2.000000    4.000000    4.000000   11.000000   \n",
              "75%       2.000000    3.000000    5.000000    8.000000   13.000000   \n",
              "max       5.000000    5.000000    5.000000   75.000000   19.000000   \n",
              "\n",
              "                G2          G3  \n",
              "count   395.000000  395.000000  \n",
              "unique         NaN         NaN  \n",
              "top            NaN         NaN  \n",
              "freq           NaN         NaN  \n",
              "mean     10.713924   10.415190  \n",
              "std       3.761505    4.581443  \n",
              "min       0.000000    0.000000  \n",
              "25%       9.000000    8.000000  \n",
              "50%      11.000000   11.000000  \n",
              "75%      13.000000   14.000000  \n",
              "max      19.000000   20.000000  \n",
              "\n",
              "[11 rows x 33 columns]"
            ]
          },
          "execution_count": 10,
          "metadata": {},
          "output_type": "execute_result"
        }
      ],
      "source": [
        "df.describe(include='all')"
      ]
    },
    {
      "cell_type": "markdown",
      "metadata": {
        "id": "WFnQt0jt3Trj"
      },
      "source": [
        "- Grafica el histograma de la variable G3"
      ]
    },
    {
      "cell_type": "code",
      "execution_count": null,
      "metadata": {
        "id": "vL9WHN_H3Trk",
        "outputId": "0d6b1cf9-a199-4896-d7c3-bd81d3423f43"
      },
      "outputs": [
        {
          "data": {
            "text/plain": [
              "<matplotlib.axes._subplots.AxesSubplot at 0x215876dee20>"
            ]
          },
          "execution_count": 13,
          "metadata": {},
          "output_type": "execute_result"
        },
        {
          "data": {
            "image/png": "[encoded data removed]",
            "text/plain": [
              "<Figure size 432x288 with 1 Axes>"
            ]
          },
          "metadata": {
            "needs_background": "light"
          },
          "output_type": "display_data"
        }
      ],
      "source": [
        "df['G3'].hist(bins=5)"
      ]
    },
    {
      "cell_type": "markdown",
      "metadata": {
        "id": "koZM2muA3Trl"
      },
      "source": [
        "- Obtén nuevamente el histograma de 'G3' pero ahora haz 10 bins"
      ]
    },
    {
      "cell_type": "code",
      "execution_count": null,
      "metadata": {
        "id": "JNzz_OGc3Trl",
        "outputId": "38c44888-25ee-497e-91c1-26174b1ab80c"
      },
      "outputs": [
        {
          "data": {
            "text/plain": [
              "<matplotlib.axes._subplots.AxesSubplot at 0x215877bf9d0>"
            ]
          },
          "execution_count": 14,
          "metadata": {},
          "output_type": "execute_result"
        },
        {
          "data": {
            "image/png": "[encoded data removed]",
            "text/plain": [
              "<Figure size 432x288 with 1 Axes>"
            ]
          },
          "metadata": {
            "needs_background": "light"
          },
          "output_type": "display_data"
        }
      ],
      "source": [
        "df['G3'].hist(bins=10)"
      ]
    },
    {
      "cell_type": "markdown",
      "metadata": {
        "id": "CzHdqiC63Trm"
      },
      "source": [
        "- Genera una gráfica boxplot donde tengas en x='sex', en y='G3' para ver la dsitribución de las calificaciones finales por sexo"
      ]
    },
    {
      "cell_type": "code",
      "execution_count": null,
      "metadata": {
        "id": "6UeJVM4w3Trn",
        "outputId": "ed5c4e2d-7aa2-4311-e21b-9fe1ae65775d"
      },
      "outputs": [
        {
          "data": {
            "text/plain": [
              "<seaborn.axisgrid.FacetGrid at 0x215876e80d0>"
            ]
          },
          "execution_count": 15,
          "metadata": {},
          "output_type": "execute_result"
        },
        {
          "data": {
            "image/png": "[encoded data removed]",
            "text/plain": [
              "<Figure size 360x360 with 1 Axes>"
            ]
          },
          "metadata": {
            "needs_background": "light"
          },
          "output_type": "display_data"
        }
      ],
      "source": [
        "sns.catplot(x='sex', y='G3', kind='box', data=df)"
      ]
    },
    {
      "cell_type": "markdown",
      "metadata": {
        "id": "HBzpYNo93Trn"
      },
      "source": [
        "- Grafica un mapa de calor para ver todas las correlaciones que hay entre las variables.\n",
        "\n",
        "Tip: Utiliza las dimensiones (12,10) para poder visualizar los valores de la correlación"
      ]
    },
    {
      "cell_type": "code",
      "execution_count": null,
      "metadata": {
        "id": "zWyhmsYA3Tro",
        "outputId": "748eeb46-36df-4186-a794-8ddd9daba8bf"
      },
      "outputs": [
        {
          "data": {
            "image/png": "[encoded data removed]",
            "text/plain": [
              "<Figure size 864x720 with 2 Axes>"
            ]
          },
          "metadata": {
            "needs_background": "light"
          },
          "output_type": "display_data"
        }
      ],
      "source": [
        "corrMatrix = df.corr()\n",
        "fig, ax = plt.subplots(figsize= (12,10))\n",
        "sns.heatmap(corrMatrix, annot=True)\n",
        "plt.show()"
      ]
    },
    {
      "cell_type": "markdown",
      "metadata": {
        "id": "uqAdOe5N3Tro"
      },
      "source": [
        "## Entrenamiento"
      ]
    },
    {
      "cell_type": "markdown",
      "metadata": {
        "id": "yoQJzwLJ3Trq"
      },
      "source": [
        "- Crea una variable llamada Y la cual tenga la columna G3 del dataset df"
      ]
    },
    {
      "cell_type": "code",
      "execution_count": null,
      "metadata": {
        "id": "SRikjeBx3Trr"
      },
      "outputs": [],
      "source": [
        "Y = df['G3']"
      ]
    },
    {
      "cell_type": "markdown",
      "metadata": {
        "id": "TweiAyK23Trt"
      },
      "source": [
        "- Crea una variable X la cual contenga las siguientes columnas:\n",
        "    [ 'age', 'Medu', 'Fedu', 'traveltime', 'studytime', 'failures', 'famrel', 'freetime', 'goout', 'Dalc','Walc', 'health', 'absences']"
      ]
    },
    {
      "cell_type": "code",
      "execution_count": null,
      "metadata": {
        "id": "P6wWHRhi3Trv"
      },
      "outputs": [],
      "source": [
        "X = df[['age', 'Medu', 'Fedu', 'traveltime', 'studytime', 'failures', 'famrel', 'freetime', 'goout', 'Dalc','Walc', 'health', 'absences']]"
      ]
    },
    {
      "cell_type": "markdown",
      "metadata": {
        "id": "un98LbXn3Trw"
      },
      "source": [
        "### Train, test, split"
      ]
    },
    {
      "cell_type": "markdown",
      "metadata": {
        "id": "xTRDSUzV3Try"
      },
      "source": [
        "- Genera x_train, x_test,y_train,y_test utilizando la función train_test_split y asignale un test_size del 25% y un random_state= 77"
      ]
    },
    {
      "cell_type": "code",
      "execution_count": null,
      "metadata": {
        "id": "4Cngb4U53Try"
      },
      "outputs": [],
      "source": [
        "x_train, x_test, y_train, y_test = train_test_split(X, Y, test_size= 0.25, random_state=77)"
      ]
    },
    {
      "cell_type": "markdown",
      "metadata": {
        "id": "C38BaFpE3Trz"
      },
      "source": [
        "- Imprime el tamaño de x_train y de x_test para validar que la partición fue del 25% en train y 75% en test"
      ]
    },
    {
      "cell_type": "code",
      "execution_count": null,
      "metadata": {
        "id": "Wcgo5-i43Tr0",
        "outputId": "884b1c58-de88-4ccc-a828-36dc813f943d"
      },
      "outputs": [
        {
          "name": "stdout",
          "output_type": "stream",
          "text": [
            "(99, 13)\n",
            "98.75\n"
          ]
        }
      ],
      "source": [
        "print(x_test.shape)\n",
        "print(len(df)*.25)"
      ]
    },
    {
      "cell_type": "code",
      "execution_count": null,
      "metadata": {
        "id": "JJ5lZoJd3Tr3",
        "outputId": "559e447b-120e-4322-913e-07ecdd65d612"
      },
      "outputs": [
        {
          "name": "stdout",
          "output_type": "stream",
          "text": [
            "(296, 13)\n",
            "296.25\n"
          ]
        }
      ],
      "source": [
        "print(x_train.shape)\n",
        "print(len(df)*.75)"
      ]
    },
    {
      "cell_type": "markdown",
      "metadata": {
        "id": "bS_00DNO3Tr5"
      },
      "source": [
        "- Asigna a una variable llamada **lm** el valor de linear_model.LinearRegression() para almacenar los parámetros del modelo lineal que vamos a utilizar"
      ]
    },
    {
      "cell_type": "code",
      "execution_count": null,
      "metadata": {
        "id": "GjWf3HVK3Tr6"
      },
      "outputs": [],
      "source": [
        "lm = linear_model.LinearRegression()"
      ]
    },
    {
      "cell_type": "markdown",
      "metadata": {
        "id": "LSYmmAYR3Tr7"
      },
      "source": [
        "- Genera una variable llamada **model** donde almacenes el entrenamiento del modelo. Utiliza x_train y y_train para entrenar el modelo"
      ]
    },
    {
      "cell_type": "code",
      "execution_count": null,
      "metadata": {
        "id": "TKYqRYg13Tr7"
      },
      "outputs": [],
      "source": [
        "model = lm.fit(x_train, y_train)"
      ]
    },
    {
      "cell_type": "markdown",
      "metadata": {
        "id": "3qNxl8np3Tr7"
      },
      "source": [
        "- Utilizando x_test, genera las predicciones utilizando el modelo que acabas de entrenar y almacena los valores  en una variable llamada **predictions**"
      ]
    },
    {
      "cell_type": "code",
      "execution_count": null,
      "metadata": {
        "id": "mWT31lkn3Tr8"
      },
      "outputs": [],
      "source": [
        "y_pred = lm.predict(x_test)"
      ]
    },
    {
      "cell_type": "markdown",
      "metadata": {
        "id": "HhG63mbn3Tr8"
      },
      "source": [
        "- Utiliza la librería de seaborn (sns) para generar visualización que contraste las predicciones que generó tu modelo contra y_test que eran los valores reales"
      ]
    },
    {
      "cell_type": "code",
      "execution_count": null,
      "metadata": {
        "id": "cQSHSZmg3Tr8",
        "outputId": "a4edb28b-b15a-4e7f-d6d3-65b5b8f12165"
      },
      "outputs": [
        {
          "data": {
            "text/plain": [
              "<matplotlib.axes._subplots.AxesSubplot at 0x215878de100>"
            ]
          },
          "execution_count": 30,
          "metadata": {},
          "output_type": "execute_result"
        },
        {
          "data": {
            "image/png": "[encoded data removed]",
            "text/plain": [
              "<Figure size 432x288 with 1 Axes>"
            ]
          },
          "metadata": {
            "needs_background": "light"
          },
          "output_type": "display_data"
        }
      ],
      "source": [
        "sns.regplot(y_test,y_pred )"
      ]
    },
    {
      "cell_type": "markdown",
      "metadata": {
        "id": "fuifiBp93Tr-"
      },
      "source": [
        "- Obtén el score del modelo que almacenaste en **model**. Recuerda que debes utilizar x_test, y_test como parámetros"
      ]
    },
    {
      "cell_type": "code",
      "execution_count": null,
      "metadata": {
        "id": "j_0xWDQs3Tr-",
        "outputId": "be3c4e3b-fc9b-4e89-c3c2-716fb53de3e7"
      },
      "outputs": [
        {
          "data": {
            "text/plain": [
              "0.17620712923639703"
            ]
          },
          "execution_count": 31,
          "metadata": {},
          "output_type": "execute_result"
        }
      ],
      "source": [
        "model.score(x_test,y_test)"
      ]
    },
    {
      "cell_type": "markdown",
      "metadata": {
        "id": "kIQfERJp3Tr_"
      },
      "source": [
        "- Obtén los coeficientes del modelo para cada una de las variables de X y almacénalos en una variable llamada **coef_parameter**"
      ]
    },
    {
      "cell_type": "code",
      "execution_count": null,
      "metadata": {
        "id": "MStDYMRt3Tr_"
      },
      "outputs": [],
      "source": [
        "coef_parameter = pd.DataFrame(model.coef_, X.columns, columns=['Coef'])"
      ]
    },
    {
      "cell_type": "markdown",
      "metadata": {
        "id": "8krfveUo3TsA"
      },
      "source": [
        "- Imprime coef_parameter"
      ]
    },
    {
      "cell_type": "code",
      "execution_count": null,
      "metadata": {
        "id": "Sd9vTB5u3TsB",
        "outputId": "74edc1b3-7799-4df2-ac7c-fa981c12fbe3"
      },
      "outputs": [
        {
          "data": {
            "text/html": [
              "<div>\n",
              "<style scoped>\n",
              "    .dataframe tbody tr th:only-of-type {\n",
              "        vertical-align: middle;\n",
              "    }\n",
              "\n",
              "    .dataframe tbody tr th {\n",
              "        vertical-align: top;\n",
              "    }\n",
              "\n",
              "    .dataframe thead th {\n",
              "        text-align: right;\n",
              "    }\n",
              "</style>\n",
              "<table border=\"1\" class=\"dataframe\">\n",
              "  <thead>\n",
              "    <tr style=\"text-align: right;\">\n",
              "      <th></th>\n",
              "      <th>Coef</th>\n",
              "    </tr>\n",
              "  </thead>\n",
              "  <tbody>\n",
              "    <tr>\n",
              "      <th>failures</th>\n",
              "      <td>-1.734771</td>\n",
              "    </tr>\n",
              "    <tr>\n",
              "      <th>goout</th>\n",
              "      <td>-0.635033</td>\n",
              "    </tr>\n",
              "    <tr>\n",
              "      <th>age</th>\n",
              "      <td>-0.346666</td>\n",
              "    </tr>\n",
              "    <tr>\n",
              "      <th>Dalc</th>\n",
              "      <td>-0.273391</td>\n",
              "    </tr>\n",
              "    <tr>\n",
              "      <th>health</th>\n",
              "      <td>-0.123083</td>\n",
              "    </tr>\n",
              "    <tr>\n",
              "      <th>traveltime</th>\n",
              "      <td>-0.108075</td>\n",
              "    </tr>\n",
              "    <tr>\n",
              "      <th>Fedu</th>\n",
              "      <td>0.010922</td>\n",
              "    </tr>\n",
              "    <tr>\n",
              "      <th>absences</th>\n",
              "      <td>0.034105</td>\n",
              "    </tr>\n",
              "    <tr>\n",
              "      <th>studytime</th>\n",
              "      <td>0.047127</td>\n",
              "    </tr>\n",
              "    <tr>\n",
              "      <th>Walc</th>\n",
              "      <td>0.271011</td>\n",
              "    </tr>\n",
              "    <tr>\n",
              "      <th>famrel</th>\n",
              "      <td>0.377456</td>\n",
              "    </tr>\n",
              "    <tr>\n",
              "      <th>freetime</th>\n",
              "      <td>0.449522</td>\n",
              "    </tr>\n",
              "    <tr>\n",
              "      <th>Medu</th>\n",
              "      <td>0.525936</td>\n",
              "    </tr>\n",
              "  </tbody>\n",
              "</table>\n",
              "</div>"
            ],
            "text/plain": [
              "                Coef\n",
              "failures   -1.734771\n",
              "goout      -0.635033\n",
              "age        -0.346666\n",
              "Dalc       -0.273391\n",
              "health     -0.123083\n",
              "traveltime -0.108075\n",
              "Fedu        0.010922\n",
              "absences    0.034105\n",
              "studytime   0.047127\n",
              "Walc        0.271011\n",
              "famrel      0.377456\n",
              "freetime    0.449522\n",
              "Medu        0.525936"
            ]
          },
          "execution_count": 41,
          "metadata": {},
          "output_type": "execute_result"
        }
      ],
      "source": [
        "coef_parameter.sort_values(by='Coef')"
      ]
    },
    {
      "cell_type": "markdown",
      "metadata": {
        "id": "tp56_nFC3TsB"
      },
      "source": [
        "- Obtén el valor en el que se intersecta la recta con el eje"
      ]
    },
    {
      "cell_type": "code",
      "execution_count": null,
      "metadata": {
        "id": "V7IT0pZP3TsC",
        "outputId": "4c68bafa-c00e-4a27-9b9c-f76a2f42a193"
      },
      "outputs": [
        {
          "data": {
            "text/plain": [
              "14.452688415277564"
            ]
          },
          "execution_count": 34,
          "metadata": {},
          "output_type": "execute_result"
        }
      ],
      "source": [
        "lm.intercept_"
      ]
    },
    {
      "cell_type": "markdown",
      "metadata": {
        "id": "LcvqOCAa3TsD"
      },
      "source": [
        "- Genera una variable donde almacenes los valores de la predicción de tu modelo sobre X y llámala **predict_dataset** y luego crea una variable en el dataset 'df' llamada **predicted** la cual contenga los valores que almacenaste en predict_dataset.\n",
        "\n",
        "Nota: Debe de ser sobre X porque el dataset original 'df' tiene columnas categóricas que el modelo no puede recibir como variables predictoras."
      ]
    },
    {
      "cell_type": "code",
      "execution_count": null,
      "metadata": {
        "id": "GUqjbO0N3TsD"
      },
      "outputs": [],
      "source": [
        "predicted = lm.predict(X)"
      ]
    },
    {
      "cell_type": "code",
      "execution_count": null,
      "metadata": {
        "id": "Vaz4cc_33TsE"
      },
      "outputs": [],
      "source": [
        "df['predicted'] = predicted"
      ]
    },
    {
      "cell_type": "markdown",
      "metadata": {
        "id": "ZvUX4e1h3TsE"
      },
      "source": [
        "- Por último, Obtén la métrica de R² del modelo (R² es un \"número que indica la proporción de la varianza en la variable dependiente que es predecible a partir de las variables independientes\". Básicamente, qué tan preciso es nuestro modelo)"
      ]
    },
    {
      "cell_type": "code",
      "execution_count": null,
      "metadata": {
        "id": "qDRQp3kN3TsE",
        "outputId": "5fbd0676-d50d-4fbb-9295-9b5d7445cdcd"
      },
      "outputs": [
        {
          "data": {
            "text/plain": [
              "0.17620712923639703"
            ]
          },
          "execution_count": 37,
          "metadata": {},
          "output_type": "execute_result"
        }
      ],
      "source": [
        "metrics.r2_score(y_test, y_pred)"
      ]
    }
  ],
  "metadata": {
    "colab": {
      "provenance": [],
      "include_colab_link": true
    },
    "kernelspec": {
      "display_name": "Python 3",
      "language": "python",
      "name": "python3"
    },
    "language_info": {
      "codemirror_mode": {
        "name": "ipython",
        "version": 3
      },
      "file_extension": ".py",
      "mimetype": "text/x-python",
      "name": "python",
      "nbconvert_exporter": "python",
      "pygments_lexer": "ipython3",
      "version": "3.8.3"
    }
  },
  "nbformat": 4,
  "nbformat_minor": 0
}
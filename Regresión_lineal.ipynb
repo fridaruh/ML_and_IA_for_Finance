{
  "cells": [
    {
      "cell_type": "markdown",
      "metadata": {
        "id": "view-in-github",
        "colab_type": "text"
      },
      "source": [
        "<a href=\"https://colab.research.google.com/github/fridaruh/ML_and_IA_for_Finance/blob/master/Regresi%C3%B3n_lineal.ipynb\" target=\"_parent\"><img src=\"https://colab.research.google.com/assets/colab-badge.svg\" alt=\"Open In Colab\"/></a>"
      ]
    },
    {
      "cell_type": "code",
      "execution_count": null,
      "metadata": {
        "id": "NUaYV5YerxoU"
      },
      "outputs": [],
      "source": [
        "import pandas as pd\n",
        "import numpy as np\n",
        "import seaborn as sns"
      ]
    },
    {
      "cell_type": "code",
      "execution_count": null,
      "metadata": {
        "id": "gg7W88rWrxoZ"
      },
      "outputs": [],
      "source": [
        "from sklearn.model_selection import train_test_split\n",
        "from sklearn import datasets"
      ]
    },
    {
      "cell_type": "code",
      "execution_count": null,
      "metadata": {
        "id": "5yi1a9pmrxoa"
      },
      "outputs": [],
      "source": [
        "datos = datasets.load_boston()"
      ]
    },
    {
      "cell_type": "code",
      "execution_count": null,
      "metadata": {
        "id": "Oz7RzN0Lrxoa"
      },
      "outputs": [],
      "source": [
        "#datos están en formato json"
      ]
    },
    {
      "cell_type": "code",
      "execution_count": null,
      "metadata": {
        "id": "qnzadaI5rxob"
      },
      "outputs": [],
      "source": [
        "df = pd.DataFrame(datos.data, columns=datos.feature_names)"
      ]
    },
    {
      "cell_type": "code",
      "execution_count": null,
      "metadata": {
        "id": "AX-5tRWmrxob",
        "outputId": "f3319800-3745-4930-eb7b-14c7c8e77d61"
      },
      "outputs": [
        {
          "data": {
            "text/html": [
              "<div>\n",
              "<style scoped>\n",
              "    .dataframe tbody tr th:only-of-type {\n",
              "        vertical-align: middle;\n",
              "    }\n",
              "\n",
              "    .dataframe tbody tr th {\n",
              "        vertical-align: top;\n",
              "    }\n",
              "\n",
              "    .dataframe thead th {\n",
              "        text-align: right;\n",
              "    }\n",
              "</style>\n",
              "<table border=\"1\" class=\"dataframe\">\n",
              "  <thead>\n",
              "    <tr style=\"text-align: right;\">\n",
              "      <th></th>\n",
              "      <th>CRIM</th>\n",
              "      <th>ZN</th>\n",
              "      <th>INDUS</th>\n",
              "      <th>CHAS</th>\n",
              "      <th>NOX</th>\n",
              "      <th>RM</th>\n",
              "      <th>AGE</th>\n",
              "      <th>DIS</th>\n",
              "      <th>RAD</th>\n",
              "      <th>TAX</th>\n",
              "      <th>PTRATIO</th>\n",
              "      <th>B</th>\n",
              "      <th>LSTAT</th>\n",
              "    </tr>\n",
              "  </thead>\n",
              "  <tbody>\n",
              "    <tr>\n",
              "      <th>0</th>\n",
              "      <td>0.00632</td>\n",
              "      <td>18.0</td>\n",
              "      <td>2.31</td>\n",
              "      <td>0.0</td>\n",
              "      <td>0.538</td>\n",
              "      <td>6.575</td>\n",
              "      <td>65.2</td>\n",
              "      <td>4.0900</td>\n",
              "      <td>1.0</td>\n",
              "      <td>296.0</td>\n",
              "      <td>15.3</td>\n",
              "      <td>396.90</td>\n",
              "      <td>4.98</td>\n",
              "    </tr>\n",
              "    <tr>\n",
              "      <th>1</th>\n",
              "      <td>0.02731</td>\n",
              "      <td>0.0</td>\n",
              "      <td>7.07</td>\n",
              "      <td>0.0</td>\n",
              "      <td>0.469</td>\n",
              "      <td>6.421</td>\n",
              "      <td>78.9</td>\n",
              "      <td>4.9671</td>\n",
              "      <td>2.0</td>\n",
              "      <td>242.0</td>\n",
              "      <td>17.8</td>\n",
              "      <td>396.90</td>\n",
              "      <td>9.14</td>\n",
              "    </tr>\n",
              "    <tr>\n",
              "      <th>2</th>\n",
              "      <td>0.02729</td>\n",
              "      <td>0.0</td>\n",
              "      <td>7.07</td>\n",
              "      <td>0.0</td>\n",
              "      <td>0.469</td>\n",
              "      <td>7.185</td>\n",
              "      <td>61.1</td>\n",
              "      <td>4.9671</td>\n",
              "      <td>2.0</td>\n",
              "      <td>242.0</td>\n",
              "      <td>17.8</td>\n",
              "      <td>392.83</td>\n",
              "      <td>4.03</td>\n",
              "    </tr>\n",
              "    <tr>\n",
              "      <th>3</th>\n",
              "      <td>0.03237</td>\n",
              "      <td>0.0</td>\n",
              "      <td>2.18</td>\n",
              "      <td>0.0</td>\n",
              "      <td>0.458</td>\n",
              "      <td>6.998</td>\n",
              "      <td>45.8</td>\n",
              "      <td>6.0622</td>\n",
              "      <td>3.0</td>\n",
              "      <td>222.0</td>\n",
              "      <td>18.7</td>\n",
              "      <td>394.63</td>\n",
              "      <td>2.94</td>\n",
              "    </tr>\n",
              "    <tr>\n",
              "      <th>4</th>\n",
              "      <td>0.06905</td>\n",
              "      <td>0.0</td>\n",
              "      <td>2.18</td>\n",
              "      <td>0.0</td>\n",
              "      <td>0.458</td>\n",
              "      <td>7.147</td>\n",
              "      <td>54.2</td>\n",
              "      <td>6.0622</td>\n",
              "      <td>3.0</td>\n",
              "      <td>222.0</td>\n",
              "      <td>18.7</td>\n",
              "      <td>396.90</td>\n",
              "      <td>5.33</td>\n",
              "    </tr>\n",
              "  </tbody>\n",
              "</table>\n",
              "</div>"
            ],
            "text/plain": [
              "      CRIM    ZN  INDUS  CHAS    NOX     RM   AGE     DIS  RAD    TAX  \\\n",
              "0  0.00632  18.0   2.31   0.0  0.538  6.575  65.2  4.0900  1.0  296.0   \n",
              "1  0.02731   0.0   7.07   0.0  0.469  6.421  78.9  4.9671  2.0  242.0   \n",
              "2  0.02729   0.0   7.07   0.0  0.469  7.185  61.1  4.9671  2.0  242.0   \n",
              "3  0.03237   0.0   2.18   0.0  0.458  6.998  45.8  6.0622  3.0  222.0   \n",
              "4  0.06905   0.0   2.18   0.0  0.458  7.147  54.2  6.0622  3.0  222.0   \n",
              "\n",
              "   PTRATIO       B  LSTAT  \n",
              "0     15.3  396.90   4.98  \n",
              "1     17.8  396.90   9.14  \n",
              "2     17.8  392.83   4.03  \n",
              "3     18.7  394.63   2.94  \n",
              "4     18.7  396.90   5.33  "
            ]
          },
          "execution_count": 6,
          "metadata": {},
          "output_type": "execute_result"
        }
      ],
      "source": [
        "df.head()"
      ]
    },
    {
      "cell_type": "code",
      "execution_count": null,
      "metadata": {
        "id": "F5yULPUprxoc",
        "outputId": "1ddd2396-a1f6-4a1b-d36a-394b957c3428"
      },
      "outputs": [
        {
          "data": {
            "text/plain": [
              "Index(['CRIM', 'ZN', 'INDUS', 'CHAS', 'NOX', 'RM', 'AGE', 'DIS', 'RAD', 'TAX',\n",
              "       'PTRATIO', 'B', 'LSTAT'],\n",
              "      dtype='object')"
            ]
          },
          "execution_count": 7,
          "metadata": {},
          "output_type": "execute_result"
        }
      ],
      "source": [
        "df.columns"
      ]
    },
    {
      "cell_type": "code",
      "execution_count": null,
      "metadata": {
        "id": "xijS2X7mrxod"
      },
      "outputs": [],
      "source": [
        "df.columns = ['tasa_criminalidad','terreno_residencial','proporcion_comercial',\n",
        "          'lim_rio','oxido_nitrico','habitaciones','antiguedad','dist_empleo',\n",
        "          'ind_carretera','tax','alumno_profesor','N','pct_estado']"
      ]
    },
    {
      "cell_type": "code",
      "execution_count": null,
      "metadata": {
        "id": "Jue6b8Qurxoe",
        "outputId": "a2140b22-1092-41c3-c804-39b6b231694d"
      },
      "outputs": [
        {
          "data": {
            "text/html": [
              "<div>\n",
              "<style scoped>\n",
              "    .dataframe tbody tr th:only-of-type {\n",
              "        vertical-align: middle;\n",
              "    }\n",
              "\n",
              "    .dataframe tbody tr th {\n",
              "        vertical-align: top;\n",
              "    }\n",
              "\n",
              "    .dataframe thead th {\n",
              "        text-align: right;\n",
              "    }\n",
              "</style>\n",
              "<table border=\"1\" class=\"dataframe\">\n",
              "  <thead>\n",
              "    <tr style=\"text-align: right;\">\n",
              "      <th></th>\n",
              "      <th>tasa_criminalidad</th>\n",
              "      <th>terreno_residencial</th>\n",
              "      <th>proporcion_comercial</th>\n",
              "      <th>lim_rio</th>\n",
              "      <th>oxido_nitrico</th>\n",
              "      <th>habitaciones</th>\n",
              "      <th>antiguedad</th>\n",
              "      <th>dist_empleo</th>\n",
              "      <th>ind_carretera</th>\n",
              "      <th>tax</th>\n",
              "      <th>alumno_profesor</th>\n",
              "      <th>N</th>\n",
              "      <th>pct_estado</th>\n",
              "    </tr>\n",
              "  </thead>\n",
              "  <tbody>\n",
              "    <tr>\n",
              "      <th>0</th>\n",
              "      <td>0.00632</td>\n",
              "      <td>18.0</td>\n",
              "      <td>2.31</td>\n",
              "      <td>0.0</td>\n",
              "      <td>0.538</td>\n",
              "      <td>6.575</td>\n",
              "      <td>65.2</td>\n",
              "      <td>4.0900</td>\n",
              "      <td>1.0</td>\n",
              "      <td>296.0</td>\n",
              "      <td>15.3</td>\n",
              "      <td>396.90</td>\n",
              "      <td>4.98</td>\n",
              "    </tr>\n",
              "    <tr>\n",
              "      <th>1</th>\n",
              "      <td>0.02731</td>\n",
              "      <td>0.0</td>\n",
              "      <td>7.07</td>\n",
              "      <td>0.0</td>\n",
              "      <td>0.469</td>\n",
              "      <td>6.421</td>\n",
              "      <td>78.9</td>\n",
              "      <td>4.9671</td>\n",
              "      <td>2.0</td>\n",
              "      <td>242.0</td>\n",
              "      <td>17.8</td>\n",
              "      <td>396.90</td>\n",
              "      <td>9.14</td>\n",
              "    </tr>\n",
              "    <tr>\n",
              "      <th>2</th>\n",
              "      <td>0.02729</td>\n",
              "      <td>0.0</td>\n",
              "      <td>7.07</td>\n",
              "      <td>0.0</td>\n",
              "      <td>0.469</td>\n",
              "      <td>7.185</td>\n",
              "      <td>61.1</td>\n",
              "      <td>4.9671</td>\n",
              "      <td>2.0</td>\n",
              "      <td>242.0</td>\n",
              "      <td>17.8</td>\n",
              "      <td>392.83</td>\n",
              "      <td>4.03</td>\n",
              "    </tr>\n",
              "    <tr>\n",
              "      <th>3</th>\n",
              "      <td>0.03237</td>\n",
              "      <td>0.0</td>\n",
              "      <td>2.18</td>\n",
              "      <td>0.0</td>\n",
              "      <td>0.458</td>\n",
              "      <td>6.998</td>\n",
              "      <td>45.8</td>\n",
              "      <td>6.0622</td>\n",
              "      <td>3.0</td>\n",
              "      <td>222.0</td>\n",
              "      <td>18.7</td>\n",
              "      <td>394.63</td>\n",
              "      <td>2.94</td>\n",
              "    </tr>\n",
              "    <tr>\n",
              "      <th>4</th>\n",
              "      <td>0.06905</td>\n",
              "      <td>0.0</td>\n",
              "      <td>2.18</td>\n",
              "      <td>0.0</td>\n",
              "      <td>0.458</td>\n",
              "      <td>7.147</td>\n",
              "      <td>54.2</td>\n",
              "      <td>6.0622</td>\n",
              "      <td>3.0</td>\n",
              "      <td>222.0</td>\n",
              "      <td>18.7</td>\n",
              "      <td>396.90</td>\n",
              "      <td>5.33</td>\n",
              "    </tr>\n",
              "  </tbody>\n",
              "</table>\n",
              "</div>"
            ],
            "text/plain": [
              "   tasa_criminalidad  terreno_residencial  proporcion_comercial  lim_rio  \\\n",
              "0            0.00632                 18.0                  2.31      0.0   \n",
              "1            0.02731                  0.0                  7.07      0.0   \n",
              "2            0.02729                  0.0                  7.07      0.0   \n",
              "3            0.03237                  0.0                  2.18      0.0   \n",
              "4            0.06905                  0.0                  2.18      0.0   \n",
              "\n",
              "   oxido_nitrico  habitaciones  antiguedad  dist_empleo  ind_carretera    tax  \\\n",
              "0          0.538         6.575        65.2       4.0900            1.0  296.0   \n",
              "1          0.469         6.421        78.9       4.9671            2.0  242.0   \n",
              "2          0.469         7.185        61.1       4.9671            2.0  242.0   \n",
              "3          0.458         6.998        45.8       6.0622            3.0  222.0   \n",
              "4          0.458         7.147        54.2       6.0622            3.0  222.0   \n",
              "\n",
              "   alumno_profesor       N  pct_estado  \n",
              "0             15.3  396.90        4.98  \n",
              "1             17.8  396.90        9.14  \n",
              "2             17.8  392.83        4.03  \n",
              "3             18.7  394.63        2.94  \n",
              "4             18.7  396.90        5.33  "
            ]
          },
          "execution_count": 9,
          "metadata": {},
          "output_type": "execute_result"
        }
      ],
      "source": [
        "df.head()"
      ]
    },
    {
      "cell_type": "code",
      "execution_count": null,
      "metadata": {
        "id": "kYyBFh2Wrxoe",
        "outputId": "b7ced701-5fa0-4940-e31e-0abf622e34b4"
      },
      "outputs": [
        {
          "data": {
            "text/plain": [
              "(506, 13)"
            ]
          },
          "execution_count": 10,
          "metadata": {},
          "output_type": "execute_result"
        }
      ],
      "source": [
        "df.shape"
      ]
    },
    {
      "cell_type": "code",
      "execution_count": null,
      "metadata": {
        "id": "NgjzvQU1rxof",
        "outputId": "65ec2546-da00-4c8b-a363-e23cf52add76"
      },
      "outputs": [
        {
          "data": {
            "text/html": [
              "<div>\n",
              "<style scoped>\n",
              "    .dataframe tbody tr th:only-of-type {\n",
              "        vertical-align: middle;\n",
              "    }\n",
              "\n",
              "    .dataframe tbody tr th {\n",
              "        vertical-align: top;\n",
              "    }\n",
              "\n",
              "    .dataframe thead th {\n",
              "        text-align: right;\n",
              "    }\n",
              "</style>\n",
              "<table border=\"1\" class=\"dataframe\">\n",
              "  <thead>\n",
              "    <tr style=\"text-align: right;\">\n",
              "      <th></th>\n",
              "      <th>tasa_criminalidad</th>\n",
              "      <th>terreno_residencial</th>\n",
              "      <th>proporcion_comercial</th>\n",
              "      <th>lim_rio</th>\n",
              "      <th>oxido_nitrico</th>\n",
              "      <th>habitaciones</th>\n",
              "      <th>antiguedad</th>\n",
              "      <th>dist_empleo</th>\n",
              "      <th>ind_carretera</th>\n",
              "      <th>tax</th>\n",
              "      <th>alumno_profesor</th>\n",
              "      <th>N</th>\n",
              "      <th>pct_estado</th>\n",
              "    </tr>\n",
              "  </thead>\n",
              "  <tbody>\n",
              "    <tr>\n",
              "      <th>count</th>\n",
              "      <td>506.000000</td>\n",
              "      <td>506.000000</td>\n",
              "      <td>506.000000</td>\n",
              "      <td>506.000000</td>\n",
              "      <td>506.000000</td>\n",
              "      <td>506.000000</td>\n",
              "      <td>506.000000</td>\n",
              "      <td>506.000000</td>\n",
              "      <td>506.000000</td>\n",
              "      <td>506.000000</td>\n",
              "      <td>506.000000</td>\n",
              "      <td>506.000000</td>\n",
              "      <td>506.000000</td>\n",
              "    </tr>\n",
              "    <tr>\n",
              "      <th>mean</th>\n",
              "      <td>3.613524</td>\n",
              "      <td>11.363636</td>\n",
              "      <td>11.136779</td>\n",
              "      <td>0.069170</td>\n",
              "      <td>0.554695</td>\n",
              "      <td>6.284634</td>\n",
              "      <td>68.574901</td>\n",
              "      <td>3.795043</td>\n",
              "      <td>9.549407</td>\n",
              "      <td>408.237154</td>\n",
              "      <td>18.455534</td>\n",
              "      <td>356.674032</td>\n",
              "      <td>12.653063</td>\n",
              "    </tr>\n",
              "    <tr>\n",
              "      <th>std</th>\n",
              "      <td>8.601545</td>\n",
              "      <td>23.322453</td>\n",
              "      <td>6.860353</td>\n",
              "      <td>0.253994</td>\n",
              "      <td>0.115878</td>\n",
              "      <td>0.702617</td>\n",
              "      <td>28.148861</td>\n",
              "      <td>2.105710</td>\n",
              "      <td>8.707259</td>\n",
              "      <td>168.537116</td>\n",
              "      <td>2.164946</td>\n",
              "      <td>91.294864</td>\n",
              "      <td>7.141062</td>\n",
              "    </tr>\n",
              "    <tr>\n",
              "      <th>min</th>\n",
              "      <td>0.006320</td>\n",
              "      <td>0.000000</td>\n",
              "      <td>0.460000</td>\n",
              "      <td>0.000000</td>\n",
              "      <td>0.385000</td>\n",
              "      <td>3.561000</td>\n",
              "      <td>2.900000</td>\n",
              "      <td>1.129600</td>\n",
              "      <td>1.000000</td>\n",
              "      <td>187.000000</td>\n",
              "      <td>12.600000</td>\n",
              "      <td>0.320000</td>\n",
              "      <td>1.730000</td>\n",
              "    </tr>\n",
              "    <tr>\n",
              "      <th>25%</th>\n",
              "      <td>0.082045</td>\n",
              "      <td>0.000000</td>\n",
              "      <td>5.190000</td>\n",
              "      <td>0.000000</td>\n",
              "      <td>0.449000</td>\n",
              "      <td>5.885500</td>\n",
              "      <td>45.025000</td>\n",
              "      <td>2.100175</td>\n",
              "      <td>4.000000</td>\n",
              "      <td>279.000000</td>\n",
              "      <td>17.400000</td>\n",
              "      <td>375.377500</td>\n",
              "      <td>6.950000</td>\n",
              "    </tr>\n",
              "    <tr>\n",
              "      <th>50%</th>\n",
              "      <td>0.256510</td>\n",
              "      <td>0.000000</td>\n",
              "      <td>9.690000</td>\n",
              "      <td>0.000000</td>\n",
              "      <td>0.538000</td>\n",
              "      <td>6.208500</td>\n",
              "      <td>77.500000</td>\n",
              "      <td>3.207450</td>\n",
              "      <td>5.000000</td>\n",
              "      <td>330.000000</td>\n",
              "      <td>19.050000</td>\n",
              "      <td>391.440000</td>\n",
              "      <td>11.360000</td>\n",
              "    </tr>\n",
              "    <tr>\n",
              "      <th>75%</th>\n",
              "      <td>3.677083</td>\n",
              "      <td>12.500000</td>\n",
              "      <td>18.100000</td>\n",
              "      <td>0.000000</td>\n",
              "      <td>0.624000</td>\n",
              "      <td>6.623500</td>\n",
              "      <td>94.075000</td>\n",
              "      <td>5.188425</td>\n",
              "      <td>24.000000</td>\n",
              "      <td>666.000000</td>\n",
              "      <td>20.200000</td>\n",
              "      <td>396.225000</td>\n",
              "      <td>16.955000</td>\n",
              "    </tr>\n",
              "    <tr>\n",
              "      <th>max</th>\n",
              "      <td>88.976200</td>\n",
              "      <td>100.000000</td>\n",
              "      <td>27.740000</td>\n",
              "      <td>1.000000</td>\n",
              "      <td>0.871000</td>\n",
              "      <td>8.780000</td>\n",
              "      <td>100.000000</td>\n",
              "      <td>12.126500</td>\n",
              "      <td>24.000000</td>\n",
              "      <td>711.000000</td>\n",
              "      <td>22.000000</td>\n",
              "      <td>396.900000</td>\n",
              "      <td>37.970000</td>\n",
              "    </tr>\n",
              "  </tbody>\n",
              "</table>\n",
              "</div>"
            ],
            "text/plain": [
              "       tasa_criminalidad  terreno_residencial  proporcion_comercial  \\\n",
              "count         506.000000           506.000000            506.000000   \n",
              "mean            3.613524            11.363636             11.136779   \n",
              "std             8.601545            23.322453              6.860353   \n",
              "min             0.006320             0.000000              0.460000   \n",
              "25%             0.082045             0.000000              5.190000   \n",
              "50%             0.256510             0.000000              9.690000   \n",
              "75%             3.677083            12.500000             18.100000   \n",
              "max            88.976200           100.000000             27.740000   \n",
              "\n",
              "          lim_rio  oxido_nitrico  habitaciones  antiguedad  dist_empleo  \\\n",
              "count  506.000000     506.000000    506.000000  506.000000   506.000000   \n",
              "mean     0.069170       0.554695      6.284634   68.574901     3.795043   \n",
              "std      0.253994       0.115878      0.702617   28.148861     2.105710   \n",
              "min      0.000000       0.385000      3.561000    2.900000     1.129600   \n",
              "25%      0.000000       0.449000      5.885500   45.025000     2.100175   \n",
              "50%      0.000000       0.538000      6.208500   77.500000     3.207450   \n",
              "75%      0.000000       0.624000      6.623500   94.075000     5.188425   \n",
              "max      1.000000       0.871000      8.780000  100.000000    12.126500   \n",
              "\n",
              "       ind_carretera         tax  alumno_profesor           N  pct_estado  \n",
              "count     506.000000  506.000000       506.000000  506.000000  506.000000  \n",
              "mean        9.549407  408.237154        18.455534  356.674032   12.653063  \n",
              "std         8.707259  168.537116         2.164946   91.294864    7.141062  \n",
              "min         1.000000  187.000000        12.600000    0.320000    1.730000  \n",
              "25%         4.000000  279.000000        17.400000  375.377500    6.950000  \n",
              "50%         5.000000  330.000000        19.050000  391.440000   11.360000  \n",
              "75%        24.000000  666.000000        20.200000  396.225000   16.955000  \n",
              "max        24.000000  711.000000        22.000000  396.900000   37.970000  "
            ]
          },
          "execution_count": 11,
          "metadata": {},
          "output_type": "execute_result"
        }
      ],
      "source": [
        "df.describe()"
      ]
    },
    {
      "cell_type": "code",
      "execution_count": null,
      "metadata": {
        "id": "7-Z2AhxNrxog"
      },
      "outputs": [],
      "source": [
        "corrMatrix = df.corr()"
      ]
    },
    {
      "cell_type": "code",
      "execution_count": null,
      "metadata": {
        "id": "Y56uFz1qrxog"
      },
      "outputs": [],
      "source": [
        "import matplotlib.pyplot as plt #Librería de visualización de datos"
      ]
    },
    {
      "cell_type": "code",
      "execution_count": null,
      "metadata": {
        "id": "zggyt4efrxoh",
        "outputId": "6363f2bd-e331-4144-b4b3-2dac4b0cede3"
      },
      "outputs": [
        {
          "data": {
            "image/png": "[encoded data removed]",
            "text/plain": [
              "<Figure size 720x648 with 2 Axes>"
            ]
          },
          "metadata": {
            "needs_background": "light"
          },
          "output_type": "display_data"
        }
      ],
      "source": [
        "fig, ax = plt.subplots(figsize= (10,9))\n",
        "sns.heatmap(corrMatrix, annot=True)\n",
        "plt.show()"
      ]
    },
    {
      "cell_type": "code",
      "execution_count": null,
      "metadata": {
        "id": "I8pqZb_Drxoi"
      },
      "outputs": [],
      "source": [
        "price = pd.DataFrame(datos.target, columns=['Valor_medio_usd'])"
      ]
    },
    {
      "cell_type": "code",
      "execution_count": null,
      "metadata": {
        "id": "7mLspd49rxoi",
        "outputId": "b194a294-5451-4e45-eeab-56d139b34a4b"
      },
      "outputs": [
        {
          "data": {
            "text/html": [
              "<div>\n",
              "<style scoped>\n",
              "    .dataframe tbody tr th:only-of-type {\n",
              "        vertical-align: middle;\n",
              "    }\n",
              "\n",
              "    .dataframe tbody tr th {\n",
              "        vertical-align: top;\n",
              "    }\n",
              "\n",
              "    .dataframe thead th {\n",
              "        text-align: right;\n",
              "    }\n",
              "</style>\n",
              "<table border=\"1\" class=\"dataframe\">\n",
              "  <thead>\n",
              "    <tr style=\"text-align: right;\">\n",
              "      <th></th>\n",
              "      <th>Valor_medio_usd</th>\n",
              "    </tr>\n",
              "  </thead>\n",
              "  <tbody>\n",
              "    <tr>\n",
              "      <th>0</th>\n",
              "      <td>24.0</td>\n",
              "    </tr>\n",
              "    <tr>\n",
              "      <th>1</th>\n",
              "      <td>21.6</td>\n",
              "    </tr>\n",
              "    <tr>\n",
              "      <th>2</th>\n",
              "      <td>34.7</td>\n",
              "    </tr>\n",
              "    <tr>\n",
              "      <th>3</th>\n",
              "      <td>33.4</td>\n",
              "    </tr>\n",
              "    <tr>\n",
              "      <th>4</th>\n",
              "      <td>36.2</td>\n",
              "    </tr>\n",
              "  </tbody>\n",
              "</table>\n",
              "</div>"
            ],
            "text/plain": [
              "   Valor_medio_usd\n",
              "0             24.0\n",
              "1             21.6\n",
              "2             34.7\n",
              "3             33.4\n",
              "4             36.2"
            ]
          },
          "execution_count": 16,
          "metadata": {},
          "output_type": "execute_result"
        }
      ],
      "source": [
        "price.head()"
      ]
    },
    {
      "cell_type": "code",
      "execution_count": null,
      "metadata": {
        "id": "AGSOL3prrxoj",
        "outputId": "1410a21a-514e-4545-8c6e-ce1765fa24e8"
      },
      "outputs": [
        {
          "data": {
            "text/html": [
              "<div>\n",
              "<style scoped>\n",
              "    .dataframe tbody tr th:only-of-type {\n",
              "        vertical-align: middle;\n",
              "    }\n",
              "\n",
              "    .dataframe tbody tr th {\n",
              "        vertical-align: top;\n",
              "    }\n",
              "\n",
              "    .dataframe thead th {\n",
              "        text-align: right;\n",
              "    }\n",
              "</style>\n",
              "<table border=\"1\" class=\"dataframe\">\n",
              "  <thead>\n",
              "    <tr style=\"text-align: right;\">\n",
              "      <th></th>\n",
              "      <th>tasa_criminalidad</th>\n",
              "      <th>terreno_residencial</th>\n",
              "      <th>proporcion_comercial</th>\n",
              "      <th>lim_rio</th>\n",
              "      <th>oxido_nitrico</th>\n",
              "      <th>habitaciones</th>\n",
              "      <th>antiguedad</th>\n",
              "      <th>dist_empleo</th>\n",
              "      <th>ind_carretera</th>\n",
              "      <th>tax</th>\n",
              "      <th>alumno_profesor</th>\n",
              "      <th>N</th>\n",
              "      <th>pct_estado</th>\n",
              "    </tr>\n",
              "  </thead>\n",
              "  <tbody>\n",
              "    <tr>\n",
              "      <th>0</th>\n",
              "      <td>0.00632</td>\n",
              "      <td>18.0</td>\n",
              "      <td>2.31</td>\n",
              "      <td>0.0</td>\n",
              "      <td>0.538</td>\n",
              "      <td>6.575</td>\n",
              "      <td>65.2</td>\n",
              "      <td>4.0900</td>\n",
              "      <td>1.0</td>\n",
              "      <td>296.0</td>\n",
              "      <td>15.3</td>\n",
              "      <td>396.90</td>\n",
              "      <td>4.98</td>\n",
              "    </tr>\n",
              "    <tr>\n",
              "      <th>1</th>\n",
              "      <td>0.02731</td>\n",
              "      <td>0.0</td>\n",
              "      <td>7.07</td>\n",
              "      <td>0.0</td>\n",
              "      <td>0.469</td>\n",
              "      <td>6.421</td>\n",
              "      <td>78.9</td>\n",
              "      <td>4.9671</td>\n",
              "      <td>2.0</td>\n",
              "      <td>242.0</td>\n",
              "      <td>17.8</td>\n",
              "      <td>396.90</td>\n",
              "      <td>9.14</td>\n",
              "    </tr>\n",
              "    <tr>\n",
              "      <th>2</th>\n",
              "      <td>0.02729</td>\n",
              "      <td>0.0</td>\n",
              "      <td>7.07</td>\n",
              "      <td>0.0</td>\n",
              "      <td>0.469</td>\n",
              "      <td>7.185</td>\n",
              "      <td>61.1</td>\n",
              "      <td>4.9671</td>\n",
              "      <td>2.0</td>\n",
              "      <td>242.0</td>\n",
              "      <td>17.8</td>\n",
              "      <td>392.83</td>\n",
              "      <td>4.03</td>\n",
              "    </tr>\n",
              "    <tr>\n",
              "      <th>3</th>\n",
              "      <td>0.03237</td>\n",
              "      <td>0.0</td>\n",
              "      <td>2.18</td>\n",
              "      <td>0.0</td>\n",
              "      <td>0.458</td>\n",
              "      <td>6.998</td>\n",
              "      <td>45.8</td>\n",
              "      <td>6.0622</td>\n",
              "      <td>3.0</td>\n",
              "      <td>222.0</td>\n",
              "      <td>18.7</td>\n",
              "      <td>394.63</td>\n",
              "      <td>2.94</td>\n",
              "    </tr>\n",
              "    <tr>\n",
              "      <th>4</th>\n",
              "      <td>0.06905</td>\n",
              "      <td>0.0</td>\n",
              "      <td>2.18</td>\n",
              "      <td>0.0</td>\n",
              "      <td>0.458</td>\n",
              "      <td>7.147</td>\n",
              "      <td>54.2</td>\n",
              "      <td>6.0622</td>\n",
              "      <td>3.0</td>\n",
              "      <td>222.0</td>\n",
              "      <td>18.7</td>\n",
              "      <td>396.90</td>\n",
              "      <td>5.33</td>\n",
              "    </tr>\n",
              "  </tbody>\n",
              "</table>\n",
              "</div>"
            ],
            "text/plain": [
              "   tasa_criminalidad  terreno_residencial  proporcion_comercial  lim_rio  \\\n",
              "0            0.00632                 18.0                  2.31      0.0   \n",
              "1            0.02731                  0.0                  7.07      0.0   \n",
              "2            0.02729                  0.0                  7.07      0.0   \n",
              "3            0.03237                  0.0                  2.18      0.0   \n",
              "4            0.06905                  0.0                  2.18      0.0   \n",
              "\n",
              "   oxido_nitrico  habitaciones  antiguedad  dist_empleo  ind_carretera    tax  \\\n",
              "0          0.538         6.575        65.2       4.0900            1.0  296.0   \n",
              "1          0.469         6.421        78.9       4.9671            2.0  242.0   \n",
              "2          0.469         7.185        61.1       4.9671            2.0  242.0   \n",
              "3          0.458         6.998        45.8       6.0622            3.0  222.0   \n",
              "4          0.458         7.147        54.2       6.0622            3.0  222.0   \n",
              "\n",
              "   alumno_profesor       N  pct_estado  \n",
              "0             15.3  396.90        4.98  \n",
              "1             17.8  396.90        9.14  \n",
              "2             17.8  392.83        4.03  \n",
              "3             18.7  394.63        2.94  \n",
              "4             18.7  396.90        5.33  "
            ]
          },
          "execution_count": 17,
          "metadata": {},
          "output_type": "execute_result"
        }
      ],
      "source": [
        "df.head()"
      ]
    },
    {
      "cell_type": "code",
      "execution_count": null,
      "metadata": {
        "id": "TT4yGiylrxoj",
        "outputId": "d0add123-0edd-4b98-f3a2-df06c129228f"
      },
      "outputs": [
        {
          "data": {
            "text/html": [
              "<div>\n",
              "<style scoped>\n",
              "    .dataframe tbody tr th:only-of-type {\n",
              "        vertical-align: middle;\n",
              "    }\n",
              "\n",
              "    .dataframe tbody tr th {\n",
              "        vertical-align: top;\n",
              "    }\n",
              "\n",
              "    .dataframe thead th {\n",
              "        text-align: right;\n",
              "    }\n",
              "</style>\n",
              "<table border=\"1\" class=\"dataframe\">\n",
              "  <thead>\n",
              "    <tr style=\"text-align: right;\">\n",
              "      <th></th>\n",
              "      <th>tasa_criminalidad</th>\n",
              "      <th>terreno_residencial</th>\n",
              "      <th>proporcion_comercial</th>\n",
              "      <th>lim_rio</th>\n",
              "      <th>oxido_nitrico</th>\n",
              "      <th>habitaciones</th>\n",
              "      <th>antiguedad</th>\n",
              "      <th>dist_empleo</th>\n",
              "      <th>ind_carretera</th>\n",
              "      <th>tax</th>\n",
              "      <th>alumno_profesor</th>\n",
              "      <th>N</th>\n",
              "      <th>pct_estado</th>\n",
              "    </tr>\n",
              "  </thead>\n",
              "  <tbody>\n",
              "    <tr>\n",
              "      <th>count</th>\n",
              "      <td>506.000000</td>\n",
              "      <td>506.000000</td>\n",
              "      <td>506.000000</td>\n",
              "      <td>506.000000</td>\n",
              "      <td>506.000000</td>\n",
              "      <td>506.000000</td>\n",
              "      <td>506.000000</td>\n",
              "      <td>506.000000</td>\n",
              "      <td>506.000000</td>\n",
              "      <td>506.000000</td>\n",
              "      <td>506.000000</td>\n",
              "      <td>506.000000</td>\n",
              "      <td>506.000000</td>\n",
              "    </tr>\n",
              "    <tr>\n",
              "      <th>mean</th>\n",
              "      <td>3.613524</td>\n",
              "      <td>11.363636</td>\n",
              "      <td>11.136779</td>\n",
              "      <td>0.069170</td>\n",
              "      <td>0.554695</td>\n",
              "      <td>6.284634</td>\n",
              "      <td>68.574901</td>\n",
              "      <td>3.795043</td>\n",
              "      <td>9.549407</td>\n",
              "      <td>408.237154</td>\n",
              "      <td>18.455534</td>\n",
              "      <td>356.674032</td>\n",
              "      <td>12.653063</td>\n",
              "    </tr>\n",
              "    <tr>\n",
              "      <th>std</th>\n",
              "      <td>8.601545</td>\n",
              "      <td>23.322453</td>\n",
              "      <td>6.860353</td>\n",
              "      <td>0.253994</td>\n",
              "      <td>0.115878</td>\n",
              "      <td>0.702617</td>\n",
              "      <td>28.148861</td>\n",
              "      <td>2.105710</td>\n",
              "      <td>8.707259</td>\n",
              "      <td>168.537116</td>\n",
              "      <td>2.164946</td>\n",
              "      <td>91.294864</td>\n",
              "      <td>7.141062</td>\n",
              "    </tr>\n",
              "    <tr>\n",
              "      <th>min</th>\n",
              "      <td>0.006320</td>\n",
              "      <td>0.000000</td>\n",
              "      <td>0.460000</td>\n",
              "      <td>0.000000</td>\n",
              "      <td>0.385000</td>\n",
              "      <td>3.561000</td>\n",
              "      <td>2.900000</td>\n",
              "      <td>1.129600</td>\n",
              "      <td>1.000000</td>\n",
              "      <td>187.000000</td>\n",
              "      <td>12.600000</td>\n",
              "      <td>0.320000</td>\n",
              "      <td>1.730000</td>\n",
              "    </tr>\n",
              "    <tr>\n",
              "      <th>25%</th>\n",
              "      <td>0.082045</td>\n",
              "      <td>0.000000</td>\n",
              "      <td>5.190000</td>\n",
              "      <td>0.000000</td>\n",
              "      <td>0.449000</td>\n",
              "      <td>5.885500</td>\n",
              "      <td>45.025000</td>\n",
              "      <td>2.100175</td>\n",
              "      <td>4.000000</td>\n",
              "      <td>279.000000</td>\n",
              "      <td>17.400000</td>\n",
              "      <td>375.377500</td>\n",
              "      <td>6.950000</td>\n",
              "    </tr>\n",
              "    <tr>\n",
              "      <th>50%</th>\n",
              "      <td>0.256510</td>\n",
              "      <td>0.000000</td>\n",
              "      <td>9.690000</td>\n",
              "      <td>0.000000</td>\n",
              "      <td>0.538000</td>\n",
              "      <td>6.208500</td>\n",
              "      <td>77.500000</td>\n",
              "      <td>3.207450</td>\n",
              "      <td>5.000000</td>\n",
              "      <td>330.000000</td>\n",
              "      <td>19.050000</td>\n",
              "      <td>391.440000</td>\n",
              "      <td>11.360000</td>\n",
              "    </tr>\n",
              "    <tr>\n",
              "      <th>75%</th>\n",
              "      <td>3.677083</td>\n",
              "      <td>12.500000</td>\n",
              "      <td>18.100000</td>\n",
              "      <td>0.000000</td>\n",
              "      <td>0.624000</td>\n",
              "      <td>6.623500</td>\n",
              "      <td>94.075000</td>\n",
              "      <td>5.188425</td>\n",
              "      <td>24.000000</td>\n",
              "      <td>666.000000</td>\n",
              "      <td>20.200000</td>\n",
              "      <td>396.225000</td>\n",
              "      <td>16.955000</td>\n",
              "    </tr>\n",
              "    <tr>\n",
              "      <th>max</th>\n",
              "      <td>88.976200</td>\n",
              "      <td>100.000000</td>\n",
              "      <td>27.740000</td>\n",
              "      <td>1.000000</td>\n",
              "      <td>0.871000</td>\n",
              "      <td>8.780000</td>\n",
              "      <td>100.000000</td>\n",
              "      <td>12.126500</td>\n",
              "      <td>24.000000</td>\n",
              "      <td>711.000000</td>\n",
              "      <td>22.000000</td>\n",
              "      <td>396.900000</td>\n",
              "      <td>37.970000</td>\n",
              "    </tr>\n",
              "  </tbody>\n",
              "</table>\n",
              "</div>"
            ],
            "text/plain": [
              "       tasa_criminalidad  terreno_residencial  proporcion_comercial  \\\n",
              "count         506.000000           506.000000            506.000000   \n",
              "mean            3.613524            11.363636             11.136779   \n",
              "std             8.601545            23.322453              6.860353   \n",
              "min             0.006320             0.000000              0.460000   \n",
              "25%             0.082045             0.000000              5.190000   \n",
              "50%             0.256510             0.000000              9.690000   \n",
              "75%             3.677083            12.500000             18.100000   \n",
              "max            88.976200           100.000000             27.740000   \n",
              "\n",
              "          lim_rio  oxido_nitrico  habitaciones  antiguedad  dist_empleo  \\\n",
              "count  506.000000     506.000000    506.000000  506.000000   506.000000   \n",
              "mean     0.069170       0.554695      6.284634   68.574901     3.795043   \n",
              "std      0.253994       0.115878      0.702617   28.148861     2.105710   \n",
              "min      0.000000       0.385000      3.561000    2.900000     1.129600   \n",
              "25%      0.000000       0.449000      5.885500   45.025000     2.100175   \n",
              "50%      0.000000       0.538000      6.208500   77.500000     3.207450   \n",
              "75%      0.000000       0.624000      6.623500   94.075000     5.188425   \n",
              "max      1.000000       0.871000      8.780000  100.000000    12.126500   \n",
              "\n",
              "       ind_carretera         tax  alumno_profesor           N  pct_estado  \n",
              "count     506.000000  506.000000       506.000000  506.000000  506.000000  \n",
              "mean        9.549407  408.237154        18.455534  356.674032   12.653063  \n",
              "std         8.707259  168.537116         2.164946   91.294864    7.141062  \n",
              "min         1.000000  187.000000        12.600000    0.320000    1.730000  \n",
              "25%         4.000000  279.000000        17.400000  375.377500    6.950000  \n",
              "50%         5.000000  330.000000        19.050000  391.440000   11.360000  \n",
              "75%        24.000000  666.000000        20.200000  396.225000   16.955000  \n",
              "max        24.000000  711.000000        22.000000  396.900000   37.970000  "
            ]
          },
          "execution_count": 19,
          "metadata": {},
          "output_type": "execute_result"
        }
      ],
      "source": [
        "df.describe()"
      ]
    },
    {
      "cell_type": "markdown",
      "metadata": {
        "id": "V-OL7oN-rxok"
      },
      "source": [
        "Revisar las condiciones del set de datos, hacer imputación de los datos faltantes y/o nulos, hacer limpieza de datos (quitar columnas, hacer merges, uniones, etc.)"
      ]
    },
    {
      "cell_type": "markdown",
      "metadata": {
        "id": "a3fp2QVBrxol"
      },
      "source": [
        "## Train, test split"
      ]
    },
    {
      "cell_type": "markdown",
      "metadata": {
        "id": "PutLAg29rxom"
      },
      "source": [
        "Dividir mis datos en la proporción de entrenamiento y prueba. Asignando mis variables predictivas a X y la variable a predecir (target) a Y"
      ]
    },
    {
      "cell_type": "code",
      "execution_count": null,
      "metadata": {
        "id": "8D5Rvo1Qrxom"
      },
      "outputs": [],
      "source": [
        "X = df.copy(deep=True)"
      ]
    },
    {
      "cell_type": "code",
      "execution_count": null,
      "metadata": {
        "id": "zxc1_Uk4rxom",
        "outputId": "93081719-7efa-4c94-beb1-429e162ce31e"
      },
      "outputs": [
        {
          "data": {
            "text/html": [
              "<div>\n",
              "<style scoped>\n",
              "    .dataframe tbody tr th:only-of-type {\n",
              "        vertical-align: middle;\n",
              "    }\n",
              "\n",
              "    .dataframe tbody tr th {\n",
              "        vertical-align: top;\n",
              "    }\n",
              "\n",
              "    .dataframe thead th {\n",
              "        text-align: right;\n",
              "    }\n",
              "</style>\n",
              "<table border=\"1\" class=\"dataframe\">\n",
              "  <thead>\n",
              "    <tr style=\"text-align: right;\">\n",
              "      <th></th>\n",
              "      <th>tasa_criminalidad</th>\n",
              "      <th>terreno_residencial</th>\n",
              "      <th>proporcion_comercial</th>\n",
              "      <th>lim_rio</th>\n",
              "      <th>oxido_nitrico</th>\n",
              "      <th>habitaciones</th>\n",
              "      <th>antiguedad</th>\n",
              "      <th>dist_empleo</th>\n",
              "      <th>ind_carretera</th>\n",
              "      <th>tax</th>\n",
              "      <th>alumno_profesor</th>\n",
              "      <th>N</th>\n",
              "      <th>pct_estado</th>\n",
              "    </tr>\n",
              "  </thead>\n",
              "  <tbody>\n",
              "    <tr>\n",
              "      <th>0</th>\n",
              "      <td>0.00632</td>\n",
              "      <td>18.0</td>\n",
              "      <td>2.31</td>\n",
              "      <td>0.0</td>\n",
              "      <td>0.538</td>\n",
              "      <td>6.575</td>\n",
              "      <td>65.2</td>\n",
              "      <td>4.0900</td>\n",
              "      <td>1.0</td>\n",
              "      <td>296.0</td>\n",
              "      <td>15.3</td>\n",
              "      <td>396.90</td>\n",
              "      <td>4.98</td>\n",
              "    </tr>\n",
              "    <tr>\n",
              "      <th>1</th>\n",
              "      <td>0.02731</td>\n",
              "      <td>0.0</td>\n",
              "      <td>7.07</td>\n",
              "      <td>0.0</td>\n",
              "      <td>0.469</td>\n",
              "      <td>6.421</td>\n",
              "      <td>78.9</td>\n",
              "      <td>4.9671</td>\n",
              "      <td>2.0</td>\n",
              "      <td>242.0</td>\n",
              "      <td>17.8</td>\n",
              "      <td>396.90</td>\n",
              "      <td>9.14</td>\n",
              "    </tr>\n",
              "    <tr>\n",
              "      <th>2</th>\n",
              "      <td>0.02729</td>\n",
              "      <td>0.0</td>\n",
              "      <td>7.07</td>\n",
              "      <td>0.0</td>\n",
              "      <td>0.469</td>\n",
              "      <td>7.185</td>\n",
              "      <td>61.1</td>\n",
              "      <td>4.9671</td>\n",
              "      <td>2.0</td>\n",
              "      <td>242.0</td>\n",
              "      <td>17.8</td>\n",
              "      <td>392.83</td>\n",
              "      <td>4.03</td>\n",
              "    </tr>\n",
              "    <tr>\n",
              "      <th>3</th>\n",
              "      <td>0.03237</td>\n",
              "      <td>0.0</td>\n",
              "      <td>2.18</td>\n",
              "      <td>0.0</td>\n",
              "      <td>0.458</td>\n",
              "      <td>6.998</td>\n",
              "      <td>45.8</td>\n",
              "      <td>6.0622</td>\n",
              "      <td>3.0</td>\n",
              "      <td>222.0</td>\n",
              "      <td>18.7</td>\n",
              "      <td>394.63</td>\n",
              "      <td>2.94</td>\n",
              "    </tr>\n",
              "    <tr>\n",
              "      <th>4</th>\n",
              "      <td>0.06905</td>\n",
              "      <td>0.0</td>\n",
              "      <td>2.18</td>\n",
              "      <td>0.0</td>\n",
              "      <td>0.458</td>\n",
              "      <td>7.147</td>\n",
              "      <td>54.2</td>\n",
              "      <td>6.0622</td>\n",
              "      <td>3.0</td>\n",
              "      <td>222.0</td>\n",
              "      <td>18.7</td>\n",
              "      <td>396.90</td>\n",
              "      <td>5.33</td>\n",
              "    </tr>\n",
              "  </tbody>\n",
              "</table>\n",
              "</div>"
            ],
            "text/plain": [
              "   tasa_criminalidad  terreno_residencial  proporcion_comercial  lim_rio  \\\n",
              "0            0.00632                 18.0                  2.31      0.0   \n",
              "1            0.02731                  0.0                  7.07      0.0   \n",
              "2            0.02729                  0.0                  7.07      0.0   \n",
              "3            0.03237                  0.0                  2.18      0.0   \n",
              "4            0.06905                  0.0                  2.18      0.0   \n",
              "\n",
              "   oxido_nitrico  habitaciones  antiguedad  dist_empleo  ind_carretera    tax  \\\n",
              "0          0.538         6.575        65.2       4.0900            1.0  296.0   \n",
              "1          0.469         6.421        78.9       4.9671            2.0  242.0   \n",
              "2          0.469         7.185        61.1       4.9671            2.0  242.0   \n",
              "3          0.458         6.998        45.8       6.0622            3.0  222.0   \n",
              "4          0.458         7.147        54.2       6.0622            3.0  222.0   \n",
              "\n",
              "   alumno_profesor       N  pct_estado  \n",
              "0             15.3  396.90        4.98  \n",
              "1             17.8  396.90        9.14  \n",
              "2             17.8  392.83        4.03  \n",
              "3             18.7  394.63        2.94  \n",
              "4             18.7  396.90        5.33  "
            ]
          },
          "execution_count": 21,
          "metadata": {},
          "output_type": "execute_result"
        }
      ],
      "source": [
        "X.head()"
      ]
    },
    {
      "cell_type": "code",
      "execution_count": null,
      "metadata": {
        "id": "Kw5JCCdlrxom"
      },
      "outputs": [],
      "source": [
        "Y = price['Valor_medio_usd'] #.copy(deep=True)"
      ]
    },
    {
      "cell_type": "code",
      "execution_count": null,
      "metadata": {
        "id": "kRjzeAn5rxom",
        "outputId": "f128dcc1-9ea7-427e-cacd-61cf967d193f"
      },
      "outputs": [
        {
          "data": {
            "text/plain": [
              "0    24.0\n",
              "1    21.6\n",
              "2    34.7\n",
              "3    33.4\n",
              "4    36.2\n",
              "Name: Valor_medio_usd, dtype: float64"
            ]
          },
          "execution_count": 23,
          "metadata": {},
          "output_type": "execute_result"
        }
      ],
      "source": [
        "Y.head() #El índice ya no lo considera como una columna dentro de la tabla"
      ]
    },
    {
      "cell_type": "code",
      "execution_count": null,
      "metadata": {
        "id": "MH9opLp8rxon",
        "outputId": "9f7b2f73-e2ff-4ea3-8f86-f923c9278f26"
      },
      "outputs": [
        {
          "data": {
            "text/plain": [
              "(506, 13)"
            ]
          },
          "execution_count": 24,
          "metadata": {},
          "output_type": "execute_result"
        }
      ],
      "source": [
        "X.shape"
      ]
    },
    {
      "cell_type": "code",
      "execution_count": null,
      "metadata": {
        "id": "VqFbPB2Xrxon",
        "outputId": "93cb5467-5d65-4bbb-dd76-93e6778381b1"
      },
      "outputs": [
        {
          "data": {
            "text/plain": [
              "(506,)"
            ]
          },
          "execution_count": 25,
          "metadata": {},
          "output_type": "execute_result"
        }
      ],
      "source": [
        "Y.shape"
      ]
    },
    {
      "cell_type": "code",
      "execution_count": null,
      "metadata": {
        "id": "JumaiJQ2rxon"
      },
      "outputs": [],
      "source": [
        "x_train, x_test, y_train, y_test = train_test_split(X, Y, test_size= 0.2, random_state=99)"
      ]
    },
    {
      "cell_type": "code",
      "execution_count": null,
      "metadata": {
        "id": "TwUBVDJPrxoo",
        "outputId": "e01a9382-2291-4145-ecc6-455c325e2464"
      },
      "outputs": [
        {
          "data": {
            "text/html": [
              "<div>\n",
              "<style scoped>\n",
              "    .dataframe tbody tr th:only-of-type {\n",
              "        vertical-align: middle;\n",
              "    }\n",
              "\n",
              "    .dataframe tbody tr th {\n",
              "        vertical-align: top;\n",
              "    }\n",
              "\n",
              "    .dataframe thead th {\n",
              "        text-align: right;\n",
              "    }\n",
              "</style>\n",
              "<table border=\"1\" class=\"dataframe\">\n",
              "  <thead>\n",
              "    <tr style=\"text-align: right;\">\n",
              "      <th></th>\n",
              "      <th>tasa_criminalidad</th>\n",
              "      <th>terreno_residencial</th>\n",
              "      <th>proporcion_comercial</th>\n",
              "      <th>lim_rio</th>\n",
              "      <th>oxido_nitrico</th>\n",
              "      <th>habitaciones</th>\n",
              "      <th>antiguedad</th>\n",
              "      <th>dist_empleo</th>\n",
              "      <th>ind_carretera</th>\n",
              "      <th>tax</th>\n",
              "      <th>alumno_profesor</th>\n",
              "      <th>N</th>\n",
              "      <th>pct_estado</th>\n",
              "    </tr>\n",
              "  </thead>\n",
              "  <tbody>\n",
              "    <tr>\n",
              "      <th>156</th>\n",
              "      <td>2.44668</td>\n",
              "      <td>0.0</td>\n",
              "      <td>19.58</td>\n",
              "      <td>0.0</td>\n",
              "      <td>0.871</td>\n",
              "      <td>5.272</td>\n",
              "      <td>94.0</td>\n",
              "      <td>1.7364</td>\n",
              "      <td>5.0</td>\n",
              "      <td>403.0</td>\n",
              "      <td>14.7</td>\n",
              "      <td>88.63</td>\n",
              "      <td>16.14</td>\n",
              "    </tr>\n",
              "    <tr>\n",
              "      <th>305</th>\n",
              "      <td>0.05479</td>\n",
              "      <td>33.0</td>\n",
              "      <td>2.18</td>\n",
              "      <td>0.0</td>\n",
              "      <td>0.472</td>\n",
              "      <td>6.616</td>\n",
              "      <td>58.1</td>\n",
              "      <td>3.3700</td>\n",
              "      <td>7.0</td>\n",
              "      <td>222.0</td>\n",
              "      <td>18.4</td>\n",
              "      <td>393.36</td>\n",
              "      <td>8.93</td>\n",
              "    </tr>\n",
              "    <tr>\n",
              "      <th>2</th>\n",
              "      <td>0.02729</td>\n",
              "      <td>0.0</td>\n",
              "      <td>7.07</td>\n",
              "      <td>0.0</td>\n",
              "      <td>0.469</td>\n",
              "      <td>7.185</td>\n",
              "      <td>61.1</td>\n",
              "      <td>4.9671</td>\n",
              "      <td>2.0</td>\n",
              "      <td>242.0</td>\n",
              "      <td>17.8</td>\n",
              "      <td>392.83</td>\n",
              "      <td>4.03</td>\n",
              "    </tr>\n",
              "    <tr>\n",
              "      <th>212</th>\n",
              "      <td>0.21719</td>\n",
              "      <td>0.0</td>\n",
              "      <td>10.59</td>\n",
              "      <td>1.0</td>\n",
              "      <td>0.489</td>\n",
              "      <td>5.807</td>\n",
              "      <td>53.8</td>\n",
              "      <td>3.6526</td>\n",
              "      <td>4.0</td>\n",
              "      <td>277.0</td>\n",
              "      <td>18.6</td>\n",
              "      <td>390.94</td>\n",
              "      <td>16.03</td>\n",
              "    </tr>\n",
              "    <tr>\n",
              "      <th>271</th>\n",
              "      <td>0.16211</td>\n",
              "      <td>20.0</td>\n",
              "      <td>6.96</td>\n",
              "      <td>0.0</td>\n",
              "      <td>0.464</td>\n",
              "      <td>6.240</td>\n",
              "      <td>16.3</td>\n",
              "      <td>4.4290</td>\n",
              "      <td>3.0</td>\n",
              "      <td>223.0</td>\n",
              "      <td>18.6</td>\n",
              "      <td>396.90</td>\n",
              "      <td>6.59</td>\n",
              "    </tr>\n",
              "  </tbody>\n",
              "</table>\n",
              "</div>"
            ],
            "text/plain": [
              "     tasa_criminalidad  terreno_residencial  proporcion_comercial  lim_rio  \\\n",
              "156            2.44668                  0.0                 19.58      0.0   \n",
              "305            0.05479                 33.0                  2.18      0.0   \n",
              "2              0.02729                  0.0                  7.07      0.0   \n",
              "212            0.21719                  0.0                 10.59      1.0   \n",
              "271            0.16211                 20.0                  6.96      0.0   \n",
              "\n",
              "     oxido_nitrico  habitaciones  antiguedad  dist_empleo  ind_carretera  \\\n",
              "156          0.871         5.272        94.0       1.7364            5.0   \n",
              "305          0.472         6.616        58.1       3.3700            7.0   \n",
              "2            0.469         7.185        61.1       4.9671            2.0   \n",
              "212          0.489         5.807        53.8       3.6526            4.0   \n",
              "271          0.464         6.240        16.3       4.4290            3.0   \n",
              "\n",
              "       tax  alumno_profesor       N  pct_estado  \n",
              "156  403.0             14.7   88.63       16.14  \n",
              "305  222.0             18.4  393.36        8.93  \n",
              "2    242.0             17.8  392.83        4.03  \n",
              "212  277.0             18.6  390.94       16.03  \n",
              "271  223.0             18.6  396.90        6.59  "
            ]
          },
          "execution_count": 32,
          "metadata": {},
          "output_type": "execute_result"
        }
      ],
      "source": [
        "x_train.head()"
      ]
    },
    {
      "cell_type": "code",
      "execution_count": null,
      "metadata": {
        "id": "rH5yJt31rxoo",
        "outputId": "76a3d755-0867-40c2-a7d4-510ef3b670c5"
      },
      "outputs": [
        {
          "data": {
            "text/plain": [
              "101.2"
            ]
          },
          "execution_count": 33,
          "metadata": {},
          "output_type": "execute_result"
        }
      ],
      "source": [
        "506*0.2"
      ]
    },
    {
      "cell_type": "code",
      "execution_count": null,
      "metadata": {
        "id": "agLlmZTurxoo",
        "outputId": "61b0448e-b895-4598-df4c-9267faf14b5d"
      },
      "outputs": [
        {
          "data": {
            "text/plain": [
              "(102, 13)"
            ]
          },
          "execution_count": 34,
          "metadata": {},
          "output_type": "execute_result"
        }
      ],
      "source": [
        "x_test.shape"
      ]
    },
    {
      "cell_type": "code",
      "execution_count": null,
      "metadata": {
        "id": "x-unt7Mnrxop",
        "outputId": "26363495-e0d1-4542-ada9-b368fd74f3d9"
      },
      "outputs": [
        {
          "data": {
            "text/plain": [
              "404.8"
            ]
          },
          "execution_count": 35,
          "metadata": {},
          "output_type": "execute_result"
        }
      ],
      "source": [
        "506*0.8"
      ]
    },
    {
      "cell_type": "code",
      "execution_count": null,
      "metadata": {
        "id": "gBWKMNzjrxop",
        "outputId": "36d8fe0b-0e56-4ced-f1d4-cce83244cc33"
      },
      "outputs": [
        {
          "data": {
            "text/plain": [
              "(404, 13)"
            ]
          },
          "execution_count": 36,
          "metadata": {},
          "output_type": "execute_result"
        }
      ],
      "source": [
        "x_train.shape"
      ]
    },
    {
      "cell_type": "markdown",
      "metadata": {
        "id": "aTdYe1h8rxop"
      },
      "source": [
        "# Entrenamiento del modelo"
      ]
    },
    {
      "cell_type": "code",
      "execution_count": null,
      "metadata": {
        "id": "ctG34VmRrxoq"
      },
      "outputs": [],
      "source": [
        "from sklearn import linear_model\n",
        "#from sklearn import DecisionTree"
      ]
    },
    {
      "cell_type": "code",
      "execution_count": null,
      "metadata": {
        "id": "PLNN7QMPrxoq"
      },
      "outputs": [],
      "source": [
        "lm = linear_model.LinearRegression() #Instanciamos el modelo\n",
        "#lm = DecisionTree.TreeRegressor()"
      ]
    },
    {
      "cell_type": "code",
      "execution_count": null,
      "metadata": {
        "id": "zpvp-izWrxoq"
      },
      "outputs": [],
      "source": [
        "model = lm.fit(x_train, y_train)"
      ]
    },
    {
      "cell_type": "code",
      "execution_count": null,
      "metadata": {
        "id": "u2qv5rSvrxor"
      },
      "outputs": [],
      "source": [
        "y_pred = lm.predict(x_test)"
      ]
    },
    {
      "cell_type": "code",
      "execution_count": null,
      "metadata": {
        "id": "JjFJrma9rxor",
        "outputId": "06b4f1f8-ddf0-4bad-a679-e1f4f5a2fd15"
      },
      "outputs": [
        {
          "data": {
            "text/plain": [
              "array([34.30470984, 34.82988624, 25.16108364, 24.30365005, 34.53326928,\n",
              "       20.00792418, -0.96025011, 16.67357788, 20.23064349, 18.33330249,\n",
              "       13.95186776, 18.83877217, 10.74660426,  7.01757302, 22.83005791,\n",
              "       20.19361722, 30.8842644 , 20.02802823, 31.67699555, 11.00695723,\n",
              "       17.40139425, 15.44620408, 25.07051142, 16.01033994, 15.55776634,\n",
              "       20.40518628, 35.39436975, 19.12476686, 20.86920908, 18.02526894,\n",
              "       34.76905925,  9.00317687, 33.06752075, 11.179285  , 19.02978059,\n",
              "       37.38643461, 29.14915379, 22.48358548, 20.72501706, 26.5911557 ,\n",
              "       30.87435546, 29.00016756, 24.63152414,  8.38637841, 21.83688845,\n",
              "       15.66681394, 17.74255121, 34.91315027, 28.17233714, 19.52634526,\n",
              "       20.68993771, 30.93905064, 21.51049815, 15.47113299, 20.28499152,\n",
              "       19.81393731,  7.83968543, 40.39861997, 14.04685112, 14.57642796,\n",
              "       -5.67940569, 33.60919797, 19.91558853, 22.77679722, 28.86450489,\n",
              "       32.29630513, 28.39753577, 24.68781436, 32.84414939, 23.4637779 ,\n",
              "        2.2129194 ,  9.7818502 , 25.22796306, 33.1826442 , 29.20734632,\n",
              "       26.73364798, 24.41037631, 23.56422589, 28.83713252, 20.31793855,\n",
              "       41.00722493, 35.11851004, 30.37148843, 26.41209006, 15.24794146,\n",
              "       24.6247449 , 19.0900713 , 27.44608911, 14.70703196, 19.55588574,\n",
              "       23.75075589, 41.53352501, 10.18339696, 20.46676548, 19.88345904,\n",
              "       21.93054548, 24.74787425, 28.44524947, 24.518577  , 35.55101367,\n",
              "       19.0717081 , 25.24995679])"
            ]
          },
          "execution_count": 42,
          "metadata": {},
          "output_type": "execute_result"
        }
      ],
      "source": [
        "y_pred"
      ]
    },
    {
      "cell_type": "code",
      "execution_count": null,
      "metadata": {
        "id": "gM4ojL_irxos",
        "outputId": "30ff0763-04fd-4ac1-d115-753f5d1c3d34"
      },
      "outputs": [
        {
          "data": {
            "text/plain": [
              "281    35.4\n",
              "273    35.2\n",
              "251    24.8\n",
              "329    22.6\n",
              "40     34.9\n",
              "       ... \n",
              "265    22.8\n",
              "72     22.8\n",
              "306    33.4\n",
              "484    20.6\n",
              "324    25.0\n",
              "Name: Valor_medio_usd, Length: 102, dtype: float64"
            ]
          },
          "execution_count": 43,
          "metadata": {},
          "output_type": "execute_result"
        }
      ],
      "source": [
        "y_test"
      ]
    },
    {
      "cell_type": "code",
      "execution_count": null,
      "metadata": {
        "id": "soUaAiEHrxos",
        "outputId": "25d19055-96f2-4187-de13-73f65021c863"
      },
      "outputs": [
        {
          "name": "stderr",
          "output_type": "stream",
          "text": [
            "/Users/fridaruh/opt/anaconda3/lib/python3.8/site-packages/seaborn/_decorators.py:36: FutureWarning: Pass the following variables as keyword args: x, y. From version 0.12, the only valid positional argument will be `data`, and passing other arguments without an explicit keyword will result in an error or misinterpretation.\n",
            "  warnings.warn(\n"
          ]
        },
        {
          "data": {
            "text/plain": [
              "<AxesSubplot:xlabel='Valor_medio_usd'>"
            ]
          },
          "execution_count": 44,
          "metadata": {},
          "output_type": "execute_result"
        },
        {
          "data": {
            "image/png": "[encoded data removed]",
            "text/plain": [
              "<Figure size 432x288 with 1 Axes>"
            ]
          },
          "metadata": {
            "needs_background": "light"
          },
          "output_type": "display_data"
        }
      ],
      "source": [
        "sns.regplot(y_test,y_pred )"
      ]
    },
    {
      "cell_type": "code",
      "execution_count": null,
      "metadata": {
        "id": "z_A1Aafmrxos",
        "outputId": "065210a0-614d-4282-88ea-c11a674e63e3"
      },
      "outputs": [
        {
          "data": {
            "text/plain": [
              "array([-1.23722939e-01,  4.80675979e-02,  2.10770545e-02,  1.91614625e+00,\n",
              "       -1.45214109e+01,  3.85567154e+00, -1.63543420e-05, -1.46536228e+00,\n",
              "        2.73513872e-01, -1.19356286e-02, -9.27515834e-01,  7.31312963e-03,\n",
              "       -5.72582953e-01])"
            ]
          },
          "execution_count": 45,
          "metadata": {},
          "output_type": "execute_result"
        }
      ],
      "source": [
        "model.coef_"
      ]
    },
    {
      "cell_type": "code",
      "execution_count": null,
      "metadata": {
        "id": "xpGKs3BMrxot",
        "outputId": "71f0953b-e2c3-4004-a631-f45fdf24ea4c"
      },
      "outputs": [
        {
          "data": {
            "text/plain": [
              "Index(['tasa_criminalidad', 'terreno_residencial', 'proporcion_comercial',\n",
              "       'lim_rio', 'oxido_nitrico', 'habitaciones', 'antiguedad', 'dist_empleo',\n",
              "       'ind_carretera', 'tax', 'alumno_profesor', 'N', 'pct_estado'],\n",
              "      dtype='object')"
            ]
          },
          "execution_count": 46,
          "metadata": {},
          "output_type": "execute_result"
        }
      ],
      "source": [
        "X.columns"
      ]
    },
    {
      "cell_type": "code",
      "execution_count": null,
      "metadata": {
        "id": "IwroOYy_rxot"
      },
      "outputs": [],
      "source": [
        "coef_parametro = pd.DataFrame(model.coef_, X.columns, columns=['Coef'])"
      ]
    },
    {
      "cell_type": "code",
      "execution_count": null,
      "metadata": {
        "id": "6rJQeulbrxot",
        "outputId": "35fd0f20-0241-4745-8e2a-8295dd47e98f"
      },
      "outputs": [
        {
          "data": {
            "text/html": [
              "<div>\n",
              "<style scoped>\n",
              "    .dataframe tbody tr th:only-of-type {\n",
              "        vertical-align: middle;\n",
              "    }\n",
              "\n",
              "    .dataframe tbody tr th {\n",
              "        vertical-align: top;\n",
              "    }\n",
              "\n",
              "    .dataframe thead th {\n",
              "        text-align: right;\n",
              "    }\n",
              "</style>\n",
              "<table border=\"1\" class=\"dataframe\">\n",
              "  <thead>\n",
              "    <tr style=\"text-align: right;\">\n",
              "      <th></th>\n",
              "      <th>Coef</th>\n",
              "    </tr>\n",
              "  </thead>\n",
              "  <tbody>\n",
              "    <tr>\n",
              "      <th>tasa_criminalidad</th>\n",
              "      <td>-0.123723</td>\n",
              "    </tr>\n",
              "    <tr>\n",
              "      <th>terreno_residencial</th>\n",
              "      <td>0.048068</td>\n",
              "    </tr>\n",
              "    <tr>\n",
              "      <th>proporcion_comercial</th>\n",
              "      <td>0.021077</td>\n",
              "    </tr>\n",
              "    <tr>\n",
              "      <th>lim_rio</th>\n",
              "      <td>1.916146</td>\n",
              "    </tr>\n",
              "    <tr>\n",
              "      <th>oxido_nitrico</th>\n",
              "      <td>-14.521411</td>\n",
              "    </tr>\n",
              "    <tr>\n",
              "      <th>habitaciones</th>\n",
              "      <td>3.855672</td>\n",
              "    </tr>\n",
              "    <tr>\n",
              "      <th>antiguedad</th>\n",
              "      <td>-0.000016</td>\n",
              "    </tr>\n",
              "    <tr>\n",
              "      <th>dist_empleo</th>\n",
              "      <td>-1.465362</td>\n",
              "    </tr>\n",
              "    <tr>\n",
              "      <th>ind_carretera</th>\n",
              "      <td>0.273514</td>\n",
              "    </tr>\n",
              "    <tr>\n",
              "      <th>tax</th>\n",
              "      <td>-0.011936</td>\n",
              "    </tr>\n",
              "    <tr>\n",
              "      <th>alumno_profesor</th>\n",
              "      <td>-0.927516</td>\n",
              "    </tr>\n",
              "    <tr>\n",
              "      <th>N</th>\n",
              "      <td>0.007313</td>\n",
              "    </tr>\n",
              "    <tr>\n",
              "      <th>pct_estado</th>\n",
              "      <td>-0.572583</td>\n",
              "    </tr>\n",
              "  </tbody>\n",
              "</table>\n",
              "</div>"
            ],
            "text/plain": [
              "                           Coef\n",
              "tasa_criminalidad     -0.123723\n",
              "terreno_residencial    0.048068\n",
              "proporcion_comercial   0.021077\n",
              "lim_rio                1.916146\n",
              "oxido_nitrico        -14.521411\n",
              "habitaciones           3.855672\n",
              "antiguedad            -0.000016\n",
              "dist_empleo           -1.465362\n",
              "ind_carretera          0.273514\n",
              "tax                   -0.011936\n",
              "alumno_profesor       -0.927516\n",
              "N                      0.007313\n",
              "pct_estado            -0.572583"
            ]
          },
          "execution_count": 48,
          "metadata": {},
          "output_type": "execute_result"
        }
      ],
      "source": [
        "coef_parametro"
      ]
    },
    {
      "cell_type": "code",
      "execution_count": null,
      "metadata": {
        "id": "f41dztlJrxot",
        "outputId": "73da9dcb-7ba5-4540-97ee-7a9b7f0e6b5e"
      },
      "outputs": [
        {
          "data": {
            "text/plain": [
              "35.31920202133202"
            ]
          },
          "execution_count": 49,
          "metadata": {},
          "output_type": "execute_result"
        }
      ],
      "source": [
        "lm.intercept_"
      ]
    },
    {
      "cell_type": "markdown",
      "metadata": {
        "id": "9HfxQeCarxou"
      },
      "source": [
        "Objetivo de score es acercarse a 1, tanto en train como en test"
      ]
    },
    {
      "cell_type": "code",
      "execution_count": null,
      "metadata": {
        "id": "J-QrRtCurxou",
        "outputId": "b9d3ef51-21ea-4212-935e-972256699ef2"
      },
      "outputs": [
        {
          "data": {
            "text/plain": [
              "0.6674690355194657"
            ]
          },
          "execution_count": 50,
          "metadata": {},
          "output_type": "execute_result"
        }
      ],
      "source": [
        "model.score(x_test,y_test)"
      ]
    },
    {
      "cell_type": "code",
      "execution_count": null,
      "metadata": {
        "id": "_G4XIiA-rxou",
        "outputId": "a6176d55-bd68-4930-ebb9-863f8a6a2e66"
      },
      "outputs": [
        {
          "data": {
            "text/plain": [
              "0.7576598542832372"
            ]
          },
          "execution_count": 51,
          "metadata": {},
          "output_type": "execute_result"
        }
      ],
      "source": [
        "model.score(x_train, y_train)"
      ]
    },
    {
      "cell_type": "markdown",
      "metadata": {
        "id": "kHhtrKVSrxov"
      },
      "source": [
        "Objetivo de R2 también será acercarse a 1"
      ]
    },
    {
      "cell_type": "code",
      "execution_count": null,
      "metadata": {
        "id": "Kr7Yat2xrxow"
      },
      "outputs": [],
      "source": [
        "from sklearn import metrics"
      ]
    },
    {
      "cell_type": "code",
      "execution_count": null,
      "metadata": {
        "id": "v2bi6DTrrxow",
        "outputId": "0aa124bb-0ec6-4280-f06a-6f6d830f8f6f"
      },
      "outputs": [
        {
          "data": {
            "text/plain": [
              "0.6674690355194657"
            ]
          },
          "execution_count": 53,
          "metadata": {},
          "output_type": "execute_result"
        }
      ],
      "source": [
        "metrics.r2_score(y_test, y_pred)"
      ]
    },
    {
      "cell_type": "code",
      "execution_count": null,
      "metadata": {
        "id": "8GkZwhzArxow"
      },
      "outputs": [],
      "source": []
    }
  ],
  "metadata": {
    "kernelspec": {
      "display_name": "Python 3",
      "language": "python",
      "name": "python3"
    },
    "language_info": {
      "codemirror_mode": {
        "name": "ipython",
        "version": 3
      },
      "file_extension": ".py",
      "mimetype": "text/x-python",
      "name": "python",
      "nbconvert_exporter": "python",
      "pygments_lexer": "ipython3",
      "version": "3.8.5"
    },
    "colab": {
      "provenance": [],
      "include_colab_link": true
    }
  },
  "nbformat": 4,
  "nbformat_minor": 0
}